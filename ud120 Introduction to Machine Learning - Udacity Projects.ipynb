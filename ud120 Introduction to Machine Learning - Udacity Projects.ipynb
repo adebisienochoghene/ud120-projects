{
 "cells": [
  {
   "cell_type": "code",
   "execution_count": null,
   "id": "cdf5d2f6",
   "metadata": {},
   "outputs": [
    {
     "name": "stdout",
     "output_type": "stream",
     "text": [
      "Checking for nltk\n",
      "Checking for numpy\n",
      "Checking for scipy\n",
      "Checking for sklearn\n",
      "Downloading the Enron dataset (this may take a while)\n",
      "To check on progress, you can cd up one level, then execute <ls -lthr>\n",
      "Enron dataset should be last item on the list, along with its current size\n",
      "Download will complete at about 1.82 GB\n"
     ]
    }
   ],
   "source": [
    "#!/usr/bin/python3\n",
    "\n",
    "print(\"Checking for nltk\")\n",
    "try:\n",
    "    import nltk\n",
    "\n",
    "except ImportError:\n",
    "    print(\"You should install nltk before continuing\")\n",
    "\n",
    "print(\"Checking for numpy\")\n",
    "try:\n",
    "    import numpy\n",
    "except ImportError:\n",
    "    print(\"You should install numpy before continuing\")\n",
    "\n",
    "print(\"Checking for scipy\")\n",
    "try:\n",
    "    import scipy\n",
    "except:\n",
    "    print(\"You should install scipy before continuing\")\n",
    "\n",
    "print(\"Checking for sklearn\")\n",
    "try:\n",
    "    import sklearn\n",
    "except:\n",
    "    print(\"You should install sklearn before continuing\")\n",
    "\n",
    "print(\"Downloading the Enron dataset (this may take a while)\")\n",
    "print(\"To check on progress, you can cd up one level, then execute <ls -lthr>\")\n",
    "print(\"Enron dataset should be last item on the list, along with its current size\")\n",
    "print(\"Download will complete at about 1.82 GB\")\n",
    "\n",
    "import requests\n",
    "url = \"https://www.cs.cmu.edu/~./enron/enron_mail_20150507.tar.gz\"\n",
    "filename = \"../enron_mail_20150507.tar.gz\"\n",
    "with open(filename, \"wb\") as f:\n",
    "    r = requests.get(url)\n",
    "    f.write(r.content)\n",
    "print(\"Download Complete!\")\n",
    "\n",
    "print(\"Unzipping Enron dataset (This may take a while)\")\n",
    "import tarfile\n",
    "tfile = tarfile.open(\"../enron_mail_20150507.tar.gz\")\n",
    "tfile.extractall(\".\")\n",
    "tfile.close()\n",
    "\n",
    "print(\"You're ready to go!\")\n",
    "\n"
   ]
  },
  {
   "cell_type": "code",
   "execution_count": 1,
   "id": "88ff15e0",
   "metadata": {},
   "outputs": [],
   "source": [
    "#!/usr/bin/python3\n",
    "\n",
    "import joblib\n",
    "import numpy\n",
    "\n",
    "from sklearn.model_selection import train_test_split\n",
    "from sklearn.feature_extraction.text import TfidfVectorizer\n",
    "from sklearn.feature_selection import SelectPercentile, f_classif\n",
    "\n",
    "\n",
    "def preprocess(words_file = \"tools/word_data.pkl\", authors_file=\"email_authors.pkl\"):\n",
    "    \"\"\" \n",
    "        this function takes a pre-made list of email texts (by default word_data.pkl)\n",
    "        and the corresponding authors (by default email_authors.pkl) and performs\n",
    "        a number of preprocessing steps:\n",
    "            -- splits into training/testing sets (10% testing)\n",
    "            -- vectorizes into tfidf matrix\n",
    "            -- selects/keeps most helpful features\n",
    "\n",
    "        after this, the feaures and labels are put into numpy arrays, which play nice with sklearn functions\n",
    "\n",
    "        4 objects are returned:\n",
    "            -- training/testing features\n",
    "            -- training/testing labels\n",
    "\n",
    "    \"\"\"\n",
    "\n",
    "    ### the words (features) and authors (labels), already largely preprocessed\n",
    "    ### this preprocessing will be repeated in the text learning mini-project\n",
    "    authors_file_handler = open(authors_file, \"rb\")\n",
    "    authors = joblib.load(authors_file_handler)\n",
    "\n",
    "\n",
    "    words_file_handler = open(words_file, \"rb\")\n",
    "    word_data = joblib.load(words_file_handler)\n",
    "\n",
    "    ### test_size is the percentage of events assigned to the test set\n",
    "    ### (remainder go into training)\n",
    "    features_train, features_test, labels_train, labels_test = train_test_split(word_data, authors, test_size=0.1, random_state=42)\n",
    "\n",
    "\n",
    "    ### text vectorization--go from strings to lists of numbers\n",
    "    vectorizer = TfidfVectorizer(sublinear_tf=True, max_df=0.5, stop_words='english')\n",
    "    features_train_transformed = vectorizer.fit_transform(features_train)\n",
    "    features_test_transformed  = vectorizer.transform(features_test)\n",
    "\n",
    "\n",
    "\n",
    "    ### feature selection, because text is super high dimensional and \n",
    "    ### can be really computationally chewy as a result\n",
    "    selector = SelectPercentile(f_classif, percentile=10)\n",
    "    selector.fit(features_train_transformed, labels_train)\n",
    "    features_train_transformed = selector.transform(features_train_transformed).toarray()\n",
    "    features_test_transformed  = selector.transform(features_test_transformed).toarray()\n",
    "\n",
    "    ### info on the data\n",
    "    print(\"No. of Chris training emails : \", sum(labels_train))\n",
    "    print(\"No. of Sara training emails : \", len(labels_train)-sum(labels_train))\n",
    "    \n",
    "    return features_train_transformed, features_test_transformed, labels_train, labels_test\n"
   ]
  },
  {
   "cell_type": "code",
   "execution_count": 4,
   "id": "93fd775c",
   "metadata": {},
   "outputs": [
    {
     "name": "stdout",
     "output_type": "stream",
     "text": [
      "No. of Chris training emails :  7936\n",
      "No. of Sara training emails :  7884\n",
      "Training Time: 0.589 s\n",
      "Predicting Time: 0.063 s\n"
     ]
    }
   ],
   "source": [
    "#!/usr/bin/python3\n",
    "\n",
    "\"\"\" \n",
    "    This is the code to accompany the Lesson 1 (Naive Bayes) mini-project. \n",
    "\n",
    "    Use a Naive Bayes Classifier to identify emails by their authors\n",
    "    \n",
    "    authors and labels:\n",
    "    Sara has label 0\n",
    "    Chris has label 1\n",
    "\"\"\"\n",
    "    \n",
    "import sys\n",
    "from time import time\n",
    "sys.path.append(\"../tools/\")\n",
    "\n",
    "### features_train and features_test are the features for the training\n",
    "### and testing datasets, respectively\n",
    "### labels_train and labels_test are the corresponding item labels\n",
    "features_train, features_test, labels_train, labels_test = preprocess()\n",
    "\n",
    "\n",
    "##############################################################\n",
    "# Enter Your Code Here\n",
    "from sklearn.naive_bayes import GaussianNB\n",
    "clf=GaussianNB()\n",
    "#fit model to classifier\n",
    "clf.fit(features_train, labels_train)\n",
    "#predict on test data\n",
    "y_pred = clf.predict(features_test)\n",
    "\n",
    "\n",
    "##############################################################\n",
    "\n",
    "##############################################################\n",
    "'''\n",
    "You Will be Required to record time for Training and Predicting \n",
    "The Code Given on Udacity Website is in Python-2\n",
    "The Following Code is Python-3 version of the same code\n",
    "'''\n",
    "\n",
    "t0 = time()\n",
    "clf.fit(features_train, labels_train)\n",
    "print(\"Training Time:\", round(time()-t0, 3), \"s\")\n",
    "\n",
    "t0 = time()\n",
    "clf.predict(features_test)\n",
    "print(\"Predicting Time:\", round(time()-t0, 3), \"s\")\n",
    "\n",
    "##############################################################"
   ]
  },
  {
   "cell_type": "code",
   "execution_count": 7,
   "id": "3101d9c8",
   "metadata": {},
   "outputs": [
    {
     "data": {
      "text/plain": [
       "0.9732650739476678"
      ]
     },
     "execution_count": 7,
     "metadata": {},
     "output_type": "execute_result"
    }
   ],
   "source": [
    "#accuracy of naive bayes classifier\n",
    "from sklearn.metrics import accuracy_score\n",
    "acc = accuracy_score(y_pred, labels_test)\n",
    "acc"
   ]
  },
  {
   "cell_type": "code",
   "execution_count": 8,
   "id": "c6ca9237",
   "metadata": {},
   "outputs": [
    {
     "data": {
      "text/plain": [
       "'SVM\\nSUPPORT VECTOR MACHINES\\n'"
      ]
     },
     "execution_count": 8,
     "metadata": {},
     "output_type": "execute_result"
    }
   ],
   "source": [
    "'''SVM\n",
    "SUPPORT VECTOR MACHINES\n",
    "'''"
   ]
  },
  {
   "cell_type": "code",
   "execution_count": 13,
   "id": "08c72a03",
   "metadata": {},
   "outputs": [
    {
     "name": "stdout",
     "output_type": "stream",
     "text": [
      "No. of Chris training emails :  7936\n",
      "No. of Sara training emails :  7884\n",
      "Training Time: 65.062 s\n",
      "Predicting Time: 7.182 s\n"
     ]
    }
   ],
   "source": [
    "#!/usr/bin/python3\n",
    "\n",
    "\"\"\" \n",
    "    This is the code to accompany the Lesson 2 (SVM) mini-project.\n",
    "\n",
    "    Use a SVM to identify emails from the Enron corpus by their authors:    \n",
    "    Sara has label 0\n",
    "    Chris has label 1\n",
    "\"\"\"\n",
    "    \n",
    "import sys\n",
    "from time import time\n",
    "sys.path.append(\"../tools/\")\n",
    "#from email_preprocess import preprocess\n",
    "\n",
    "\n",
    "### features_train and features_test are the features for the training\n",
    "### and testing datasets, respectively\n",
    "### labels_train and labels_test are the corresponding item labels\n",
    "features_train, features_test, labels_train, labels_test = preprocess()\n",
    "\n",
    "\n",
    "#########################################################\n",
    "### your code goes here ###\n",
    "from sklearn.svm import SVC\n",
    "clf = SVC(kernel='linear')\n",
    "\n",
    "clf.fit(features_train, labels_train)\n",
    "clf.predict(features_test)\n",
    "\n",
    "#########################################################\n",
    "\n",
    "#########################################################\n",
    "'''\n",
    "You'll be Provided similar code in the Quiz\n",
    "But the Code provided in Quiz has an Indexing issue\n",
    "The Code Below solves that issue, So use this one\n",
    "'''\n",
    "\n",
    "#features_train = features_train[:int(len(features_train)/100)]\n",
    "#labels_train = labels_train[:int(len(labels_train)/100)]\n",
    "\n",
    "#########################################################\n",
    "t0 = time()\n",
    "clf.fit(features_train, labels_train)\n",
    "print(\"Training Time:\", round(time()-t0, 3), \"s\")\n",
    "\n",
    "t0 = time()\n",
    "clf.predict(features_test)\n",
    "print(\"Predicting Time:\", round(time()-t0, 3), \"s\")"
   ]
  },
  {
   "cell_type": "code",
   "execution_count": 10,
   "id": "5a3d94fe",
   "metadata": {},
   "outputs": [
    {
     "data": {
      "text/plain": [
       "0.9840728100113766"
      ]
     },
     "execution_count": 10,
     "metadata": {},
     "output_type": "execute_result"
    }
   ],
   "source": [
    "#Accuracy of SVC classifier\n",
    "acc = accuracy_score(clf.predict(features_test), labels_test)\n",
    "acc"
   ]
  },
  {
   "cell_type": "code",
   "execution_count": null,
   "id": "c10b6cd9",
   "metadata": {},
   "outputs": [],
   "source": [
    "'''One way to speed up an algorithm is to train it on a smaller training dataset. \n",
    "The tradeoff is that the accuracy almost always goes down when you do this. \n",
    "Let’s explore this more concretely: add in the following two lines immediately before training your classifier.\n",
    "\n",
    "features_train = features_train[:len(features_train)/100]\n",
    "labels_train = labels_train[:len(labels_train)/100]\n",
    "\n",
    "These lines effectively slice the training dataset down to 1% of its original size, \n",
    "tossing out 99% of the training data. You can leave all other code unchanged. What’s the accuracy now?'''"
   ]
  },
  {
   "cell_type": "code",
   "execution_count": 14,
   "id": "6515c4fa",
   "metadata": {},
   "outputs": [
    {
     "name": "stdout",
     "output_type": "stream",
     "text": [
      "No. of Chris training emails :  7936\n",
      "No. of Sara training emails :  7884\n",
      "Training Time: 0.022 s\n",
      "Predicting Time: 0.213 s\n"
     ]
    }
   ],
   "source": [
    "#!/usr/bin/python3\n",
    "\n",
    "\"\"\" \n",
    "    This is the code to accompany the Lesson 2 (SVM) mini-project.\n",
    "\n",
    "    Use a SVM to identify emails from the Enron corpus by their authors:    \n",
    "    Sara has label 0\n",
    "    Chris has label 1\n",
    "\"\"\"\n",
    "    \n",
    "import sys\n",
    "from time import time\n",
    "sys.path.append(\"../tools/\")\n",
    "#from email_preprocess import preprocess\n",
    "\n",
    "\n",
    "### features_train and features_test are the features for the training\n",
    "### and testing datasets, respectively\n",
    "### labels_train and labels_test are the corresponding item labels\n",
    "features_train, features_test, labels_train, labels_test = preprocess()\n",
    "\n",
    "\n",
    "#########################################################\n",
    "### your code goes here ###\n",
    "from sklearn.svm import SVC\n",
    "clf = SVC(kernel='linear')\n",
    "\n",
    "clf.fit(features_train, labels_train)\n",
    "clf.predict(features_test)\n",
    "\n",
    "#########################################################\n",
    "\n",
    "#########################################################\n",
    "'''\n",
    "You'll be Provided similar code in the Quiz\n",
    "But the Code provided in Quiz has an Indexing issue\n",
    "The Code Below solves that issue, So use this one\n",
    "'''\n",
    "\n",
    "features_train = features_train[:int(len(features_train)/100)]\n",
    "labels_train = labels_train[:int(len(labels_train)/100)]\n",
    "\n",
    "#########################################################\n",
    "t0 = time()\n",
    "clf.fit(features_train, labels_train)\n",
    "print(\"Training Time:\", round(time()-t0, 3), \"s\")\n",
    "\n",
    "t0 = time()\n",
    "clf.predict(features_test)\n",
    "print(\"Predicting Time:\", round(time()-t0, 3), \"s\")"
   ]
  },
  {
   "cell_type": "code",
   "execution_count": 15,
   "id": "86d12966",
   "metadata": {},
   "outputs": [
    {
     "data": {
      "text/plain": [
       "0.8845278725824801"
      ]
     },
     "execution_count": 15,
     "metadata": {},
     "output_type": "execute_result"
    }
   ],
   "source": [
    "#Accuracy of SVC classifier\n",
    "acc = accuracy_score(clf.predict(features_test), labels_test)\n",
    "acc"
   ]
  },
  {
   "cell_type": "code",
   "execution_count": 16,
   "id": "eaf35fe4",
   "metadata": {},
   "outputs": [
    {
     "data": {
      "text/plain": [
       "'Keep the training set slice code from the last quiz, \\nso that you are still training on only 1% of the full training set. \\nChange the kernel of your SVM to “rbf”. What’s the accuracy now, with this more complex kernel?'"
      ]
     },
     "execution_count": 16,
     "metadata": {},
     "output_type": "execute_result"
    }
   ],
   "source": [
    "'''Keep the training set slice code from the last quiz, \n",
    "so that you are still training on only 1% of the full training set. \n",
    "Change the kernel of your SVM to “rbf”. What’s the accuracy now, with this more complex kernel?'''"
   ]
  },
  {
   "cell_type": "code",
   "execution_count": 21,
   "id": "4c733456",
   "metadata": {},
   "outputs": [
    {
     "name": "stdout",
     "output_type": "stream",
     "text": [
      "No. of Chris training emails :  7936\n",
      "No. of Sara training emails :  7884\n"
     ]
    },
    {
     "data": {
      "text/plain": [
       "\"\\nYou'll be Provided similar code in the Quiz\\nBut the Code provided in Quiz has an Indexing issue\\nThe Code Below solves that issue, So use this one\\n\""
      ]
     },
     "execution_count": 21,
     "metadata": {},
     "output_type": "execute_result"
    }
   ],
   "source": [
    "#!/usr/bin/python3\n",
    "\n",
    "\"\"\" \n",
    "    This is the code to accompany the Lesson 2 (SVM) mini-project.\n",
    "\n",
    "    Use a SVM to identify emails from the Enron corpus by their authors:    \n",
    "    Sara has label 0\n",
    "    Chris has label 1\n",
    "\"\"\"\n",
    "    \n",
    "import sys\n",
    "from time import time\n",
    "sys.path.append(\"../tools/\")\n",
    "#from email_preprocess import preprocess\n",
    "\n",
    "\n",
    "### features_train and features_test are the features for the training\n",
    "### and testing datasets, respectively\n",
    "### labels_train and labels_test are the corresponding item labels\n",
    "features_train, features_test, labels_train, labels_test = preprocess()\n",
    "\n",
    "features_train = features_train[:int(len(features_train)/100)]\n",
    "labels_train = labels_train[:int(len(labels_train)/100)]\n",
    "#########################################################\n",
    "### your code goes here ###\n",
    "from sklearn.svm import SVC\n",
    "clf = SVC(kernel='rbf')\n",
    "\n",
    "clf.fit(features_train, labels_train)\n",
    "clf.predict(features_test)\n",
    "\n",
    "#########################################################\n",
    "\n",
    "#########################################################\n",
    "'''\n",
    "You'll be Provided similar code in the Quiz\n",
    "But the Code provided in Quiz has an Indexing issue\n",
    "The Code Below solves that issue, So use this one\n",
    "'''\n",
    "\n",
    "\n",
    "\n",
    "#########################################################\n",
    "#t0 = time()\n",
    "#clf.fit(features_train, labels_train)\n",
    "#print(\"Training Time:\", round(time()-t0, 3), \"s\")\n",
    "\n",
    "#t0 = time()\n",
    "#clf.predict(features_test)\n",
    "#print(\"Predicting Time:\", round(time()-t0, 3), \"s\")"
   ]
  },
  {
   "cell_type": "code",
   "execution_count": 22,
   "id": "88a01f4c",
   "metadata": {},
   "outputs": [
    {
     "data": {
      "text/plain": [
       "0.8953356086461889"
      ]
     },
     "execution_count": 22,
     "metadata": {},
     "output_type": "execute_result"
    }
   ],
   "source": [
    "#Accuracy of SVC classifier\n",
    "acc = accuracy_score(clf.predict(features_test), labels_test)\n",
    "acc"
   ]
  },
  {
   "cell_type": "code",
   "execution_count": 23,
   "id": "cd1647ff",
   "metadata": {},
   "outputs": [
    {
     "name": "stdout",
     "output_type": "stream",
     "text": [
      "No. of Chris training emails :  7936\n",
      "No. of Sara training emails :  7884\n",
      "0.8998862343572241\n"
     ]
    },
    {
     "data": {
      "text/plain": [
       "\"\\nYou'll be Provided similar code in the Quiz\\nBut the Code provided in Quiz has an Indexing issue\\nThe Code Below solves that issue, So use this one\\n\""
      ]
     },
     "execution_count": 23,
     "metadata": {},
     "output_type": "execute_result"
    }
   ],
   "source": [
    "#!/usr/bin/python3\n",
    "\n",
    "\"\"\" \n",
    "    This is the code to accompany the Lesson 2 (SVM) mini-project.\n",
    "\n",
    "    Use a SVM to identify emails from the Enron corpus by their authors:    \n",
    "    Sara has label 0\n",
    "    Chris has label 1\n",
    "\"\"\"\n",
    "    \n",
    "import sys\n",
    "from time import time\n",
    "sys.path.append(\"../tools/\")\n",
    "#from email_preprocess import preprocess\n",
    "\n",
    "\n",
    "### features_train and features_test are the features for the training\n",
    "### and testing datasets, respectively\n",
    "### labels_train and labels_test are the corresponding item labels\n",
    "features_train, features_test, labels_train, labels_test = preprocess()\n",
    "\n",
    "features_train = features_train[:int(len(features_train)/100)]\n",
    "labels_train = labels_train[:int(len(labels_train)/100)]\n",
    "#########################################################\n",
    "### your code goes here ###\n",
    "from sklearn.svm import SVC\n",
    "clf = SVC(kernel='rbf',C =10)\n",
    "\n",
    "clf.fit(features_train, labels_train)\n",
    "clf.predict(features_test)\n",
    "acc = accuracy_score(clf.predict(features_test), labels_test)\n",
    "print(acc)\n",
    "#########################################################\n",
    "\n",
    "#########################################################\n",
    "'''\n",
    "You'll be Provided similar code in the Quiz\n",
    "But the Code provided in Quiz has an Indexing issue\n",
    "The Code Below solves that issue, So use this one\n",
    "'''\n",
    "\n",
    "\n",
    "\n",
    "#########################################################\n",
    "#t0 = time()\n",
    "#clf.fit(features_train, labels_train)\n",
    "#print(\"Training Time:\", round(time()-t0, 3), \"s\")\n",
    "\n",
    "#t0 = time()\n",
    "#clf.predict(features_test)\n",
    "#print(\"Predicting Time:\", round(time()-t0, 3), \"s\")"
   ]
  },
  {
   "cell_type": "code",
   "execution_count": 25,
   "id": "87ac30f0",
   "metadata": {},
   "outputs": [
    {
     "name": "stdout",
     "output_type": "stream",
     "text": [
      "No. of Chris training emails :  7936\n",
      "No. of Sara training emails :  7884\n",
      "0.8998862343572241\n"
     ]
    },
    {
     "data": {
      "text/plain": [
       "\"\\nYou'll be Provided similar code in the Quiz\\nBut the Code provided in Quiz has an Indexing issue\\nThe Code Below solves that issue, So use this one\\n\""
      ]
     },
     "execution_count": 25,
     "metadata": {},
     "output_type": "execute_result"
    }
   ],
   "source": [
    "#!/usr/bin/python3\n",
    "\n",
    "\"\"\" \n",
    "    This is the code to accompany the Lesson 2 (SVM) mini-project.\n",
    "\n",
    "    Use a SVM to identify emails from the Enron corpus by their authors:    \n",
    "    Sara has label 0\n",
    "    Chris has label 1\n",
    "\"\"\"\n",
    "    \n",
    "import sys\n",
    "from time import time\n",
    "sys.path.append(\"../tools/\")\n",
    "#from email_preprocess import preprocess\n",
    "\n",
    "\n",
    "### features_train and features_test are the features for the training\n",
    "### and testing datasets, respectively\n",
    "### labels_train and labels_test are the corresponding item labels\n",
    "features_train, features_test, labels_train, labels_test = preprocess()\n",
    "\n",
    "features_train = features_train[:int(len(features_train)/100)]\n",
    "labels_train = labels_train[:int(len(labels_train)/100)]\n",
    "#########################################################\n",
    "### your code goes here ###\n",
    "from sklearn.svm import SVC\n",
    "clf = SVC(kernel='rbf',C =10000)\n",
    "\n",
    "clf.fit(features_train, labels_train)\n",
    "clf.predict(features_test)\n",
    "acc = accuracy_score(clf.predict(features_test), labels_test)\n",
    "print(acc)\n",
    "#########################################################\n",
    "\n",
    "#########################################################\n",
    "'''\n",
    "You'll be Provided similar code in the Quiz\n",
    "But the Code provided in Quiz has an Indexing issue\n",
    "The Code Below solves that issue, So use this one\n",
    "'''\n",
    "\n",
    "\n",
    "\n",
    "#########################################################\n",
    "#t0 = time()\n",
    "#clf.fit(features_train, labels_train)\n",
    "#print(\"Training Time:\", round(time()-t0, 3), \"s\")\n",
    "\n",
    "#t0 = time()\n",
    "#clf.predict(features_test)\n",
    "#print(\"Predicting Time:\", round(time()-t0, 3), \"s\")"
   ]
  },
  {
   "cell_type": "code",
   "execution_count": 26,
   "id": "ec8b608f",
   "metadata": {},
   "outputs": [
    {
     "name": "stdout",
     "output_type": "stream",
     "text": [
      "No. of Chris training emails :  7936\n",
      "No. of Sara training emails :  7884\n",
      "0.9960182025028441\n"
     ]
    },
    {
     "data": {
      "text/plain": [
       "\"\\nYou'll be Provided similar code in the Quiz\\nBut the Code provided in Quiz has an Indexing issue\\nThe Code Below solves that issue, So use this one\\n\""
      ]
     },
     "execution_count": 26,
     "metadata": {},
     "output_type": "execute_result"
    }
   ],
   "source": [
    "#!/usr/bin/python3\n",
    "\n",
    "\"\"\" \n",
    "    This is the code to accompany the Lesson 2 (SVM) mini-project.\n",
    "\n",
    "    Use a SVM to identify emails from the Enron corpus by their authors:    \n",
    "    Sara has label 0\n",
    "    Chris has label 1\n",
    "\"\"\"\n",
    "    \n",
    "import sys\n",
    "from time import time\n",
    "sys.path.append(\"../tools/\")\n",
    "#from email_preprocess import preprocess\n",
    "\n",
    "\n",
    "### features_train and features_test are the features for the training\n",
    "### and testing datasets, respectively\n",
    "### labels_train and labels_test are the corresponding item labels\n",
    "features_train, features_test, labels_train, labels_test = preprocess()\n",
    "\n",
    "#########################################################\n",
    "### your code goes here ###\n",
    "from sklearn.svm import SVC\n",
    "clf = SVC(kernel='rbf',C =10000)\n",
    "\n",
    "clf.fit(features_train, labels_train)\n",
    "clf.predict(features_test)\n",
    "acc = accuracy_score(clf.predict(features_test), labels_test)\n",
    "print(acc)\n",
    "#########################################################\n",
    "\n",
    "#########################################################\n",
    "'''\n",
    "You'll be Provided similar code in the Quiz\n",
    "But the Code provided in Quiz has an Indexing issue\n",
    "The Code Below solves that issue, So use this one\n",
    "'''\n",
    "\n",
    "\n",
    "\n",
    "#########################################################\n",
    "#t0 = time()\n",
    "#clf.fit(features_train, labels_train)\n",
    "#print(\"Training Time:\", round(time()-t0, 3), \"s\")\n",
    "\n",
    "#t0 = time()\n",
    "#clf.predict(features_test)\n",
    "#print(\"Predicting Time:\", round(time()-t0, 3), \"s\")"
   ]
  },
  {
   "cell_type": "code",
   "execution_count": null,
   "id": "02c569a3",
   "metadata": {},
   "outputs": [],
   "source": [
    "'''Decision Trees\n",
    "\n",
    "In this project, we will again try to identify the authors in a body of emails, \n",
    "this time using a decision tree. The starter code is in decision_tree/dt_author_id.py.\n",
    "\n",
    "Get the data for this mini project from here.\n",
    "\n",
    "Once again, you'll do the mini-project on your own computer and enter your answers in the web browser. \n",
    "You can find the instructions for the decision tree mini-project here.\n",
    "\n",
    "Using the starter code in decision_tree/dt_author_id.py, get a decision tree up and running as a classifier, \n",
    "setting min_samples_split=40. \n",
    "It will probably take a while to train. What’s the accuracy?\n",
    "'''"
   ]
  },
  {
   "cell_type": "code",
   "execution_count": 27,
   "id": "5a4ec4c6",
   "metadata": {},
   "outputs": [
    {
     "name": "stdout",
     "output_type": "stream",
     "text": [
      "No. of Chris training emails :  7936\n",
      "No. of Sara training emails :  7884\n",
      "0.9761092150170648\n"
     ]
    }
   ],
   "source": [
    "#!/usr/bin/python\n",
    "\n",
    "\"\"\" \n",
    "    This is the code to accaompany the Lesson 3 (decision tree) mini-project.\n",
    "\n",
    "    Use a Decision Tree to identify emails from the Enron corpus by author:    \n",
    "    Sara has label 0\n",
    "    Chris has label 1\n",
    "\"\"\"\n",
    "    \n",
    "import sys\n",
    "from time import time\n",
    "sys.path.append(\"../tools/\")\n",
    "#from email_preprocess import preprocess\n",
    "\n",
    "\n",
    "### features_train and features_test are the features for the training\n",
    "### and testing datasets, respectively\n",
    "### labels_train and labels_test are the corresponding item labels\n",
    "features_train, features_test, labels_train, labels_test = preprocess()\n",
    "\n",
    "\n",
    "\n",
    "\n",
    "#########################################################\n",
    "### your code goes here ###\n",
    "from sklearn.tree import DecisionTreeClassifier\n",
    "clf=DecisionTreeClassifier(min_samples_split = 40, random_state=42)\n",
    "clf.fit(features_train, labels_train)\n",
    "clf.predict(features_test)\n",
    "acc = accuracy_score(clf.predict(features_test), labels_test)\n",
    "print(acc)\n",
    "\n",
    "#########################################################\n",
    "\n",
    "\n"
   ]
  },
  {
   "cell_type": "code",
   "execution_count": 28,
   "id": "18beb3f3",
   "metadata": {},
   "outputs": [
    {
     "data": {
      "text/plain": [
       "3785"
      ]
     },
     "execution_count": 28,
     "metadata": {},
     "output_type": "execute_result"
    }
   ],
   "source": [
    "'''What's the number of features in your data? \n",
    "(Hint: the data is organized into a numpy array where the number of rows is the number of data points \n",
    "and the number of columns is the number of features; so to extract this number, \n",
    "use a line of code like len(features_train[0]).)'''\n",
    "\n",
    "len(features_train[0])"
   ]
  },
  {
   "cell_type": "code",
   "execution_count": 29,
   "id": "7b574675",
   "metadata": {},
   "outputs": [],
   "source": [
    "#CHANGE PREPROCESS\n",
    "'''go into ../tools/email_preprocess.py, and find the line of code that looks like this:\n",
    "\n",
    "selector = SelectPercentile(f_classif, percentile=10)\n",
    "\n",
    "Change percentile from 10 to 1, and rerun dt_author_id.py. What’s the number of features now?'''\n",
    "\n",
    "#!/usr/bin/python3\n",
    "\n",
    "import joblib\n",
    "import numpy\n",
    "\n",
    "from sklearn.model_selection import train_test_split\n",
    "from sklearn.feature_extraction.text import TfidfVectorizer\n",
    "from sklearn.feature_selection import SelectPercentile, f_classif\n",
    "\n",
    "\n",
    "def preprocess(words_file = \"tools/word_data.pkl\", authors_file=\"email_authors.pkl\"):\n",
    "    \"\"\" \n",
    "        this function takes a pre-made list of email texts (by default word_data.pkl)\n",
    "        and the corresponding authors (by default email_authors.pkl) and performs\n",
    "        a number of preprocessing steps:\n",
    "            -- splits into training/testing sets (10% testing)\n",
    "            -- vectorizes into tfidf matrix\n",
    "            -- selects/keeps most helpful features\n",
    "\n",
    "        after this, the feaures and labels are put into numpy arrays, which play nice with sklearn functions\n",
    "\n",
    "        4 objects are returned:\n",
    "            -- training/testing features\n",
    "            -- training/testing labels\n",
    "\n",
    "    \"\"\"\n",
    "\n",
    "    ### the words (features) and authors (labels), already largely preprocessed\n",
    "    ### this preprocessing will be repeated in the text learning mini-project\n",
    "    authors_file_handler = open(authors_file, \"rb\")\n",
    "    authors = joblib.load(authors_file_handler)\n",
    "\n",
    "\n",
    "    words_file_handler = open(words_file, \"rb\")\n",
    "    word_data = joblib.load(words_file_handler)\n",
    "\n",
    "    ### test_size is the percentage of events assigned to the test set\n",
    "    ### (remainder go into training)\n",
    "    features_train, features_test, labels_train, labels_test = train_test_split(word_data, authors, test_size=0.1, random_state=42)\n",
    "\n",
    "\n",
    "    ### text vectorization--go from strings to lists of numbers\n",
    "    vectorizer = TfidfVectorizer(sublinear_tf=True, max_df=0.5, stop_words='english')\n",
    "    features_train_transformed = vectorizer.fit_transform(features_train)\n",
    "    features_test_transformed  = vectorizer.transform(features_test)\n",
    "\n",
    "\n",
    "\n",
    "    ### feature selection, because text is super high dimensional and \n",
    "    ### can be really computationally chewy as a result\n",
    "    selector = SelectPercentile(f_classif, percentile=1)\n",
    "    selector.fit(features_train_transformed, labels_train)\n",
    "    features_train_transformed = selector.transform(features_train_transformed).toarray()\n",
    "    features_test_transformed  = selector.transform(features_test_transformed).toarray()\n",
    "\n",
    "    ### info on the data\n",
    "    print(\"No. of Chris training emails : \", sum(labels_train))\n",
    "    print(\"No. of Sara training emails : \", len(labels_train)-sum(labels_train))\n",
    "    \n",
    "    return features_train_transformed, features_test_transformed, labels_train, labels_test\n"
   ]
  },
  {
   "cell_type": "code",
   "execution_count": 30,
   "id": "02c06955",
   "metadata": {},
   "outputs": [
    {
     "name": "stdout",
     "output_type": "stream",
     "text": [
      "No. of Chris training emails :  7936\n",
      "No. of Sara training emails :  7884\n",
      "0.9658703071672355\n"
     ]
    }
   ],
   "source": [
    "#!/usr/bin/python\n",
    "\n",
    "\"\"\" \n",
    "    This is the code to accaompany the Lesson 3 (decision tree) mini-project.\n",
    "\n",
    "    Use a Decision Tree to identify emails from the Enron corpus by author:    \n",
    "    Sara has label 0\n",
    "    Chris has label 1\n",
    "\"\"\"\n",
    "    \n",
    "import sys\n",
    "from time import time\n",
    "sys.path.append(\"../tools/\")\n",
    "#from email_preprocess import preprocess\n",
    "\n",
    "\n",
    "### features_train and features_test are the features for the training\n",
    "### and testing datasets, respectively\n",
    "### labels_train and labels_test are the corresponding item labels\n",
    "features_train, features_test, labels_train, labels_test = preprocess()\n",
    "\n",
    "\n",
    "\n",
    "\n",
    "#########################################################\n",
    "### your code goes here ###\n",
    "from sklearn.tree import DecisionTreeClassifier\n",
    "clf=DecisionTreeClassifier(min_samples_split = 40, random_state=42)\n",
    "clf.fit(features_train, labels_train)\n",
    "clf.predict(features_test)\n",
    "acc = accuracy_score(clf.predict(features_test), labels_test)\n",
    "print(acc)\n",
    "\n",
    "#########################################################\n",
    "\n",
    "\n"
   ]
  },
  {
   "cell_type": "code",
   "execution_count": 31,
   "id": "f281a147",
   "metadata": {},
   "outputs": [
    {
     "data": {
      "text/plain": [
       "379"
      ]
     },
     "execution_count": 31,
     "metadata": {},
     "output_type": "execute_result"
    }
   ],
   "source": [
    "\n",
    "len(features_train[0])"
   ]
  },
  {
   "cell_type": "code",
   "execution_count": null,
   "id": "42830c83",
   "metadata": {},
   "outputs": [],
   "source": [
    "'''Datasets and Questions\n",
    "\n",
    "The aggregated Enron email + financial dataset is stored in a dictionary, where each key in the dictionary is a person’s name and the value is a dictionary containing all the features of that person.\n",
    "The email + finance (E+F) data dictionary is stored as a pickle file, which is a handy way to store and load python objects directly. Use datasets_questions/explore_enron_data.py to load the dataset.\n",
    "\n",
    "How many data points (people) are in the dataset?\n",
    "'''"
   ]
  },
  {
   "cell_type": "code",
   "execution_count": 33,
   "id": "512d4d98",
   "metadata": {},
   "outputs": [],
   "source": [
    "#!/usr/bin/python3\n",
    "\n",
    "\"\"\" \n",
    "    Starter code for exploring the Enron dataset (emails + finances);\n",
    "    loads up the dataset (pickled dict of dicts).\n",
    "\n",
    "    The dataset has the form:\n",
    "    enron_data[\"LASTNAME FIRSTNAME MIDDLEINITIAL\"] = { features_dict }\n",
    "\n",
    "    {features_dict} is a dictionary of features associated with that person.\n",
    "    You should explore features_dict as part of the mini-project,\n",
    "    but here's an example to get you started:\n",
    "\n",
    "    enron_data[\"SKILLING JEFFREY K\"][\"bonus\"] = 5600000\n",
    "    \n",
    "\"\"\"\n",
    "\n",
    "import joblib\n",
    "\n",
    "enron_data = joblib.load(open(\"/home/adebisi/UDACITY PROJECTS/ud120-projects-master/final_project/final_project_dataset.pkl\", \"rb\"))\n",
    "\n"
   ]
  },
  {
   "cell_type": "code",
   "execution_count": 34,
   "id": "507d503d",
   "metadata": {},
   "outputs": [
    {
     "data": {
      "text/plain": [
       "146"
      ]
     },
     "execution_count": 34,
     "metadata": {},
     "output_type": "execute_result"
    }
   ],
   "source": [
    "#How many data points (people) are in the dataset?\n",
    "total = len(enron_data)\n",
    "total"
   ]
  },
  {
   "cell_type": "code",
   "execution_count": 35,
   "id": "fa12c0f8",
   "metadata": {},
   "outputs": [
    {
     "data": {
      "text/plain": [
       "('METTS MARK',\n",
       " {'salary': 365788,\n",
       "  'to_messages': 807,\n",
       "  'deferral_payments': 'NaN',\n",
       "  'total_payments': 1061827,\n",
       "  'loan_advances': 'NaN',\n",
       "  'bonus': 600000,\n",
       "  'email_address': 'mark.metts@enron.com',\n",
       "  'restricted_stock_deferred': 'NaN',\n",
       "  'deferred_income': 'NaN',\n",
       "  'total_stock_value': 585062,\n",
       "  'expenses': 94299,\n",
       "  'from_poi_to_this_person': 38,\n",
       "  'exercised_stock_options': 'NaN',\n",
       "  'from_messages': 29,\n",
       "  'other': 1740,\n",
       "  'from_this_person_to_poi': 1,\n",
       "  'poi': False,\n",
       "  'long_term_incentive': 'NaN',\n",
       "  'shared_receipt_with_poi': 702,\n",
       "  'restricted_stock': 585062,\n",
       "  'director_fees': 'NaN'})"
      ]
     },
     "execution_count": 35,
     "metadata": {},
     "output_type": "execute_result"
    }
   ],
   "source": [
    "#For each person, how many features are available?\n",
    "list(enron_data.items())[0]"
   ]
  },
  {
   "cell_type": "code",
   "execution_count": 36,
   "id": "2a4455a7",
   "metadata": {},
   "outputs": [
    {
     "name": "stdout",
     "output_type": "stream",
     "text": [
      "18\n"
     ]
    }
   ],
   "source": [
    "#The “poi” feature records whether the person is a person of interest, according to our definition. How many POIs are there in the E+F dataset?\n",
    "#In other words, count the number of entries in the dictionary where\n",
    "#data[person_name][\"poi\"]==1\n",
    "\n",
    "count = 0\n",
    "for k,v in enron_data.items():\n",
    "    if v['poi']==True:\n",
    "        count +=1\n",
    "print(count)"
   ]
  },
  {
   "cell_type": "code",
   "execution_count": null,
   "id": "12207ac9",
   "metadata": {},
   "outputs": [],
   "source": [
    "#We compiled a list of all POI names (in ../final_project/poi_names.txt) \n",
    "#and associated email addresses (in ../final_project/poi_email_addresses.py).\n",
    "\n",
    "#How many POI’s were there total? (Use the names file, not the email addresses, since many folks have more than one address and a few didn’t work for Enron, so we don’t have their emails.)\n",
    "35"
   ]
  },
  {
   "cell_type": "code",
   "execution_count": 37,
   "id": "8eabbdf5",
   "metadata": {},
   "outputs": [
    {
     "name": "stdout",
     "output_type": "stream",
     "text": [
      "1095040\n"
     ]
    }
   ],
   "source": [
    "'''Like any dict of dicts, individual people/features can be accessed like so:\n",
    "\n",
    "enron_data[\"LASTNAME FIRSTNAME\"][\"feature_name\"]\n",
    "or, sometimes\n",
    "enron_data[\"LASTNAME FIRSTNAME MIDDLEINITIAL\"][\"feature_name\"]\n",
    "\n",
    "What is the total value of the stock belonging to James Prentice?\n",
    "Go to Quiz\n",
    "\n",
    "Lastname, Firstname and Middle Initial all in CAPS.\n",
    "'''\n",
    "for k, v in enron_data.items():\n",
    "    if 'PRENTICE' in k:\n",
    "        print(v['total_stock_value'])\n"
   ]
  },
  {
   "cell_type": "code",
   "execution_count": null,
   "id": "668d6b3a",
   "metadata": {},
   "outputs": [],
   "source": [
    "enron_data.get('PRENTICE JAMES',[])['total_stock_value']"
   ]
  },
  {
   "cell_type": "code",
   "execution_count": 38,
   "id": "cd68748e",
   "metadata": {},
   "outputs": [
    {
     "data": {
      "text/plain": [
       "11"
      ]
     },
     "execution_count": 38,
     "metadata": {},
     "output_type": "execute_result"
    }
   ],
   "source": [
    "'''Like any dict of dicts, individual people/features can be accessed like so:\n",
    "\n",
    "enron_data[\"LASTNAME FIRSTNAME\"][\"feature_name\"]\n",
    "\n",
    "How many email messages do we have from Wesley Colwell to persons of interest?\n",
    "'''\n",
    "enron_data.get('COLWELL WESLEY',[])['from_this_person_to_poi']"
   ]
  },
  {
   "cell_type": "code",
   "execution_count": 39,
   "id": "75daf2b4",
   "metadata": {},
   "outputs": [
    {
     "data": {
      "text/plain": [
       "19250000"
      ]
     },
     "execution_count": 39,
     "metadata": {},
     "output_type": "execute_result"
    }
   ],
   "source": [
    "#What’s the value of stock options exercised by Jeffrey K Skilling? \n",
    "enron_data.get('SKILLING JEFFREY K',[])['exercised_stock_options']"
   ]
  },
  {
   "cell_type": "code",
   "execution_count": 40,
   "id": "c6bd4725",
   "metadata": {},
   "outputs": [
    {
     "data": {
      "text/plain": [
       "103559793"
      ]
     },
     "execution_count": 40,
     "metadata": {},
     "output_type": "execute_result"
    }
   ],
   "source": [
    "#Of these three individuals (Lay, Skilling and Fastow), \n",
    "#who took home the most money (largest value of “total_payments” feature)?\n",
    "\n",
    "#How much money did that person get?\n",
    "\n",
    "enron_data.get('LAY KENNETH L',[])['total_payments']"
   ]
  },
  {
   "cell_type": "code",
   "execution_count": 41,
   "id": "03e66435",
   "metadata": {},
   "outputs": [
    {
     "data": {
      "text/plain": [
       "8682716"
      ]
     },
     "execution_count": 41,
     "metadata": {},
     "output_type": "execute_result"
    }
   ],
   "source": [
    "enron_data.get('SKILLING JEFFREY K',[])['total_payments']"
   ]
  },
  {
   "cell_type": "code",
   "execution_count": 42,
   "id": "9857584d",
   "metadata": {},
   "outputs": [
    {
     "data": {
      "text/plain": [
       "2424083"
      ]
     },
     "execution_count": 42,
     "metadata": {},
     "output_type": "execute_result"
    }
   ],
   "source": [
    "enron_data.get('FASTOW ANDREW S',[])['total_payments']"
   ]
  },
  {
   "cell_type": "code",
   "execution_count": null,
   "id": "b4a591f9",
   "metadata": {},
   "outputs": [],
   "source": [
    "from operator import itemgetter\n",
    "\n",
    "total_payments_dict = {}\n",
    "poi_list = ['SKILLING JEFFREY K', 'LAY KENNETH L', 'FASTOW ANDREW S']\n",
    "for k in poi_list:\n",
    "    total_payments_dict.update({k: enron_data.get(k,[])['total_payments']})\n",
    "\n",
    "max(total_payments_dict.items(), key=itemgetter(1)) "
   ]
  },
  {
   "cell_type": "code",
   "execution_count": 43,
   "id": "e179fc1a",
   "metadata": {},
   "outputs": [
    {
     "data": {
      "text/plain": [
       "95"
      ]
     },
     "execution_count": 43,
     "metadata": {},
     "output_type": "execute_result"
    }
   ],
   "source": [
    "#How many folks in this dataset have a quantified salary? What about a known email address? \n",
    "people_counter = 0  # count only those having quantified salary\n",
    "\n",
    "for k,v in enron_data.items():\n",
    "    salary =  v['salary']\n",
    "    if salary != 'NaN':\n",
    "        people_counter += 1\n",
    "people_counter"
   ]
  },
  {
   "cell_type": "code",
   "execution_count": 44,
   "id": "d9d0cc44",
   "metadata": {},
   "outputs": [
    {
     "data": {
      "text/plain": [
       "111"
      ]
     },
     "execution_count": 44,
     "metadata": {},
     "output_type": "execute_result"
    }
   ],
   "source": [
    "people_with_email = 0  # count only those having email addresses\n",
    "\n",
    "for k,v in enron_data.items():\n",
    "    email =  v['email_address']\n",
    "    if email != 'NaN':\n",
    "        people_with_email += 1\n",
    "people_with_email"
   ]
  },
  {
   "cell_type": "code",
   "execution_count": 45,
   "id": "0717cbda",
   "metadata": {},
   "outputs": [
    {
     "data": {
      "text/plain": [
       "111"
      ]
     },
     "execution_count": 45,
     "metadata": {},
     "output_type": "execute_result"
    }
   ],
   "source": [
    "#How many people in the E+F dataset (as it currently exists) have “NaN” for their total payments?\n",
    "#What percentage of people in the dataset as a whole is this?\n",
    "people_with_email = 0  # count only those having email addresses\n",
    "\n",
    "for k,v in enron_data.items():\n",
    "    email =  v['email_address']\n",
    "    if email != 'NaN':\n",
    "        people_with_email += 1\n",
    "people_with_email"
   ]
  },
  {
   "cell_type": "code",
   "execution_count": 46,
   "id": "b5a6dde7",
   "metadata": {},
   "outputs": [
    {
     "name": "stdout",
     "output_type": "stream",
     "text": [
      "21\n",
      "14.383561643835616\n"
     ]
    }
   ],
   "source": [
    "people_nantotpay = 0  # count only those with no total pay\n",
    "\n",
    "for k,v in enron_data.items():\n",
    "    totpay =  v['total_payments']\n",
    "    if totpay == 'NaN':\n",
    "        people_nantotpay += 1\n",
    "    percen_totpay = (people_nantotpay / len(enron_data)) * 100\n",
    "print(people_nantotpay)\n",
    "print(percen_totpay)"
   ]
  },
  {
   "cell_type": "code",
   "execution_count": null,
   "id": "1a2aa613",
   "metadata": {},
   "outputs": [],
   "source": []
  },
  {
   "cell_type": "code",
   "execution_count": null,
   "id": "5db0f8fc",
   "metadata": {},
   "outputs": [],
   "source": []
  },
  {
   "cell_type": "code",
   "execution_count": null,
   "id": "0149d5f3",
   "metadata": {},
   "outputs": [],
   "source": []
  },
  {
   "cell_type": "raw",
   "id": "4aadc288",
   "metadata": {},
   "source": [
    "#REGRESSION"
   ]
  },
  {
   "cell_type": "code",
   "execution_count": 49,
   "id": "f84fa3db",
   "metadata": {},
   "outputs": [
    {
     "data": {
      "image/png": "[encoded data removed]",
      "text/plain": [
       "<Figure size 432x288 with 1 Axes>"
      ]
     },
     "metadata": {
      "needs_background": "light"
     },
     "output_type": "display_data"
    }
   ],
   "source": [
    "#!/usr/bin/python3\n",
    "\n",
    "\"\"\"\n",
    "    Starter code for the regression mini-project.\n",
    "    \n",
    "    Loads up/formats a modified version of the dataset\n",
    "    (why modified?  we've removed some trouble points\n",
    "    that you'll find yourself in the outliers mini-project).\n",
    "\n",
    "    Draws a little scatterplot of the training/testing data\n",
    "\n",
    "    You fill in the regression code where indicated:\n",
    "\"\"\"    \n",
    "\n",
    "import os\n",
    "import sys\n",
    "import joblib\n",
    "sys.path.append(os.path.abspath(\"/home/adebisi/UDACITY PROJECTS/ud120-projects-master/tools/\"))\n",
    "from feature_format import featureFormat, targetFeatureSplit\n",
    "dictionary = joblib.load( open(\"/home/adebisi/UDACITY PROJECTS/ud120-projects-master/final_project/final_project_dataset_modified.pkl\", \"rb\") )\n",
    "\n",
    "\n",
    "### list the features you want to look at--first item in the \n",
    "### list will be the \"target\" feature\n",
    "features_list = [\"bonus\", \"salary\"]\n",
    "data = featureFormat( dictionary, features_list, remove_any_zeroes=True, sort_keys = '/home/adebisi/UDACITY PROJECTS/ud120-projects-master/tools/python2_lesson06_keys.pkl')\n",
    "target, features = targetFeatureSplit( data )\n",
    "\n",
    "### training-testing split needed in regression, just like classification\n",
    "from sklearn.model_selection import train_test_split\n",
    "feature_train, feature_test, target_train, target_test = train_test_split(features, target, test_size=0.5, random_state=42)\n",
    "train_color = \"b\"\n",
    "test_color = \"b\"\n",
    "\n",
    "\n",
    "\n",
    "### Your regression goes here!\n",
    "### Please name it reg, so that the plotting code below picks it up and \n",
    "### plots it correctly. Don't forget to change the test_color above from \"b\" to\n",
    "### \"r\" to differentiate training points from test points.\n",
    "\n",
    "\n",
    "\n",
    "\n",
    "\n",
    "\n",
    "\n",
    "\n",
    "### draw the scatterplot, with color-coded training and testing points\n",
    "import matplotlib.pyplot as plt\n",
    "for feature, target in zip(feature_test, target_test):\n",
    "    plt.scatter( feature, target, color=test_color ) \n",
    "for feature, target in zip(feature_train, target_train):\n",
    "    plt.scatter( feature, target, color=train_color ) \n",
    "\n",
    "### labels for the legend\n",
    "plt.scatter(feature_test[0], target_test[0], color=test_color, label=\"test\")\n",
    "plt.scatter(feature_test[0], target_test[0], color=train_color, label=\"train\")\n",
    "\n",
    "\n",
    "\n",
    "\n",
    "### draw the regression line, once it's coded\n",
    "try:\n",
    "    plt.plot( feature_test, reg.predict(feature_test) )\n",
    "except NameError:\n",
    "    pass\n",
    "plt.xlabel(features_list[1])\n",
    "plt.ylabel(features_list[0])\n",
    "plt.legend()\n",
    "plt.show()\n"
   ]
  },
  {
   "cell_type": "code",
   "execution_count": 50,
   "id": "f088abc9",
   "metadata": {},
   "outputs": [
    {
     "data": {
      "image/png": "[encoded data removed]",
      "text/plain": [
       "<Figure size 432x288 with 1 Axes>"
      ]
     },
     "metadata": {
      "needs_background": "light"
     },
     "output_type": "display_data"
    }
   ],
   "source": [
    "#Change the value of test_color from \"b\" to “r” (for “red”), and rerun. \n",
    "\n",
    "#!/usr/bin/python3\n",
    "\n",
    "\"\"\"\n",
    "    Starter code for the regression mini-project.\n",
    "    \n",
    "    Loads up/formats a modified version of the dataset\n",
    "    (why modified?  we've removed some trouble points\n",
    "    that you'll find yourself in the outliers mini-project).\n",
    "\n",
    "    Draws a little scatterplot of the training/testing data\n",
    "\n",
    "    You fill in the regression code where indicated:\n",
    "\"\"\"    \n",
    "\n",
    "import os\n",
    "import sys\n",
    "import joblib\n",
    "sys.path.append(os.path.abspath(\"/home/adebisi/UDACITY PROJECTS/ud120-projects-master/tools/\"))\n",
    "from feature_format import featureFormat, targetFeatureSplit\n",
    "dictionary = joblib.load( open(\"/home/adebisi/UDACITY PROJECTS/ud120-projects-master/final_project/final_project_dataset_modified.pkl\", \"rb\") )\n",
    "\n",
    "\n",
    "### list the features you want to look at--first item in the \n",
    "### list will be the \"target\" feature\n",
    "features_list = [\"bonus\", \"salary\"]\n",
    "data = featureFormat( dictionary, features_list, remove_any_zeroes=True, sort_keys = '/home/adebisi/UDACITY PROJECTS/ud120-projects-master/tools/python2_lesson06_keys.pkl')\n",
    "target, features = targetFeatureSplit( data )\n",
    "\n",
    "### training-testing split needed in regression, just like classification\n",
    "from sklearn.model_selection import train_test_split\n",
    "feature_train, feature_test, target_train, target_test = train_test_split(features, target, test_size=0.5, random_state=42)\n",
    "train_color = \"b\"\n",
    "test_color = \"r\"\n",
    "\n",
    "\n",
    "\n",
    "### Your regression goes here!\n",
    "### Please name it reg, so that the plotting code below picks it up and \n",
    "### plots it correctly. Don't forget to change the test_color above from \"b\" to\n",
    "### \"r\" to differentiate training points from test points.\n",
    "\n",
    "\n",
    "\n",
    "\n",
    "\n",
    "\n",
    "\n",
    "\n",
    "### draw the scatterplot, with color-coded training and testing points\n",
    "import matplotlib.pyplot as plt\n",
    "for feature, target in zip(feature_test, target_test):\n",
    "    plt.scatter( feature, target, color=test_color ) \n",
    "for feature, target in zip(feature_train, target_train):\n",
    "    plt.scatter( feature, target, color=train_color ) \n",
    "\n",
    "### labels for the legend\n",
    "plt.scatter(feature_test[0], target_test[0], color=test_color, label=\"test\")\n",
    "plt.scatter(feature_test[0], target_test[0], color=train_color, label=\"train\")\n",
    "\n",
    "\n",
    "\n",
    "\n",
    "### draw the regression line, once it's coded\n",
    "try:\n",
    "    plt.plot( feature_test, reg.predict(feature_test) )\n",
    "except NameError:\n",
    "    pass\n",
    "plt.xlabel(features_list[1])\n",
    "plt.ylabel(features_list[0])\n",
    "plt.legend()\n",
    "plt.show()\n"
   ]
  },
  {
   "cell_type": "code",
   "execution_count": 51,
   "id": "0c7d262b",
   "metadata": {},
   "outputs": [],
   "source": [
    "#Import LinearRegression from sklearn, and create/fit your regression. \n",
    "#Name it reg so that the plotting code will show it overlaid on the scatterplot. Does it fall approximately where you expected it?\n",
    "\n",
    "from sklearn.linear_model import LinearRegression\n",
    "reg = LinearRegression().fit(feature_train, target_train)"
   ]
  },
  {
   "cell_type": "code",
   "execution_count": 52,
   "id": "6e1c39e0",
   "metadata": {},
   "outputs": [
    {
     "data": {
      "text/plain": [
       "array([5.44814029])"
      ]
     },
     "execution_count": 52,
     "metadata": {},
     "output_type": "execute_result"
    }
   ],
   "source": [
    "#Slope of regression\n",
    "reg.coef_"
   ]
  },
  {
   "cell_type": "code",
   "execution_count": 53,
   "id": "51d81e05",
   "metadata": {},
   "outputs": [
    {
     "data": {
      "text/plain": [
       "-102360.54329387983"
      ]
     },
     "execution_count": 53,
     "metadata": {},
     "output_type": "execute_result"
    }
   ],
   "source": [
    "#Intercept\n",
    "reg.intercept_"
   ]
  },
  {
   "cell_type": "code",
   "execution_count": 55,
   "id": "d5f2a297",
   "metadata": {},
   "outputs": [
    {
     "data": {
      "text/plain": [
       "0.04550919269952436"
      ]
     },
     "execution_count": 55,
     "metadata": {},
     "output_type": "execute_result"
    }
   ],
   "source": [
    "#regression score\n",
    "reg.score(feature_train, target_train)"
   ]
  },
  {
   "cell_type": "code",
   "execution_count": 56,
   "id": "fa30633e",
   "metadata": {},
   "outputs": [
    {
     "data": {
      "text/plain": [
       "-1.48499241736851"
      ]
     },
     "execution_count": 56,
     "metadata": {},
     "output_type": "execute_result"
    }
   ],
   "source": [
    "reg.score(feature_test, target_test)"
   ]
  },
  {
   "cell_type": "code",
   "execution_count": 57,
   "id": "2a6d0ad1",
   "metadata": {},
   "outputs": [
    {
     "data": {
      "image/png": "[encoded data removed]",
      "text/plain": [
       "<Figure size 432x288 with 1 Axes>"
      ]
     },
     "metadata": {
      "needs_background": "light"
     },
     "output_type": "display_data"
    }
   ],
   "source": [
    "'''There are lots of finance features available, some of which might be more powerful than others \n",
    "in terms of predicting a person’s bonus. For example, suppose you thought about the data a bit \n",
    "and guess that the “long_term_incentive” feature, which is supposed to reward employees for \n",
    "contributing to the long-term health of the company, might be more closely related to a person’s \n",
    "bonus than their salary is.\n",
    "\n",
    "A way to confirm that you’re right in this hypothesis is to regress the bonus against the long \n",
    "term incentive, and see if the regression score is significantly higher than regressing the \n",
    "bonus against the salary. Perform the regression of bonus against long term incentive--\n",
    "what’s the score on the test data?\n",
    "'''\n",
    "\n",
    "\n",
    "### list the features you want to look at--first item in the \n",
    "### list will be the \"target\" feature\n",
    "features_list = [\"bonus\", \"long_term_incentive\"]\n",
    "data = featureFormat( dictionary, features_list, remove_any_zeroes=True, sort_keys = 'tools/python2_lesson06_keys.pkl')\n",
    "target, features = targetFeatureSplit( data )\n",
    "\n",
    "### training-testing split needed in regression, just like classification\n",
    "from sklearn.model_selection import train_test_split\n",
    "feature_train, feature_test, target_train, target_test = train_test_split(features, target, test_size=0.5, random_state=42)\n",
    "train_color = \"b\"\n",
    "test_color = \"r\"\n",
    "\n",
    "\n",
    "\n",
    "### Your regression goes here!\n",
    "### Please name it reg, so that the plotting code below picks it up and \n",
    "### plots it correctly. Don't forget to change the test_color above from \"b\" to\n",
    "### \"r\" to differentiate training points from test points.\n",
    "from sklearn.linear_model import LinearRegression\n",
    "reg = LinearRegression().fit(feature_train, target_train)\n",
    "\n",
    "\n",
    "\n",
    "### draw the scatterplot, with color-coded training and testing points\n",
    "import matplotlib.pyplot as plt\n",
    "for feature, target in zip(feature_test, target_test):\n",
    "    plt.scatter( feature, target, color=test_color ) \n",
    "for feature, target in zip(feature_train, target_train):\n",
    "    plt.scatter( feature, target, color=train_color ) \n",
    "\n",
    "### labels for the legend\n",
    "plt.scatter(feature_test[0], target_test[0], color=test_color, label=\"test\")\n",
    "plt.scatter(feature_test[0], target_test[0], color=train_color, label=\"train\")\n",
    "\n",
    "\n",
    "\n",
    "\n",
    "### draw the regression line, once it's coded\n",
    "try:\n",
    "    plt.plot( feature_test, reg.predict(feature_test) )\n",
    "except NameError:\n",
    "    pass\n",
    "plt.xlabel(features_list[1])\n",
    "plt.ylabel(features_list[0])\n",
    "plt.legend()\n",
    "plt.show()\n"
   ]
  },
  {
   "cell_type": "code",
   "execution_count": 58,
   "id": "caa9b907",
   "metadata": {},
   "outputs": [
    {
     "data": {
      "text/plain": [
       "-0.5927128999498643"
      ]
     },
     "execution_count": 58,
     "metadata": {},
     "output_type": "execute_result"
    }
   ],
   "source": [
    "reg.score(feature_test, target_test)"
   ]
  },
  {
   "cell_type": "code",
   "execution_count": null,
   "id": "126a2bf0",
   "metadata": {},
   "outputs": [],
   "source": [
    "'''Add these two lines near the bottom of finance_regression.py, right before plt.xlabel(features_list[1]):\n",
    "\n",
    "reg.fit(feature_test, target_test)\n",
    "plt.plot(feature_train, reg.predict(feature_train), color=\"b\")\n",
    "\n",
    "Now we’ll be drawing two regression lines, one fit on the test data (with outlier) and one fit on the training data (no outlier). Look at the plot now--big difference, huh? That single outlier is driving most of the difference. What’s the slope of the new regression line?\n",
    "\n",
    "(That’s a big difference, and it’s mostly driven by the outliers. The next lesson will dig into outliers in more detail so you have tools to detect and deal with them.)'''"
   ]
  },
  {
   "cell_type": "code",
   "execution_count": 59,
   "id": "9c485d97",
   "metadata": {},
   "outputs": [
    {
     "data": {
      "image/png": "[encoded data removed]",
      "text/plain": [
       "<Figure size 432x288 with 1 Axes>"
      ]
     },
     "metadata": {
      "needs_background": "light"
     },
     "output_type": "display_data"
    }
   ],
   "source": [
    "#Change the value of test_color from \"b\" to “r” (for “red”), and rerun. \n",
    "\n",
    "#!/usr/bin/python3\n",
    "\n",
    "\"\"\"\n",
    "    Starter code for the regression mini-project.\n",
    "    \n",
    "    Loads up/formats a modified version of the dataset\n",
    "    (why modified?  we've removed some trouble points\n",
    "    that you'll find yourself in the outliers mini-project).\n",
    "\n",
    "    Draws a little scatterplot of the training/testing data\n",
    "\n",
    "    You fill in the regression code where indicated:\n",
    "\"\"\"    \n",
    "\n",
    "import os\n",
    "import sys\n",
    "import joblib\n",
    "sys.path.append(os.path.abspath(\"/home/adebisi/UDACITY PROJECTS/ud120-projects-master/tools/\"))\n",
    "from feature_format import featureFormat, targetFeatureSplit\n",
    "dictionary = joblib.load( open(\"/home/adebisi/UDACITY PROJECTS/ud120-projects-master/final_project/final_project_dataset_modified.pkl\", \"rb\") )\n",
    "\n",
    "\n",
    "### list the features you want to look at--first item in the \n",
    "### list will be the \"target\" feature\n",
    "features_list = [\"bonus\", \"salary\"]\n",
    "data = featureFormat( dictionary, features_list, remove_any_zeroes=True, sort_keys = '/home/adebisi/UDACITY PROJECTS/ud120-projects-master/tools/python2_lesson06_keys.pkl')\n",
    "target, features = targetFeatureSplit( data )\n",
    "\n",
    "### training-testing split needed in regression, just like classification\n",
    "from sklearn.model_selection import train_test_split\n",
    "feature_train, feature_test, target_train, target_test = train_test_split(features, target, test_size=0.5, random_state=42)\n",
    "train_color = \"b\"\n",
    "test_color = \"r\"\n",
    "\n",
    "\n",
    "\n",
    "### Your regression goes here!\n",
    "### Please name it reg, so that the plotting code below picks it up and \n",
    "### plots it correctly. Don't forget to change the test_color above from \"b\" to\n",
    "### \"r\" to differentiate training points from test points.\n",
    "\n",
    "\n",
    "\n",
    "\n",
    "\n",
    "\n",
    "\n",
    "\n",
    "### draw the scatterplot, with color-coded training and testing points\n",
    "import matplotlib.pyplot as plt\n",
    "for feature, target in zip(feature_test, target_test):\n",
    "    plt.scatter( feature, target, color=test_color ) \n",
    "for feature, target in zip(feature_train, target_train):\n",
    "    plt.scatter( feature, target, color=train_color ) \n",
    "\n",
    "### labels for the legend\n",
    "plt.scatter(feature_test[0], target_test[0], color=test_color, label=\"test\")\n",
    "plt.scatter(feature_test[0], target_test[0], color=train_color, label=\"train\")\n",
    "\n",
    "\n",
    "\n",
    "\n",
    "### draw the regression line, once it's coded\n",
    "try:\n",
    "    plt.plot( feature_test, reg.predict(feature_test) )\n",
    "except NameError:\n",
    "    pass\n",
    "reg.fit(feature_test, target_test)\n",
    "plt.plot(feature_train, reg.predict(feature_train), color=\"b\") \n",
    "plt.xlabel(features_list[1])\n",
    "plt.ylabel(features_list[0])\n",
    "plt.legend()\n",
    "plt.show()\n"
   ]
  },
  {
   "cell_type": "code",
   "execution_count": 60,
   "id": "f0c9f0f5",
   "metadata": {},
   "outputs": [
    {
     "data": {
      "text/plain": [
       "array([2.27410114])"
      ]
     },
     "execution_count": 60,
     "metadata": {},
     "output_type": "execute_result"
    }
   ],
   "source": [
    "# What’s the slope of the new regression line?\n",
    "reg.coef_"
   ]
  },
  {
   "cell_type": "code",
   "execution_count": null,
   "id": "1d20daaa",
   "metadata": {},
   "outputs": [],
   "source": []
  },
  {
   "cell_type": "code",
   "execution_count": null,
   "id": "90029971",
   "metadata": {},
   "outputs": [],
   "source": []
  },
  {
   "cell_type": "code",
   "execution_count": null,
   "id": "d9bc3cce",
   "metadata": {},
   "outputs": [],
   "source": []
  },
  {
   "cell_type": "code",
   "execution_count": null,
   "id": "dd66d8a1",
   "metadata": {},
   "outputs": [],
   "source": []
  },
  {
   "cell_type": "code",
   "execution_count": 61,
   "id": "3d485126",
   "metadata": {},
   "outputs": [],
   "source": [
    "#OUTLIERS"
   ]
  },
  {
   "cell_type": "code",
   "execution_count": 63,
   "id": "572f1a09",
   "metadata": {},
   "outputs": [],
   "source": [
    "#!/usr/bin/python\n",
    "\n",
    "\n",
    "def outlierCleaner(predictions, ages, net_worths):\n",
    "    \"\"\"\n",
    "        Clean away the 10% of points that have the largest\n",
    "        residual errors (difference between the prediction\n",
    "        and the actual net worth).\n",
    "\n",
    "        Return a list of tuples named cleaned_data where \n",
    "        each tuple is of the form (age, net_worth, error).\n",
    "    \"\"\"\n",
    "    \n",
    "    cleaned_data = []\n",
    "\n",
    "    ### your code goes here\n",
    "\n",
    "    \n",
    "    return cleaned_data\n"
   ]
  },
  {
   "cell_type": "code",
   "execution_count": 65,
   "id": "31807d8e",
   "metadata": {},
   "outputs": [
    {
     "data": {
      "image/png": "[encoded data removed]",
      "text/plain": [
       "<Figure size 432x288 with 1 Axes>"
      ]
     },
     "metadata": {
      "needs_background": "light"
     },
     "output_type": "display_data"
    },
    {
     "name": "stdout",
     "output_type": "stream",
     "text": [
      "outlierCleaner() is returning an empty list, no refitting to be done\n"
     ]
    }
   ],
   "source": [
    "#!/usr/bin/python3\n",
    "\n",
    "import random\n",
    "import numpy\n",
    "import matplotlib.pyplot as plt\n",
    "import joblib\n",
    "\n",
    "#from outlier_cleaner import outlierCleaner\n",
    "\n",
    "\n",
    "### load up some practice data with outliers in it\n",
    "ages = joblib.load( open(\"/home/adebisi/UDACITY PROJECTS/ud120-projects-master/outliers/practice_outliers_ages.pkl\", \"rb\") )\n",
    "net_worths = joblib.load( open(\"/home/adebisi/UDACITY PROJECTS/ud120-projects-master/outliers/practice_outliers_net_worths.pkl\", \"rb\") )\n",
    "\n",
    "\n",
    "\n",
    "### ages and net_worths need to be reshaped into 2D numpy arrays\n",
    "### second argument of reshape command is a tuple of integers: (n_rows, n_columns)\n",
    "### by convention, n_rows is the number of data points\n",
    "### and n_columns is the number of features\n",
    "ages       = numpy.reshape( numpy.array(ages), (len(ages), 1))\n",
    "net_worths = numpy.reshape( numpy.array(net_worths), (len(net_worths), 1))\n",
    "from sklearn.model_selection import train_test_split\n",
    "ages_train, ages_test, net_worths_train, net_worths_test = train_test_split(ages, net_worths, test_size=0.1, random_state=42)\n",
    "\n",
    "### fill in a regression here!  Name the regression object reg so that\n",
    "### the plotting code below works, and you can see what your regression looks like\n",
    "\n",
    "\n",
    "\n",
    "\n",
    "\n",
    "\n",
    "\n",
    "\n",
    "\n",
    "\n",
    "try:\n",
    "    plt.plot(ages, reg.predict(ages), color=\"blue\")\n",
    "except NameError:\n",
    "    pass\n",
    "plt.scatter(ages, net_worths)\n",
    "plt.show()\n",
    "\n",
    "\n",
    "### identify and remove the most outlier-y points\n",
    "cleaned_data = []\n",
    "try:\n",
    "    predictions = reg.predict(ages_train)\n",
    "    cleaned_data = outlierCleaner( predictions, ages_train, net_worths_train )\n",
    "except NameError:\n",
    "    print(\"Your regression object doesn't exist, or isn't name reg\")\n",
    "    print(\"Can't make predictions to use in identifying outliers\")\n",
    "\n",
    "\n",
    "\n",
    "\n",
    "\n",
    "\n",
    "\n",
    "### only run this code if cleaned_data is returning data\n",
    "if len(cleaned_data) > 0:\n",
    "    ages, net_worths, errors = zip(*cleaned_data)\n",
    "    ages       = numpy.reshape( numpy.array(ages), (len(ages), 1))\n",
    "    net_worths = numpy.reshape( numpy.array(net_worths), (len(net_worths), 1))\n",
    "\n",
    "    ### refit your cleaned data!\n",
    "    try:\n",
    "        reg.fit(ages, net_worths)\n",
    "        plt.plot(ages, reg.predict(ages), color=\"blue\")\n",
    "    except NameError:\n",
    "        print(\"You don't seem to have regression imported/created,\")\n",
    "        print(\"   or else your regression object isn't named reg\")\n",
    "        print(\"   either way, only draw the scatter plot of the cleaned data\")\n",
    "    plt.scatter(ages, net_worths)\n",
    "    plt.xlabel(\"ages\")\n",
    "    plt.ylabel(\"net worths\")\n",
    "    plt.show()\n",
    "\n",
    "\n",
    "else:\n",
    "    print(\"outlierCleaner() is returning an empty list, no refitting to be done\")\n",
    "\n",
    "\n"
   ]
  },
  {
   "cell_type": "code",
   "execution_count": null,
   "id": "b42d937e",
   "metadata": {},
   "outputs": [],
   "source": [
    "#Deploy a linear regression, where net worth is the target and the feature being used to\n",
    "#predict it is a person’s age (remember to train on the training data!). "
   ]
  },
  {
   "cell_type": "code",
   "execution_count": 66,
   "id": "c327d607",
   "metadata": {},
   "outputs": [
    {
     "data": {
      "image/png": "[encoded data removed]",
      "text/plain": [
       "<Figure size 432x288 with 1 Axes>"
      ]
     },
     "metadata": {
      "needs_background": "light"
     },
     "output_type": "display_data"
    },
    {
     "name": "stdout",
     "output_type": "stream",
     "text": [
      "outlierCleaner() is returning an empty list, no refitting to be done\n"
     ]
    }
   ],
   "source": [
    "#!/usr/bin/python3\n",
    "\n",
    "import random\n",
    "import numpy\n",
    "import matplotlib.pyplot as plt\n",
    "import joblib\n",
    "\n",
    "#from outlier_cleaner import outlierCleaner\n",
    "\n",
    "\n",
    "### load up some practice data with outliers in it\n",
    "ages = joblib.load( open(\"/home/adebisi/UDACITY PROJECTS/ud120-projects-master/outliers/practice_outliers_ages.pkl\", \"rb\") )\n",
    "net_worths = joblib.load( open(\"/home/adebisi/UDACITY PROJECTS/ud120-projects-master/outliers/practice_outliers_net_worths.pkl\", \"rb\") )\n",
    "\n",
    "\n",
    "\n",
    "### ages and net_worths need to be reshaped into 2D numpy arrays\n",
    "### second argument of reshape command is a tuple of integers: (n_rows, n_columns)\n",
    "### by convention, n_rows is the number of data points\n",
    "### and n_columns is the number of features\n",
    "ages       = numpy.reshape( numpy.array(ages), (len(ages), 1))\n",
    "net_worths = numpy.reshape( numpy.array(net_worths), (len(net_worths), 1))\n",
    "from sklearn.model_selection import train_test_split\n",
    "ages_train, ages_test, net_worths_train, net_worths_test = train_test_split(ages, net_worths, test_size=0.1, random_state=42)\n",
    "\n",
    "### fill in a regression here!  Name the regression object reg so that\n",
    "### the plotting code below works, and you can see what your regression looks like\n",
    "reg = LinearRegression().fit(ages_train,net_worths_train)\n",
    "\n",
    "\n",
    "\n",
    "try:\n",
    "    plt.plot(ages, reg.predict(ages), color=\"blue\")\n",
    "except NameError:\n",
    "    pass\n",
    "plt.scatter(ages, net_worths)\n",
    "plt.show()\n",
    "\n",
    "\n",
    "### identify and remove the most outlier-y points\n",
    "cleaned_data = []\n",
    "try:\n",
    "    predictions = reg.predict(ages_train)\n",
    "    cleaned_data = outlierCleaner( predictions, ages_train, net_worths_train )\n",
    "except NameError:\n",
    "    print(\"Your regression object doesn't exist, or isn't name reg\")\n",
    "    print(\"Can't make predictions to use in identifying outliers\")\n",
    "\n",
    "\n",
    "\n",
    "### only run this code if cleaned_data is returning data\n",
    "if len(cleaned_data) > 0:\n",
    "    ages, net_worths, errors = zip(*cleaned_data)\n",
    "    ages       = numpy.reshape( numpy.array(ages), (len(ages), 1))\n",
    "    net_worths = numpy.reshape( numpy.array(net_worths), (len(net_worths), 1))\n",
    "\n",
    "    ### refit your cleaned data!\n",
    "    try:\n",
    "        reg.fit(ages, net_worths)\n",
    "        plt.plot(ages, reg.predict(ages), color=\"blue\")\n",
    "    except NameError:\n",
    "        print(\"You don't seem to have regression imported/created,\")\n",
    "        print(\"   or else your regression object isn't named reg\")\n",
    "        print(\"   either way, only draw the scatter plot of the cleaned data\")\n",
    "    plt.scatter(ages, net_worths)\n",
    "    plt.xlabel(\"ages\")\n",
    "    plt.ylabel(\"net worths\")\n",
    "    plt.show()\n",
    "\n",
    "\n",
    "else:\n",
    "    print(\"outlierCleaner() is returning an empty list, no refitting to be done\")\n",
    "\n"
   ]
  },
  {
   "cell_type": "code",
   "execution_count": 68,
   "id": "fb8dea49",
   "metadata": {},
   "outputs": [
    {
     "data": {
      "text/plain": [
       "array([[5.07793064]])"
      ]
     },
     "execution_count": 68,
     "metadata": {},
     "output_type": "execute_result"
    }
   ],
   "source": [
    "#what slope does your regression have? \n",
    "reg.coef_"
   ]
  },
  {
   "cell_type": "code",
   "execution_count": 69,
   "id": "949279a3",
   "metadata": {},
   "outputs": [
    {
     "data": {
      "text/plain": [
       "0.8782624703664672"
      ]
     },
     "execution_count": 69,
     "metadata": {},
     "output_type": "execute_result"
    }
   ],
   "source": [
    "#What is the score you get when using your regression to make predictions with the test data?\n",
    "reg.score(ages_test, net_worths_test)"
   ]
  },
  {
   "cell_type": "code",
   "execution_count": null,
   "id": "df642549",
   "metadata": {},
   "outputs": [],
   "source": [
    "''' return a list called cleaned_data that has only 81 elements in it, \n",
    "which are the 81 training points where the predictions and the actual values (net_worths) \n",
    "have the smallest errors (90 * 0.9 = 81). The format of cleaned_data should be a list of tuples, \n",
    "where each tuple has the form (age, net_worth, error).\n",
    "\n",
    "Once this cleaning function is working, you should see the regression result changes. \n",
    "What is the new slope? Is it closer to the “correct” result of 6.25?'''"
   ]
  },
  {
   "cell_type": "code",
   "execution_count": 70,
   "id": "bdf747cb",
   "metadata": {},
   "outputs": [],
   "source": [
    "#Clean outliers\n",
    "#!/usr/bin/python\n",
    "\n",
    "\n",
    "def outlierCleaner(predictions, ages, net_worths):\n",
    "    \"\"\"\n",
    "        Clean away the 10% of points that have the largest\n",
    "        residual errors (difference between the prediction\n",
    "        and the actual net worth).\n",
    "\n",
    "        Return a list of tuples named cleaned_data where \n",
    "        each tuple is of the form (age, net_worth, error).\n",
    "    \"\"\"\n",
    "    \n",
    "    cleaned_data = []\n",
    "\n",
    "    ### your code goes here\n",
    "    for pred, a, net_w in zip(predictions, ages, net_worths):\n",
    "        cleaned_data.append((a, net_w, pred - net_w))\n",
    "\n",
    "    cleaned_data.sort(key=lambda i: i[2]) # Sort the data by the 2nd index (third element, which is the error)\n",
    "\n",
    "    #clean away the largest 10% of the data, remember it's sorted\n",
    "    return cleaned_data[:81]\n"
   ]
  },
  {
   "cell_type": "code",
   "execution_count": 71,
   "id": "2c029f05",
   "metadata": {},
   "outputs": [
    {
     "data": {
      "image/png": "[encoded data removed]",
      "text/plain": [
       "<Figure size 432x288 with 1 Axes>"
      ]
     },
     "metadata": {
      "needs_background": "light"
     },
     "output_type": "display_data"
    },
    {
     "data": {
      "image/png": "[encoded data removed]",
      "text/plain": [
       "<Figure size 432x288 with 1 Axes>"
      ]
     },
     "metadata": {
      "needs_background": "light"
     },
     "output_type": "display_data"
    }
   ],
   "source": [
    "#!/usr/bin/python3\n",
    "\n",
    "import random\n",
    "import numpy\n",
    "import matplotlib.pyplot as plt\n",
    "import joblib\n",
    "\n",
    "#from outlier_cleaner import outlierCleaner\n",
    "\n",
    "\n",
    "### load up some practice data with outliers in it\n",
    "ages = joblib.load( open(\"/home/adebisi/UDACITY PROJECTS/ud120-projects-master/outliers/practice_outliers_ages.pkl\", \"rb\") )\n",
    "net_worths = joblib.load( open(\"/home/adebisi/UDACITY PROJECTS/ud120-projects-master/outliers/practice_outliers_net_worths.pkl\", \"rb\") )\n",
    "\n",
    "\n",
    "\n",
    "### ages and net_worths need to be reshaped into 2D numpy arrays\n",
    "### second argument of reshape command is a tuple of integers: (n_rows, n_columns)\n",
    "### by convention, n_rows is the number of data points\n",
    "### and n_columns is the number of features\n",
    "ages       = numpy.reshape( numpy.array(ages), (len(ages), 1))\n",
    "net_worths = numpy.reshape( numpy.array(net_worths), (len(net_worths), 1))\n",
    "from sklearn.model_selection import train_test_split\n",
    "ages_train, ages_test, net_worths_train, net_worths_test = train_test_split(ages, net_worths, test_size=0.1, random_state=42)\n",
    "\n",
    "### fill in a regression here!  Name the regression object reg so that\n",
    "### the plotting code below works, and you can see what your regression looks like\n",
    "reg = LinearRegression().fit(ages_train,net_worths_train)\n",
    "\n",
    "\n",
    "\n",
    "try:\n",
    "    plt.plot(ages, reg.predict(ages), color=\"blue\")\n",
    "except NameError:\n",
    "    pass\n",
    "plt.scatter(ages, net_worths)\n",
    "plt.show()\n",
    "\n",
    "\n",
    "### identify and remove the most outlier-y points\n",
    "cleaned_data = []\n",
    "try:\n",
    "    predictions = reg.predict(ages_train)\n",
    "    cleaned_data = outlierCleaner( predictions, ages_train, net_worths_train )\n",
    "except NameError:\n",
    "    print(\"Your regression object doesn't exist, or isn't name reg\")\n",
    "    print(\"Can't make predictions to use in identifying outliers\")\n",
    "\n",
    "\n",
    "\n",
    "### only run this code if cleaned_data is returning data\n",
    "if len(cleaned_data) > 0:\n",
    "    ages, net_worths, errors = zip(*cleaned_data)\n",
    "    ages       = numpy.reshape( numpy.array(ages), (len(ages), 1))\n",
    "    net_worths = numpy.reshape( numpy.array(net_worths), (len(net_worths), 1))\n",
    "\n",
    "    ### refit your cleaned data!\n",
    "    try:\n",
    "        reg.fit(ages, net_worths)\n",
    "        plt.plot(ages, reg.predict(ages), color=\"blue\")\n",
    "    except NameError:\n",
    "        print(\"You don't seem to have regression imported/created,\")\n",
    "        print(\"   or else your regression object isn't named reg\")\n",
    "        print(\"   either way, only draw the scatter plot of the cleaned data\")\n",
    "    plt.scatter(ages, net_worths)\n",
    "    plt.xlabel(\"ages\")\n",
    "    plt.ylabel(\"net worths\")\n",
    "    plt.show()\n",
    "\n",
    "\n",
    "else:\n",
    "    print(\"outlierCleaner() is returning an empty list, no refitting to be done\")\n",
    "\n"
   ]
  },
  {
   "cell_type": "code",
   "execution_count": 72,
   "id": "c27bc7c1",
   "metadata": {},
   "outputs": [
    {
     "data": {
      "text/plain": [
       "array([[6.36859481]])"
      ]
     },
     "execution_count": 72,
     "metadata": {},
     "output_type": "execute_result"
    }
   ],
   "source": [
    "#What is the new slope? Is it closer to the “correct” result of 6.25?\n",
    "reg.coef_"
   ]
  },
  {
   "cell_type": "code",
   "execution_count": 73,
   "id": "8b5141dc",
   "metadata": {},
   "outputs": [
    {
     "data": {
      "text/plain": [
       "0.9831894553955322"
      ]
     },
     "execution_count": 73,
     "metadata": {},
     "output_type": "execute_result"
    }
   ],
   "source": [
    "#What’s the new score when you use the regression to make predictions on the test set?\n",
    "reg.score(ages_test, net_worths_test)"
   ]
  },
  {
   "cell_type": "code",
   "execution_count": null,
   "id": "1a6214ca",
   "metadata": {},
   "outputs": [],
   "source": [
    "# Identifying and cleaning away outliers is something you should always think about when looking at a dataset for the first time, and now you’ll get some hands-on experience with the Enron data. "
   ]
  },
  {
   "cell_type": "code",
   "execution_count": 75,
   "id": "3d522811",
   "metadata": {},
   "outputs": [
    {
     "data": {
      "image/png": "[encoded data removed]",
      "text/plain": [
       "<Figure size 432x288 with 1 Axes>"
      ]
     },
     "metadata": {
      "needs_background": "light"
     },
     "output_type": "display_data"
    }
   ],
   "source": [
    "#!/usr/bin/python3\n",
    "import os\n",
    "import joblib\n",
    "import sys\n",
    "import matplotlib.pyplot\n",
    "sys.path.append(os.path.abspath(\"../tools/\"))\n",
    "from feature_format import featureFormat, targetFeatureSplit\n",
    "\n",
    "\n",
    "### read in data dictionary, convert to numpy array\n",
    "data_dict = joblib.load( open(\"/home/adebisi/UDACITY PROJECTS/ud120-projects-master/final_project/final_project_dataset.pkl\", \"rb\") )\n",
    "features = [\"salary\", \"bonus\"]\n",
    "data = featureFormat(data_dict, features)\n",
    "\n",
    "\n",
    "### your code below\n",
    "for point in data:\n",
    "    salary = point[0]\n",
    "    bonus = point[1]\n",
    "    matplotlib.pyplot.scatter( salary, bonus )\n",
    "\n",
    "matplotlib.pyplot.xlabel(\"salary\")\n",
    "matplotlib.pyplot.ylabel(\"bonus\")\n",
    "matplotlib.pyplot.show()"
   ]
  },
  {
   "cell_type": "code",
   "execution_count": null,
   "id": "dd74ef46",
   "metadata": {},
   "outputs": [],
   "source": [
    "'''There’s one outlier that should pop out to you immediately. Now the question is to identify the source. \n",
    "We found the original data source to be very helpful for this identification; \n",
    "you can find that PDF in final_project/enron61702insiderpay.pdf\n",
    "What’s the name of the dictionary key of this data point? \n",
    "(e.g. if this is Ken Lay, the answer would be “LAY KENNETH L”).'''\n",
    "\n",
    "#A quick way to remove a key-value pair from a dictionary is the following line: dictionary.pop( key, 0 )\n",
    "#Write a line like this (you’ll have to modify the dictionary and key names, of course) and remove \n",
    "#the outlier before calling featureFormat(). \n",
    "#Now rerun the code, so your scatterplot doesn’t have this outlier anymore. Are all the outliers gone? \n",
    "\n"
   ]
  },
  {
   "cell_type": "code",
   "execution_count": 76,
   "id": "181abf90",
   "metadata": {},
   "outputs": [
    {
     "data": {
      "image/png": "[encoded data removed]",
      "text/plain": [
       "<Figure size 432x288 with 1 Axes>"
      ]
     },
     "metadata": {
      "needs_background": "light"
     },
     "output_type": "display_data"
    }
   ],
   "source": [
    "#!/usr/bin/python3\n",
    "import os\n",
    "import joblib\n",
    "import sys\n",
    "import matplotlib.pyplot\n",
    "sys.path.append(os.path.abspath(\"../tools/\"))\n",
    "from feature_format import featureFormat, targetFeatureSplit\n",
    "\n",
    "\n",
    "### read in data dictionary, convert to numpy array\n",
    "data_dict = joblib.load( open(\"/home/adebisi/UDACITY PROJECTS/ud120-projects-master/final_project/final_project_dataset.pkl\", \"rb\") )\n",
    "features = [\"salary\", \"bonus\"]\n",
    "data_dict.pop('TOTAL',0)\n",
    "\n",
    "data = featureFormat(data_dict, features)\n",
    "\n",
    "\n",
    "### your code below\n",
    "\n",
    "for point in data:\n",
    "    salary = point[0]\n",
    "    bonus = point[1]\n",
    "    matplotlib.pyplot.scatter( salary, bonus )\n",
    "\n",
    "matplotlib.pyplot.xlabel(\"salary\")\n",
    "matplotlib.pyplot.ylabel(\"bonus\")\n",
    "matplotlib.pyplot.show()"
   ]
  },
  {
   "cell_type": "code",
   "execution_count": null,
   "id": "3a1aa368",
   "metadata": {},
   "outputs": [],
   "source": []
  },
  {
   "cell_type": "code",
   "execution_count": null,
   "id": "ca9d7e63",
   "metadata": {},
   "outputs": [],
   "source": []
  },
  {
   "cell_type": "code",
   "execution_count": null,
   "id": "65e75315",
   "metadata": {},
   "outputs": [],
   "source": []
  },
  {
   "cell_type": "code",
   "execution_count": null,
   "id": "f65ca050",
   "metadata": {},
   "outputs": [],
   "source": []
  },
  {
   "cell_type": "code",
   "execution_count": 2,
   "id": "67f84f1b",
   "metadata": {},
   "outputs": [
    {
     "data": {
      "image/png": "[encoded data removed]",
      "text/plain": [
       "<Figure size 432x288 with 1 Axes>"
      ]
     },
     "metadata": {
      "needs_background": "light"
     },
     "output_type": "display_data"
    },
    {
     "name": "stdout",
     "output_type": "stream",
     "text": [
      "No predictions object named pred found, no clusters to plot\n"
     ]
    }
   ],
   "source": [
    "#CLUSTERING\n",
    "#!/usr/bin/python3\n",
    "\n",
    "\"\"\" \n",
    "    Skeleton code for k-means clustering mini-project.\n",
    "\"\"\"\n",
    "\n",
    "import os\n",
    "import joblib\n",
    "import numpy\n",
    "import matplotlib.pyplot as plt\n",
    "import sys\n",
    "sys.path.append(os.path.abspath(\"/home/adebisi/UDACITY PROJECTS/tools/\"))\n",
    "from feature_format import featureFormat, targetFeatureSplit\n",
    "\n",
    "def Draw(pred, features, poi, mark_poi=False, name=\"image.png\", f1_name=\"feature 1\", f2_name=\"feature 2\"):\n",
    "    \"\"\" some plotting code designed to help you visualize your clusters \"\"\"\n",
    "\n",
    "    ### plot each cluster with a different color--add more colors for\n",
    "    ### drawing more than five clusters\n",
    "    colors = [\"b\", \"c\", \"k\", \"m\", \"g\"]\n",
    "    for ii, pp in enumerate(pred):\n",
    "        plt.scatter(features[ii][0], features[ii][1], color = colors[pred[ii]])\n",
    "\n",
    "    ### if you like, place red stars over points that are POIs (just for funsies)\n",
    "    if mark_poi:\n",
    "        for ii, pp in enumerate(pred):\n",
    "            if poi[ii]:\n",
    "                plt.scatter(features[ii][0], features[ii][1], color=\"r\", marker=\"*\")\n",
    "    plt.xlabel(f1_name)\n",
    "    plt.ylabel(f2_name)\n",
    "    plt.savefig(name)\n",
    "    plt.show()\n",
    "\n",
    "\n",
    "\n",
    "### load in the dict of dicts containing all the data on each person in the dataset\n",
    "data_dict = joblib.load( open(\"/home/adebisi/UDACITY PROJECTS/ud120-projects-master/final_project/final_project_dataset.pkl\", \"rb\") )\n",
    "### there's an outlier--remove it! \n",
    "data_dict.pop(\"TOTAL\", 0)\n",
    "\n",
    "\n",
    "### the input features we want to use \n",
    "### can be any key in the person-level dictionary (salary, director_fees, etc.) \n",
    "feature_1 = \"salary\"\n",
    "feature_2 = \"exercised_stock_options\"\n",
    "poi  = \"poi\"\n",
    "features_list = [poi, feature_1, feature_2]\n",
    "data = featureFormat(data_dict, features_list )\n",
    "poi, finance_features = targetFeatureSplit( data )\n",
    "\n",
    "\n",
    "### in the \"clustering with 3 features\" part of the mini-project,\n",
    "### you'll want to change this line to \n",
    "### for f1, f2, _ in finance_features:\n",
    "### (as it's currently written, the line below assumes 2 features)\n",
    "for f1, f2 in finance_features:\n",
    "    plt.scatter( f1, f2 )\n",
    "plt.show()\n",
    "\n",
    "### cluster here; create predictions of the cluster labels\n",
    "### for the data and store them to a list called pred\n",
    "\n",
    "\n",
    "\n",
    "### rename the \"name\" parameter when you change the number of features\n",
    "### so that the figure gets saved to a different file\n",
    "try:\n",
    "    Draw(pred, finance_features, poi, mark_poi=False, name=\"clusters.pdf\", f1_name=feature_1, f2_name=feature_2)\n",
    "except NameError:\n",
    "    print(\"No predictions object named pred found, no clusters to plot\")\n"
   ]
  },
  {
   "cell_type": "code",
   "execution_count": 7,
   "id": "2f3be043",
   "metadata": {},
   "outputs": [
    {
     "data": {
      "text/plain": [
       "'Deploy k-means clustering on the financial_features data, with 2 clusters specified as a parameter. Store your cluster predictions to a list called pred, so that the Draw() command at the bottom of the script works properly. In the scatterplot that pops up, are the clusters what you expected?'"
      ]
     },
     "execution_count": 7,
     "metadata": {},
     "output_type": "execute_result"
    }
   ],
   "source": [
    "#You’ll start with performing k-means based on just two financial features--take a look at the code, \n",
    "#and determine which features the code uses for clustering.\n",
    "#Run the code, which will create a scatterplot of the data. Think a little bit about what clusters \n",
    "#you would expect to arise if 2 clusters are created.\n",
    "\n",
    "\n",
    "'''Deploy k-means clustering on the financial_features data, with 2 clusters specified as a parameter. Store your cluster predictions to a list called pred, so that the Draw() command at the bottom of the script works properly. In the scatterplot that pops up, are the clusters what you expected?'''"
   ]
  },
  {
   "cell_type": "code",
   "execution_count": 4,
   "id": "4525cea3",
   "metadata": {},
   "outputs": [
    {
     "data": {
      "image/png": "[encoded data removed]",
      "text/plain": [
       "<Figure size 432x288 with 1 Axes>"
      ]
     },
     "metadata": {
      "needs_background": "light"
     },
     "output_type": "display_data"
    },
    {
     "data": {
      "image/png": "[encoded data removed]",
      "text/plain": [
       "<Figure size 432x288 with 1 Axes>"
      ]
     },
     "metadata": {
      "needs_background": "light"
     },
     "output_type": "display_data"
    }
   ],
   "source": [
    "#CLUSTERING\n",
    "#!/usr/bin/python3\n",
    "\n",
    "\"\"\" \n",
    "    Skeleton code for k-means clustering mini-project.\n",
    "\"\"\"\n",
    "\n",
    "import os\n",
    "import joblib\n",
    "import numpy\n",
    "import matplotlib.pyplot as plt\n",
    "import sys\n",
    "sys.path.append(os.path.abspath(\"/home/adebisi/UDACITY PROJECTS/tools/\"))\n",
    "from feature_format import featureFormat, targetFeatureSplit\n",
    "\n",
    "def Draw(pred, features, poi, mark_poi=False, name=\"image.png\", f1_name=\"feature 1\", f2_name=\"feature 2\"):\n",
    "    \"\"\" some plotting code designed to help you visualize your clusters \"\"\"\n",
    "\n",
    "    ### plot each cluster with a different color--add more colors for\n",
    "    ### drawing more than five clusters\n",
    "    colors = [\"b\", \"c\", \"k\", \"m\", \"g\"]\n",
    "    for ii, pp in enumerate(pred):\n",
    "        plt.scatter(features[ii][0], features[ii][1], color = colors[pred[ii]])\n",
    "\n",
    "    ### if you like, place red stars over points that are POIs (just for funsies)\n",
    "    if mark_poi:\n",
    "        for ii, pp in enumerate(pred):\n",
    "            if poi[ii]:\n",
    "                plt.scatter(features[ii][0], features[ii][1], color=\"r\", marker=\"*\")\n",
    "    plt.xlabel(f1_name)\n",
    "    plt.ylabel(f2_name)\n",
    "    plt.savefig(name)\n",
    "    plt.show()\n",
    "\n",
    "\n",
    "\n",
    "### load in the dict of dicts containing all the data on each person in the dataset\n",
    "data_dict = joblib.load( open(\"/home/adebisi/UDACITY PROJECTS/ud120-projects-master/final_project/final_project_dataset.pkl\", \"rb\") )\n",
    "### there's an outlier--remove it! \n",
    "data_dict.pop(\"TOTAL\", 0)\n",
    "\n",
    "\n",
    "### the input features we want to use \n",
    "### can be any key in the person-level dictionary (salary, director_fees, etc.) \n",
    "feature_1 = \"salary\"\n",
    "feature_2 = \"exercised_stock_options\"\n",
    "poi  = \"poi\"\n",
    "features_list = [poi, feature_1, feature_2]\n",
    "data = featureFormat(data_dict, features_list )\n",
    "poi, finance_features = targetFeatureSplit( data )\n",
    "\n",
    "\n",
    "### in the \"clustering with 3 features\" part of the mini-project,\n",
    "### you'll want to change this line to \n",
    "### for f1, f2, _ in finance_features:\n",
    "### (as it's currently written, the line below assumes 2 features)\n",
    "for f1, f2 in finance_features:\n",
    "    plt.scatter( f1, f2 )\n",
    "plt.show()\n",
    "\n",
    "### cluster here; create predictions of the cluster labels\n",
    "### for the data and store them to a list called pred\n",
    "from sklearn.cluster import KMeans\n",
    "kmeans = KMeans(n_clusters=2, random_state=8).fit(finance_features)\n",
    "pred = kmeans.predict(finance_features)\n",
    "\n",
    "### rename the \"name\" parameter when you change the number of features\n",
    "### so that the figure gets saved to a different file\n",
    "try:\n",
    "    Draw(pred, finance_features, poi, mark_poi=False, name=\"clusters.pdf\", f1_name=feature_1, f2_name=feature_2)\n",
    "except NameError:\n",
    "    print(\"No predictions object named pred found, no clusters to plot\")\n"
   ]
  },
  {
   "cell_type": "code",
   "execution_count": 8,
   "id": "3093a0af",
   "metadata": {},
   "outputs": [
    {
     "data": {
      "text/plain": [
       "'Add a third feature to features_list, “total_payments\". Now rerun clustering, using 3 input features instead of 2 (obviously we can still only visualize the original 2 dimensions). Compare the plot with the clusterings to the one you obtained with 2 input features. Do any points switch clusters? How many? This new clustering, using 3 features, couldn’t have been guessed by eye--it was the k-means algorithm that identified it.\\n\\n(You\\'ll need to change the code that makes the scatterplot to accommodate 3 features instead of 2, see the comments in the starter code for instructions on how to do this.)\\n'"
      ]
     },
     "execution_count": 8,
     "metadata": {},
     "output_type": "execute_result"
    }
   ],
   "source": [
    "'''Add a third feature to features_list, “total_payments\". Now rerun clustering, using 3 input features instead of 2 (obviously we can still only visualize the original 2 dimensions). Compare the plot with the clusterings to the one you obtained with 2 input features. Do any points switch clusters? How many? This new clustering, using 3 features, couldn’t have been guessed by eye--it was the k-means algorithm that identified it.\n",
    "\n",
    "(You'll need to change the code that makes the scatterplot to accommodate 3 features instead of 2, see the comments in the starter code for instructions on how to do this.)\n",
    "'''"
   ]
  },
  {
   "cell_type": "code",
   "execution_count": 10,
   "id": "847a2cfa",
   "metadata": {},
   "outputs": [
    {
     "data": {
      "image/png": "[encoded data removed]",
      "text/plain": [
       "<Figure size 432x288 with 1 Axes>"
      ]
     },
     "metadata": {
      "needs_background": "light"
     },
     "output_type": "display_data"
    },
    {
     "data": {
      "image/png": "[encoded data removed]",
      "text/plain": [
       "<Figure size 432x288 with 1 Axes>"
      ]
     },
     "metadata": {
      "needs_background": "light"
     },
     "output_type": "display_data"
    }
   ],
   "source": [
    "#CLUSTERING\n",
    "#!/usr/bin/python3\n",
    "\n",
    "\"\"\" \n",
    "    Skeleton code for k-means clustering mini-project.\n",
    "\"\"\"\n",
    "\n",
    "import os\n",
    "import joblib\n",
    "import numpy\n",
    "import matplotlib.pyplot as plt\n",
    "import sys\n",
    "sys.path.append(os.path.abspath(\"/home/adebisi/UDACITY PROJECTS/tools/\"))\n",
    "from feature_format import featureFormat, targetFeatureSplit\n",
    "\n",
    "def Draw(pred, features, poi, mark_poi=False, name=\"image.png\", f1_name=\"feature 1\", f2_name=\"feature 2\"):\n",
    "    \"\"\" some plotting code designed to help you visualize your clusters \"\"\"\n",
    "\n",
    "    ### plot each cluster with a different color--add more colors for\n",
    "    ### drawing more than five clusters\n",
    "    colors = [\"b\", \"c\", \"k\", \"m\", \"g\"]\n",
    "    for ii, pp in enumerate(pred):\n",
    "        plt.scatter(features[ii][0], features[ii][1], color = colors[pred[ii]])\n",
    "\n",
    "    ### if you like, place red stars over points that are POIs (just for funsies)\n",
    "    if mark_poi:\n",
    "        for ii, pp in enumerate(pred):\n",
    "            if poi[ii]:\n",
    "                plt.scatter(features[ii][0], features[ii][1], color=\"r\", marker=\"*\")\n",
    "    plt.xlabel(f1_name)\n",
    "    plt.ylabel(f2_name)\n",
    "    plt.savefig(name)\n",
    "    plt.show()\n",
    "\n",
    "\n",
    "\n",
    "### load in the dict of dicts containing all the data on each person in the dataset\n",
    "data_dict = joblib.load( open(\"/home/adebisi/UDACITY PROJECTS/ud120-projects-master/final_project/final_project_dataset.pkl\", \"rb\") )\n",
    "### there's an outlier--remove it! \n",
    "data_dict.pop(\"TOTAL\", 0)\n",
    "\n",
    "\n",
    "### the input features we want to use \n",
    "### can be any key in the person-level dictionary (salary, director_fees, etc.) \n",
    "feature_1 = \"salary\"\n",
    "feature_2 = \"exercised_stock_options\"\n",
    "feature_3 = 'total_payments'\n",
    "poi  = \"poi\"\n",
    "features_list = [poi, feature_1, feature_2, feature_3]\n",
    "data = featureFormat(data_dict, features_list )\n",
    "poi, finance_features = targetFeatureSplit( data )\n",
    "\n",
    "\n",
    "### in the \"clustering with 3 features\" part of the mini-project,\n",
    "### you'll want to change this line to \n",
    "### for f1, f2, _ in finance_features:\n",
    "### (as it's currently written, the line below assumes 2 features)\n",
    "for f1, f2, _ in finance_features:\n",
    "    plt.scatter( f1, f2)\n",
    "plt.show()\n",
    "\n",
    "### cluster here; create predictions of the cluster labels\n",
    "### for the data and store them to a list called pred\n",
    "from sklearn.cluster import KMeans\n",
    "kmeans = KMeans(n_clusters=2, random_state=8).fit(finance_features)\n",
    "pred = kmeans.predict(finance_features)\n",
    "\n",
    "### rename the \"name\" parameter when you change the number of features\n",
    "### so that the figure gets saved to a different file\n",
    "try:\n",
    "    Draw(pred, finance_features, poi, mark_poi=False, name=\"clusters.pdf\", f1_name=feature_1, f2_name=feature_2)\n",
    "except NameError:\n",
    "    print(\"No predictions object named pred found, no clusters to plot\")\n"
   ]
  },
  {
   "cell_type": "code",
   "execution_count": 11,
   "id": "5940b24c",
   "metadata": {},
   "outputs": [
    {
     "data": {
      "text/plain": [
       "'What are the maximum and minimum values taken by the “exercised_stock_options” feature used in this example?\\n\\n(NB: if you look at finance_features, there are some \"NaN\" values that have been cleaned away and \\nreplaced with zeroes--so while those might look like the minima, it\\'s a bit deceptive because they\\'re \\nmore like points for which we don\\'t have information, and just have to put in a number.\\nSo for this question, go back to data_dict and look for the maximum and minimum numbers that show up there,\\nignoring all the \"NaN\" entries.)'"
      ]
     },
     "execution_count": 11,
     "metadata": {},
     "output_type": "execute_result"
    }
   ],
   "source": [
    "'''What are the maximum and minimum values taken by the “exercised_stock_options” feature used in this example?\n",
    "\n",
    "(NB: if you look at finance_features, there are some \"NaN\" values that have been cleaned away and \n",
    "replaced with zeroes--so while those might look like the minima, it's a bit deceptive because they're \n",
    "more like points for which we don't have information, and just have to put in a number.\n",
    "So for this question, go back to data_dict and look for the maximum and minimum numbers that show up there,\n",
    "ignoring all the \"NaN\" entries.)'''"
   ]
  },
  {
   "cell_type": "code",
   "execution_count": 15,
   "id": "33eda43c",
   "metadata": {},
   "outputs": [
    {
     "data": {
      "text/plain": [
       "dict_items([('METTS MARK', {'salary': 365788, 'to_messages': 807, 'deferral_payments': 'NaN', 'total_payments': 1061827, 'loan_advances': 'NaN', 'bonus': 600000, 'email_address': 'mark.metts@enron.com', 'restricted_stock_deferred': 'NaN', 'deferred_income': 'NaN', 'total_stock_value': 585062, 'expenses': 94299, 'from_poi_to_this_person': 38, 'exercised_stock_options': 'NaN', 'from_messages': 29, 'other': 1740, 'from_this_person_to_poi': 1, 'poi': False, 'long_term_incentive': 'NaN', 'shared_receipt_with_poi': 702, 'restricted_stock': 585062, 'director_fees': 'NaN'}), ('BAXTER JOHN C', {'salary': 267102, 'to_messages': 'NaN', 'deferral_payments': 1295738, 'total_payments': 5634343, 'loan_advances': 'NaN', 'bonus': 1200000, 'email_address': 'NaN', 'restricted_stock_deferred': 'NaN', 'deferred_income': -1386055, 'total_stock_value': 10623258, 'expenses': 11200, 'from_poi_to_this_person': 'NaN', 'exercised_stock_options': 6680544, 'from_messages': 'NaN', 'other': 2660303, 'from_this_person_to_poi': 'NaN', 'poi': False, 'long_term_incentive': 1586055, 'shared_receipt_with_poi': 'NaN', 'restricted_stock': 3942714, 'director_fees': 'NaN'}), ('ELLIOTT STEVEN', {'salary': 170941, 'to_messages': 'NaN', 'deferral_payments': 'NaN', 'total_payments': 211725, 'loan_advances': 'NaN', 'bonus': 350000, 'email_address': 'steven.elliott@enron.com', 'restricted_stock_deferred': 'NaN', 'deferred_income': -400729, 'total_stock_value': 6678735, 'expenses': 78552, 'from_poi_to_this_person': 'NaN', 'exercised_stock_options': 4890344, 'from_messages': 'NaN', 'other': 12961, 'from_this_person_to_poi': 'NaN', 'poi': False, 'long_term_incentive': 'NaN', 'shared_receipt_with_poi': 'NaN', 'restricted_stock': 1788391, 'director_fees': 'NaN'}), ('CORDES WILLIAM R', {'salary': 'NaN', 'to_messages': 764, 'deferral_payments': 'NaN', 'total_payments': 'NaN', 'loan_advances': 'NaN', 'bonus': 'NaN', 'email_address': 'bill.cordes@enron.com', 'restricted_stock_deferred': 'NaN', 'deferred_income': 'NaN', 'total_stock_value': 1038185, 'expenses': 'NaN', 'from_poi_to_this_person': 10, 'exercised_stock_options': 651850, 'from_messages': 12, 'other': 'NaN', 'from_this_person_to_poi': 0, 'poi': False, 'long_term_incentive': 'NaN', 'shared_receipt_with_poi': 58, 'restricted_stock': 386335, 'director_fees': 'NaN'}), ('HANNON KEVIN P', {'salary': 243293, 'to_messages': 1045, 'deferral_payments': 'NaN', 'total_payments': 288682, 'loan_advances': 'NaN', 'bonus': 1500000, 'email_address': 'kevin.hannon@enron.com', 'restricted_stock_deferred': 'NaN', 'deferred_income': -3117011, 'total_stock_value': 6391065, 'expenses': 34039, 'from_poi_to_this_person': 32, 'exercised_stock_options': 5538001, 'from_messages': 32, 'other': 11350, 'from_this_person_to_poi': 21, 'poi': True, 'long_term_incentive': 1617011, 'shared_receipt_with_poi': 1035, 'restricted_stock': 853064, 'director_fees': 'NaN'}), ('MORDAUNT KRISTINA M', {'salary': 267093, 'to_messages': 'NaN', 'deferral_payments': 'NaN', 'total_payments': 628522, 'loan_advances': 'NaN', 'bonus': 325000, 'email_address': 'kristina.mordaunt@enron.com', 'restricted_stock_deferred': 'NaN', 'deferred_income': 'NaN', 'total_stock_value': 208510, 'expenses': 35018, 'from_poi_to_this_person': 'NaN', 'exercised_stock_options': 'NaN', 'from_messages': 'NaN', 'other': 1411, 'from_this_person_to_poi': 'NaN', 'poi': False, 'long_term_incentive': 'NaN', 'shared_receipt_with_poi': 'NaN', 'restricted_stock': 208510, 'director_fees': 'NaN'}), ('MEYER ROCKFORD G', {'salary': 'NaN', 'to_messages': 232, 'deferral_payments': 1848227, 'total_payments': 1848227, 'loan_advances': 'NaN', 'bonus': 'NaN', 'email_address': 'rockford.meyer@enron.com', 'restricted_stock_deferred': 'NaN', 'deferred_income': 'NaN', 'total_stock_value': 955873, 'expenses': 'NaN', 'from_poi_to_this_person': 0, 'exercised_stock_options': 493489, 'from_messages': 28, 'other': 'NaN', 'from_this_person_to_poi': 0, 'poi': False, 'long_term_incentive': 'NaN', 'shared_receipt_with_poi': 22, 'restricted_stock': 462384, 'director_fees': 'NaN'}), ('MCMAHON JEFFREY', {'salary': 370448, 'to_messages': 2355, 'deferral_payments': 'NaN', 'total_payments': 4099771, 'loan_advances': 'NaN', 'bonus': 2600000, 'email_address': 'jeffrey.mcmahon@enron.com', 'restricted_stock_deferred': 'NaN', 'deferred_income': 'NaN', 'total_stock_value': 1662855, 'expenses': 137108, 'from_poi_to_this_person': 58, 'exercised_stock_options': 1104054, 'from_messages': 48, 'other': 297353, 'from_this_person_to_poi': 26, 'poi': False, 'long_term_incentive': 694862, 'shared_receipt_with_poi': 2228, 'restricted_stock': 558801, 'director_fees': 'NaN'}), ('HAEDICKE MARK E', {'salary': 374125, 'to_messages': 4009, 'deferral_payments': 2157527, 'total_payments': 3859065, 'loan_advances': 'NaN', 'bonus': 1150000, 'email_address': 'mark.haedicke@enron.com', 'restricted_stock_deferred': -329825, 'deferred_income': -934484, 'total_stock_value': 803094, 'expenses': 76169, 'from_poi_to_this_person': 180, 'exercised_stock_options': 608750, 'from_messages': 1941, 'other': 52382, 'from_this_person_to_poi': 61, 'poi': False, 'long_term_incentive': 983346, 'shared_receipt_with_poi': 1847, 'restricted_stock': 524169, 'director_fees': 'NaN'}), ('PIPER GREGORY F', {'salary': 197091, 'to_messages': 1238, 'deferral_payments': 1130036, 'total_payments': 1737629, 'loan_advances': 'NaN', 'bonus': 400000, 'email_address': 'greg.piper@enron.com', 'restricted_stock_deferred': -409554, 'deferred_income': -33333, 'total_stock_value': 880290, 'expenses': 43057, 'from_poi_to_this_person': 61, 'exercised_stock_options': 880290, 'from_messages': 222, 'other': 778, 'from_this_person_to_poi': 48, 'poi': False, 'long_term_incentive': 'NaN', 'shared_receipt_with_poi': 742, 'restricted_stock': 409554, 'director_fees': 'NaN'}), ('HUMPHREY GENE E', {'salary': 130724, 'to_messages': 128, 'deferral_payments': 2964506, 'total_payments': 3100224, 'loan_advances': 'NaN', 'bonus': 'NaN', 'email_address': 'gene.humphrey@enron.com', 'restricted_stock_deferred': 'NaN', 'deferred_income': 'NaN', 'total_stock_value': 2282768, 'expenses': 4994, 'from_poi_to_this_person': 10, 'exercised_stock_options': 2282768, 'from_messages': 17, 'other': 'NaN', 'from_this_person_to_poi': 17, 'poi': False, 'long_term_incentive': 'NaN', 'shared_receipt_with_poi': 119, 'restricted_stock': 'NaN', 'director_fees': 'NaN'}), ('NOLES JAMES L', {'salary': 'NaN', 'to_messages': 'NaN', 'deferral_payments': 774401, 'total_payments': 774401, 'loan_advances': 'NaN', 'bonus': 'NaN', 'email_address': 'NaN', 'restricted_stock_deferred': -94556, 'deferred_income': 'NaN', 'total_stock_value': 368705, 'expenses': 'NaN', 'from_poi_to_this_person': 'NaN', 'exercised_stock_options': 'NaN', 'from_messages': 'NaN', 'other': 'NaN', 'from_this_person_to_poi': 'NaN', 'poi': False, 'long_term_incentive': 'NaN', 'shared_receipt_with_poi': 'NaN', 'restricted_stock': 463261, 'director_fees': 'NaN'}), ('BLACHMAN JEREMY M', {'salary': 248546, 'to_messages': 2475, 'deferral_payments': 'NaN', 'total_payments': 2014835, 'loan_advances': 'NaN', 'bonus': 850000, 'email_address': 'jeremy.blachman@enron.com', 'restricted_stock_deferred': 'NaN', 'deferred_income': 'NaN', 'total_stock_value': 954354, 'expenses': 84208, 'from_poi_to_this_person': 25, 'exercised_stock_options': 765313, 'from_messages': 14, 'other': 272, 'from_this_person_to_poi': 2, 'poi': False, 'long_term_incentive': 831809, 'shared_receipt_with_poi': 2326, 'restricted_stock': 189041, 'director_fees': 'NaN'}), ('SUNDE MARTIN', {'salary': 257486, 'to_messages': 2647, 'deferral_payments': 'NaN', 'total_payments': 1545059, 'loan_advances': 'NaN', 'bonus': 700000, 'email_address': 'marty.sunde@enron.com', 'restricted_stock_deferred': 'NaN', 'deferred_income': 'NaN', 'total_stock_value': 698920, 'expenses': 'NaN', 'from_poi_to_this_person': 37, 'exercised_stock_options': 'NaN', 'from_messages': 38, 'other': 111122, 'from_this_person_to_poi': 13, 'poi': False, 'long_term_incentive': 476451, 'shared_receipt_with_poi': 2565, 'restricted_stock': 698920, 'director_fees': 'NaN'}), ('GIBBS DANA R', {'salary': 'NaN', 'to_messages': 169, 'deferral_payments': 504610, 'total_payments': 966522, 'loan_advances': 'NaN', 'bonus': 'NaN', 'email_address': 'dana.gibbs@enron.com', 'restricted_stock_deferred': 'NaN', 'deferred_income': 'NaN', 'total_stock_value': 2218275, 'expenses': 'NaN', 'from_poi_to_this_person': 0, 'exercised_stock_options': 2218275, 'from_messages': 12, 'other': 'NaN', 'from_this_person_to_poi': 0, 'poi': False, 'long_term_incentive': 461912, 'shared_receipt_with_poi': 23, 'restricted_stock': 'NaN', 'director_fees': 'NaN'}), ('LOWRY CHARLES P', {'salary': 'NaN', 'to_messages': 'NaN', 'deferral_payments': 'NaN', 'total_payments': 'NaN', 'loan_advances': 'NaN', 'bonus': 'NaN', 'email_address': 'NaN', 'restricted_stock_deferred': -153686, 'deferred_income': 'NaN', 'total_stock_value': 372205, 'expenses': 'NaN', 'from_poi_to_this_person': 'NaN', 'exercised_stock_options': 372205, 'from_messages': 'NaN', 'other': 'NaN', 'from_this_person_to_poi': 'NaN', 'poi': False, 'long_term_incentive': 'NaN', 'shared_receipt_with_poi': 'NaN', 'restricted_stock': 153686, 'director_fees': 'NaN'}), ('COLWELL WESLEY', {'salary': 288542, 'to_messages': 1758, 'deferral_payments': 27610, 'total_payments': 1490344, 'loan_advances': 'NaN', 'bonus': 1200000, 'email_address': 'wes.colwell@enron.com', 'restricted_stock_deferred': 'NaN', 'deferred_income': -144062, 'total_stock_value': 698242, 'expenses': 16514, 'from_poi_to_this_person': 240, 'exercised_stock_options': 'NaN', 'from_messages': 40, 'other': 101740, 'from_this_person_to_poi': 11, 'poi': True, 'long_term_incentive': 'NaN', 'shared_receipt_with_poi': 1132, 'restricted_stock': 698242, 'director_fees': 'NaN'}), ('MULLER MARK S', {'salary': 251654, 'to_messages': 136, 'deferral_payments': 842924, 'total_payments': 3202070, 'loan_advances': 'NaN', 'bonus': 1100000, 'email_address': 's..muller@enron.com', 'restricted_stock_deferred': 'NaN', 'deferred_income': -719000, 'total_stock_value': 1416848, 'expenses': 'NaN', 'from_poi_to_this_person': 12, 'exercised_stock_options': 1056320, 'from_messages': 16, 'other': 947, 'from_this_person_to_poi': 0, 'poi': False, 'long_term_incentive': 1725545, 'shared_receipt_with_poi': 114, 'restricted_stock': 360528, 'director_fees': 'NaN'}), ('JACKSON CHARLENE R', {'salary': 288558, 'to_messages': 258, 'deferral_payments': 'NaN', 'total_payments': 551174, 'loan_advances': 'NaN', 'bonus': 250000, 'email_address': 'charlene.jackson@enron.com', 'restricted_stock_deferred': 'NaN', 'deferred_income': 'NaN', 'total_stock_value': 725735, 'expenses': 10181, 'from_poi_to_this_person': 25, 'exercised_stock_options': 185063, 'from_messages': 56, 'other': 2435, 'from_this_person_to_poi': 19, 'poi': False, 'long_term_incentive': 'NaN', 'shared_receipt_with_poi': 117, 'restricted_stock': 540672, 'director_fees': 'NaN'}), ('WESTFAHL RICHARD K', {'salary': 63744, 'to_messages': 'NaN', 'deferral_payments': 'NaN', 'total_payments': 762135, 'loan_advances': 'NaN', 'bonus': 'NaN', 'email_address': 'dick.westfahl@enron.com', 'restricted_stock_deferred': 'NaN', 'deferred_income': -10800, 'total_stock_value': 384930, 'expenses': 51870, 'from_poi_to_this_person': 'NaN', 'exercised_stock_options': 'NaN', 'from_messages': 'NaN', 'other': 401130, 'from_this_person_to_poi': 'NaN', 'poi': False, 'long_term_incentive': 256191, 'shared_receipt_with_poi': 'NaN', 'restricted_stock': 384930, 'director_fees': 'NaN'}), ('WALTERS GARETH W', {'salary': 'NaN', 'to_messages': 'NaN', 'deferral_payments': 53625, 'total_payments': 87410, 'loan_advances': 'NaN', 'bonus': 'NaN', 'email_address': 'NaN', 'restricted_stock_deferred': 'NaN', 'deferred_income': 'NaN', 'total_stock_value': 1030329, 'expenses': 33785, 'from_poi_to_this_person': 'NaN', 'exercised_stock_options': 1030329, 'from_messages': 'NaN', 'other': 'NaN', 'from_this_person_to_poi': 'NaN', 'poi': False, 'long_term_incentive': 'NaN', 'shared_receipt_with_poi': 'NaN', 'restricted_stock': 'NaN', 'director_fees': 'NaN'}), ('WALLS JR ROBERT H', {'salary': 357091, 'to_messages': 671, 'deferral_payments': 'NaN', 'total_payments': 1798780, 'loan_advances': 'NaN', 'bonus': 850000, 'email_address': 'rob.walls@enron.com', 'restricted_stock_deferred': 'NaN', 'deferred_income': 'NaN', 'total_stock_value': 5898997, 'expenses': 50936, 'from_poi_to_this_person': 17, 'exercised_stock_options': 4346544, 'from_messages': 146, 'other': 2, 'from_this_person_to_poi': 0, 'poi': False, 'long_term_incentive': 540751, 'shared_receipt_with_poi': 215, 'restricted_stock': 1552453, 'director_fees': 'NaN'}), ('KITCHEN LOUISE', {'salary': 271442, 'to_messages': 8305, 'deferral_payments': 'NaN', 'total_payments': 3471141, 'loan_advances': 'NaN', 'bonus': 3100000, 'email_address': 'louise.kitchen@enron.com', 'restricted_stock_deferred': 'NaN', 'deferred_income': 'NaN', 'total_stock_value': 547143, 'expenses': 5774, 'from_poi_to_this_person': 251, 'exercised_stock_options': 81042, 'from_messages': 1728, 'other': 93925, 'from_this_person_to_poi': 194, 'poi': False, 'long_term_incentive': 'NaN', 'shared_receipt_with_poi': 3669, 'restricted_stock': 466101, 'director_fees': 'NaN'}), ('CHAN RONNIE', {'salary': 'NaN', 'to_messages': 'NaN', 'deferral_payments': 'NaN', 'total_payments': 'NaN', 'loan_advances': 'NaN', 'bonus': 'NaN', 'email_address': 'NaN', 'restricted_stock_deferred': -32460, 'deferred_income': -98784, 'total_stock_value': 'NaN', 'expenses': 'NaN', 'from_poi_to_this_person': 'NaN', 'exercised_stock_options': 'NaN', 'from_messages': 'NaN', 'other': 'NaN', 'from_this_person_to_poi': 'NaN', 'poi': False, 'long_term_incentive': 'NaN', 'shared_receipt_with_poi': 'NaN', 'restricted_stock': 32460, 'director_fees': 98784}), ('BELFER ROBERT', {'salary': 'NaN', 'to_messages': 'NaN', 'deferral_payments': -102500, 'total_payments': 102500, 'loan_advances': 'NaN', 'bonus': 'NaN', 'email_address': 'NaN', 'restricted_stock_deferred': 44093, 'deferred_income': 'NaN', 'total_stock_value': -44093, 'expenses': 'NaN', 'from_poi_to_this_person': 'NaN', 'exercised_stock_options': 3285, 'from_messages': 'NaN', 'other': 'NaN', 'from_this_person_to_poi': 'NaN', 'poi': False, 'long_term_incentive': 'NaN', 'shared_receipt_with_poi': 'NaN', 'restricted_stock': 'NaN', 'director_fees': 3285}), ('SHANKMAN JEFFREY A', {'salary': 304110, 'to_messages': 3221, 'deferral_payments': 'NaN', 'total_payments': 3038702, 'loan_advances': 'NaN', 'bonus': 2000000, 'email_address': 'jeffrey.shankman@enron.com', 'restricted_stock_deferred': 'NaN', 'deferred_income': 'NaN', 'total_stock_value': 2072035, 'expenses': 178979, 'from_poi_to_this_person': 94, 'exercised_stock_options': 1441898, 'from_messages': 2681, 'other': 1191, 'from_this_person_to_poi': 83, 'poi': False, 'long_term_incentive': 554422, 'shared_receipt_with_poi': 1730, 'restricted_stock': 630137, 'director_fees': 'NaN'}), ('WODRASKA JOHN', {'salary': 'NaN', 'to_messages': 'NaN', 'deferral_payments': 'NaN', 'total_payments': 189583, 'loan_advances': 'NaN', 'bonus': 'NaN', 'email_address': 'john.wodraska@enron.com', 'restricted_stock_deferred': 'NaN', 'deferred_income': 'NaN', 'total_stock_value': 'NaN', 'expenses': 'NaN', 'from_poi_to_this_person': 'NaN', 'exercised_stock_options': 'NaN', 'from_messages': 'NaN', 'other': 189583, 'from_this_person_to_poi': 'NaN', 'poi': False, 'long_term_incentive': 'NaN', 'shared_receipt_with_poi': 'NaN', 'restricted_stock': 'NaN', 'director_fees': 'NaN'}), ('BERGSIEKER RICHARD P', {'salary': 187922, 'to_messages': 383, 'deferral_payments': 'NaN', 'total_payments': 618850, 'loan_advances': 'NaN', 'bonus': 250000, 'email_address': 'rick.bergsieker@enron.com', 'restricted_stock_deferred': 'NaN', 'deferred_income': -485813, 'total_stock_value': 659249, 'expenses': 59175, 'from_poi_to_this_person': 4, 'exercised_stock_options': 'NaN', 'from_messages': 59, 'other': 427316, 'from_this_person_to_poi': 0, 'poi': False, 'long_term_incentive': 180250, 'shared_receipt_with_poi': 233, 'restricted_stock': 659249, 'director_fees': 'NaN'}), ('URQUHART JOHN A', {'salary': 'NaN', 'to_messages': 'NaN', 'deferral_payments': 'NaN', 'total_payments': 228656, 'loan_advances': 'NaN', 'bonus': 'NaN', 'email_address': 'NaN', 'restricted_stock_deferred': 'NaN', 'deferred_income': -36666, 'total_stock_value': 'NaN', 'expenses': 228656, 'from_poi_to_this_person': 'NaN', 'exercised_stock_options': 'NaN', 'from_messages': 'NaN', 'other': 'NaN', 'from_this_person_to_poi': 'NaN', 'poi': False, 'long_term_incentive': 'NaN', 'shared_receipt_with_poi': 'NaN', 'restricted_stock': 'NaN', 'director_fees': 36666}), ('BIBI PHILIPPE A', {'salary': 213625, 'to_messages': 1607, 'deferral_payments': 'NaN', 'total_payments': 2047593, 'loan_advances': 'NaN', 'bonus': 1000000, 'email_address': 'philippe.bibi@enron.com', 'restricted_stock_deferred': 'NaN', 'deferred_income': 'NaN', 'total_stock_value': 1843816, 'expenses': 38559, 'from_poi_to_this_person': 23, 'exercised_stock_options': 1465734, 'from_messages': 40, 'other': 425688, 'from_this_person_to_poi': 8, 'poi': False, 'long_term_incentive': 369721, 'shared_receipt_with_poi': 1336, 'restricted_stock': 378082, 'director_fees': 'NaN'}), ('RIEKER PAULA H', {'salary': 249201, 'to_messages': 1328, 'deferral_payments': 214678, 'total_payments': 1099100, 'loan_advances': 'NaN', 'bonus': 700000, 'email_address': 'paula.rieker@enron.com', 'restricted_stock_deferred': 'NaN', 'deferred_income': -100000, 'total_stock_value': 1918887, 'expenses': 33271, 'from_poi_to_this_person': 35, 'exercised_stock_options': 1635238, 'from_messages': 82, 'other': 1950, 'from_this_person_to_poi': 48, 'poi': True, 'long_term_incentive': 'NaN', 'shared_receipt_with_poi': 1258, 'restricted_stock': 283649, 'director_fees': 'NaN'}), ('WHALEY DAVID A', {'salary': 'NaN', 'to_messages': 'NaN', 'deferral_payments': 'NaN', 'total_payments': 'NaN', 'loan_advances': 'NaN', 'bonus': 'NaN', 'email_address': 'NaN', 'restricted_stock_deferred': 'NaN', 'deferred_income': 'NaN', 'total_stock_value': 98718, 'expenses': 'NaN', 'from_poi_to_this_person': 'NaN', 'exercised_stock_options': 98718, 'from_messages': 'NaN', 'other': 'NaN', 'from_this_person_to_poi': 'NaN', 'poi': False, 'long_term_incentive': 'NaN', 'shared_receipt_with_poi': 'NaN', 'restricted_stock': 'NaN', 'director_fees': 'NaN'}), ('BECK SALLY W', {'salary': 231330, 'to_messages': 7315, 'deferral_payments': 'NaN', 'total_payments': 969068, 'loan_advances': 'NaN', 'bonus': 700000, 'email_address': 'sally.beck@enron.com', 'restricted_stock_deferred': 'NaN', 'deferred_income': 'NaN', 'total_stock_value': 126027, 'expenses': 37172, 'from_poi_to_this_person': 144, 'exercised_stock_options': 'NaN', 'from_messages': 4343, 'other': 566, 'from_this_person_to_poi': 386, 'poi': False, 'long_term_incentive': 'NaN', 'shared_receipt_with_poi': 2639, 'restricted_stock': 126027, 'director_fees': 'NaN'}), ('HAUG DAVID L', {'salary': 'NaN', 'to_messages': 573, 'deferral_payments': 'NaN', 'total_payments': 475, 'loan_advances': 'NaN', 'bonus': 'NaN', 'email_address': 'david.haug@enron.com', 'restricted_stock_deferred': 'NaN', 'deferred_income': 'NaN', 'total_stock_value': 2217299, 'expenses': 475, 'from_poi_to_this_person': 4, 'exercised_stock_options': 'NaN', 'from_messages': 19, 'other': 'NaN', 'from_this_person_to_poi': 7, 'poi': False, 'long_term_incentive': 'NaN', 'shared_receipt_with_poi': 471, 'restricted_stock': 2217299, 'director_fees': 'NaN'}), ('ECHOLS JOHN B', {'salary': 182245, 'to_messages': 'NaN', 'deferral_payments': 'NaN', 'total_payments': 2692324, 'loan_advances': 'NaN', 'bonus': 200000, 'email_address': 'john.echols@enron.com', 'restricted_stock_deferred': 'NaN', 'deferred_income': 'NaN', 'total_stock_value': 1008941, 'expenses': 21530, 'from_poi_to_this_person': 'NaN', 'exercised_stock_options': 601438, 'from_messages': 'NaN', 'other': 53775, 'from_this_person_to_poi': 'NaN', 'poi': False, 'long_term_incentive': 2234774, 'shared_receipt_with_poi': 'NaN', 'restricted_stock': 407503, 'director_fees': 'NaN'}), ('MENDELSOHN JOHN', {'salary': 'NaN', 'to_messages': 'NaN', 'deferral_payments': 'NaN', 'total_payments': 148, 'loan_advances': 'NaN', 'bonus': 'NaN', 'email_address': 'NaN', 'restricted_stock_deferred': 'NaN', 'deferred_income': -103750, 'total_stock_value': 'NaN', 'expenses': 148, 'from_poi_to_this_person': 'NaN', 'exercised_stock_options': 'NaN', 'from_messages': 'NaN', 'other': 'NaN', 'from_this_person_to_poi': 'NaN', 'poi': False, 'long_term_incentive': 'NaN', 'shared_receipt_with_poi': 'NaN', 'restricted_stock': 'NaN', 'director_fees': 103750}), ('HICKERSON GARY J', {'salary': 211788, 'to_messages': 1320, 'deferral_payments': 'NaN', 'total_payments': 2081796, 'loan_advances': 'NaN', 'bonus': 1700000, 'email_address': 'gary.hickerson@enron.com', 'restricted_stock_deferred': 'NaN', 'deferred_income': 'NaN', 'total_stock_value': 441096, 'expenses': 98849, 'from_poi_to_this_person': 40, 'exercised_stock_options': 'NaN', 'from_messages': 27, 'other': 1936, 'from_this_person_to_poi': 1, 'poi': False, 'long_term_incentive': 69223, 'shared_receipt_with_poi': 900, 'restricted_stock': 441096, 'director_fees': 'NaN'}), ('CLINE KENNETH W', {'salary': 'NaN', 'to_messages': 'NaN', 'deferral_payments': 'NaN', 'total_payments': 'NaN', 'loan_advances': 'NaN', 'bonus': 'NaN', 'email_address': 'NaN', 'restricted_stock_deferred': -472568, 'deferred_income': 'NaN', 'total_stock_value': 189518, 'expenses': 'NaN', 'from_poi_to_this_person': 'NaN', 'exercised_stock_options': 'NaN', 'from_messages': 'NaN', 'other': 'NaN', 'from_this_person_to_poi': 'NaN', 'poi': False, 'long_term_incentive': 'NaN', 'shared_receipt_with_poi': 'NaN', 'restricted_stock': 662086, 'director_fees': 'NaN'}), ('LEWIS RICHARD', {'salary': 'NaN', 'to_messages': 952, 'deferral_payments': 'NaN', 'total_payments': 'NaN', 'loan_advances': 'NaN', 'bonus': 'NaN', 'email_address': 'richard.lewis@enron.com', 'restricted_stock_deferred': 'NaN', 'deferred_income': 'NaN', 'total_stock_value': 850477, 'expenses': 'NaN', 'from_poi_to_this_person': 10, 'exercised_stock_options': 850477, 'from_messages': 26, 'other': 'NaN', 'from_this_person_to_poi': 0, 'poi': False, 'long_term_incentive': 'NaN', 'shared_receipt_with_poi': 739, 'restricted_stock': 'NaN', 'director_fees': 'NaN'}), ('HAYES ROBERT E', {'salary': 'NaN', 'to_messages': 504, 'deferral_payments': 7961, 'total_payments': 7961, 'loan_advances': 'NaN', 'bonus': 'NaN', 'email_address': 'robert.hayes@enron.com', 'restricted_stock_deferred': 'NaN', 'deferred_income': 'NaN', 'total_stock_value': 151418, 'expenses': 'NaN', 'from_poi_to_this_person': 16, 'exercised_stock_options': 'NaN', 'from_messages': 12, 'other': 'NaN', 'from_this_person_to_poi': 0, 'poi': False, 'long_term_incentive': 'NaN', 'shared_receipt_with_poi': 50, 'restricted_stock': 151418, 'director_fees': 'NaN'}), ('KOPPER MICHAEL J', {'salary': 224305, 'to_messages': 'NaN', 'deferral_payments': 'NaN', 'total_payments': 2652612, 'loan_advances': 'NaN', 'bonus': 800000, 'email_address': 'michael.kopper@enron.com', 'restricted_stock_deferred': 'NaN', 'deferred_income': 'NaN', 'total_stock_value': 985032, 'expenses': 118134, 'from_poi_to_this_person': 'NaN', 'exercised_stock_options': 'NaN', 'from_messages': 'NaN', 'other': 907502, 'from_this_person_to_poi': 'NaN', 'poi': True, 'long_term_incentive': 602671, 'shared_receipt_with_poi': 'NaN', 'restricted_stock': 985032, 'director_fees': 'NaN'}), ('LEFF DANIEL P', {'salary': 273746, 'to_messages': 2822, 'deferral_payments': 'NaN', 'total_payments': 2664228, 'loan_advances': 'NaN', 'bonus': 1000000, 'email_address': 'dan.leff@enron.com', 'restricted_stock_deferred': 'NaN', 'deferred_income': 'NaN', 'total_stock_value': 360528, 'expenses': 'NaN', 'from_poi_to_this_person': 67, 'exercised_stock_options': 'NaN', 'from_messages': 63, 'other': 3083, 'from_this_person_to_poi': 14, 'poi': False, 'long_term_incentive': 1387399, 'shared_receipt_with_poi': 2672, 'restricted_stock': 360528, 'director_fees': 'NaN'}), ('LAVORATO JOHN J', {'salary': 339288, 'to_messages': 7259, 'deferral_payments': 'NaN', 'total_payments': 10425757, 'loan_advances': 'NaN', 'bonus': 8000000, 'email_address': 'john.lavorato@enron.com', 'restricted_stock_deferred': 'NaN', 'deferred_income': 'NaN', 'total_stock_value': 5167144, 'expenses': 49537, 'from_poi_to_this_person': 528, 'exercised_stock_options': 4158995, 'from_messages': 2585, 'other': 1552, 'from_this_person_to_poi': 411, 'poi': False, 'long_term_incentive': 2035380, 'shared_receipt_with_poi': 3962, 'restricted_stock': 1008149, 'director_fees': 'NaN'}), ('BERBERIAN DAVID', {'salary': 216582, 'to_messages': 'NaN', 'deferral_payments': 'NaN', 'total_payments': 228474, 'loan_advances': 'NaN', 'bonus': 'NaN', 'email_address': 'david.berberian@enron.com', 'restricted_stock_deferred': 'NaN', 'deferred_income': 'NaN', 'total_stock_value': 2493616, 'expenses': 11892, 'from_poi_to_this_person': 'NaN', 'exercised_stock_options': 1624396, 'from_messages': 'NaN', 'other': 'NaN', 'from_this_person_to_poi': 'NaN', 'poi': False, 'long_term_incentive': 'NaN', 'shared_receipt_with_poi': 'NaN', 'restricted_stock': 869220, 'director_fees': 'NaN'}), ('DETMERING TIMOTHY J', {'salary': 210500, 'to_messages': 'NaN', 'deferral_payments': 875307, 'total_payments': 1204583, 'loan_advances': 'NaN', 'bonus': 425000, 'email_address': 'timothy.detmering@enron.com', 'restricted_stock_deferred': -315068, 'deferred_income': -775241, 'total_stock_value': 2027865, 'expenses': 52255, 'from_poi_to_this_person': 'NaN', 'exercised_stock_options': 2027865, 'from_messages': 'NaN', 'other': 1105, 'from_this_person_to_poi': 'NaN', 'poi': False, 'long_term_incentive': 415657, 'shared_receipt_with_poi': 'NaN', 'restricted_stock': 315068, 'director_fees': 'NaN'}), ('WAKEHAM JOHN', {'salary': 'NaN', 'to_messages': 'NaN', 'deferral_payments': 'NaN', 'total_payments': 213071, 'loan_advances': 'NaN', 'bonus': 'NaN', 'email_address': 'NaN', 'restricted_stock_deferred': 'NaN', 'deferred_income': 'NaN', 'total_stock_value': 'NaN', 'expenses': 103773, 'from_poi_to_this_person': 'NaN', 'exercised_stock_options': 'NaN', 'from_messages': 'NaN', 'other': 'NaN', 'from_this_person_to_poi': 'NaN', 'poi': False, 'long_term_incentive': 'NaN', 'shared_receipt_with_poi': 'NaN', 'restricted_stock': 'NaN', 'director_fees': 109298}), ('POWERS WILLIAM', {'salary': 'NaN', 'to_messages': 653, 'deferral_payments': 'NaN', 'total_payments': 'NaN', 'loan_advances': 'NaN', 'bonus': 'NaN', 'email_address': 'ken.powers@enron.com', 'restricted_stock_deferred': 'NaN', 'deferred_income': -17500, 'total_stock_value': 'NaN', 'expenses': 'NaN', 'from_poi_to_this_person': 0, 'exercised_stock_options': 'NaN', 'from_messages': 26, 'other': 'NaN', 'from_this_person_to_poi': 0, 'poi': False, 'long_term_incentive': 'NaN', 'shared_receipt_with_poi': 12, 'restricted_stock': 'NaN', 'director_fees': 17500}), ('GOLD JOSEPH', {'salary': 272880, 'to_messages': 'NaN', 'deferral_payments': 'NaN', 'total_payments': 2146973, 'loan_advances': 'NaN', 'bonus': 750000, 'email_address': 'joe.gold@enron.com', 'restricted_stock_deferred': 'NaN', 'deferred_income': 'NaN', 'total_stock_value': 877611, 'expenses': 'NaN', 'from_poi_to_this_person': 'NaN', 'exercised_stock_options': 436515, 'from_messages': 'NaN', 'other': 819288, 'from_this_person_to_poi': 'NaN', 'poi': False, 'long_term_incentive': 304805, 'shared_receipt_with_poi': 'NaN', 'restricted_stock': 441096, 'director_fees': 'NaN'}), ('BANNANTINE JAMES M', {'salary': 477, 'to_messages': 566, 'deferral_payments': 'NaN', 'total_payments': 916197, 'loan_advances': 'NaN', 'bonus': 'NaN', 'email_address': 'james.bannantine@enron.com', 'restricted_stock_deferred': -560222, 'deferred_income': -5104, 'total_stock_value': 5243487, 'expenses': 56301, 'from_poi_to_this_person': 39, 'exercised_stock_options': 4046157, 'from_messages': 29, 'other': 864523, 'from_this_person_to_poi': 0, 'poi': False, 'long_term_incentive': 'NaN', 'shared_receipt_with_poi': 465, 'restricted_stock': 1757552, 'director_fees': 'NaN'}), ('DUNCAN JOHN H', {'salary': 'NaN', 'to_messages': 'NaN', 'deferral_payments': 'NaN', 'total_payments': 77492, 'loan_advances': 'NaN', 'bonus': 'NaN', 'email_address': 'NaN', 'restricted_stock_deferred': 'NaN', 'deferred_income': -25000, 'total_stock_value': 371750, 'expenses': 'NaN', 'from_poi_to_this_person': 'NaN', 'exercised_stock_options': 371750, 'from_messages': 'NaN', 'other': 'NaN', 'from_this_person_to_poi': 'NaN', 'poi': False, 'long_term_incentive': 'NaN', 'shared_receipt_with_poi': 'NaN', 'restricted_stock': 'NaN', 'director_fees': 102492}), ('SHAPIRO RICHARD S', {'salary': 269076, 'to_messages': 15149, 'deferral_payments': 'NaN', 'total_payments': 1057548, 'loan_advances': 'NaN', 'bonus': 650000, 'email_address': 'richard.shapiro@enron.com', 'restricted_stock_deferred': 'NaN', 'deferred_income': 'NaN', 'total_stock_value': 987001, 'expenses': 137767, 'from_poi_to_this_person': 74, 'exercised_stock_options': 607837, 'from_messages': 1215, 'other': 705, 'from_this_person_to_poi': 65, 'poi': False, 'long_term_incentive': 'NaN', 'shared_receipt_with_poi': 4527, 'restricted_stock': 379164, 'director_fees': 'NaN'}), ('SHERRIFF JOHN R', {'salary': 428780, 'to_messages': 3187, 'deferral_payments': 'NaN', 'total_payments': 4335388, 'loan_advances': 'NaN', 'bonus': 1500000, 'email_address': 'john.sherriff@enron.com', 'restricted_stock_deferred': 'NaN', 'deferred_income': 'NaN', 'total_stock_value': 3128982, 'expenses': 'NaN', 'from_poi_to_this_person': 28, 'exercised_stock_options': 1835558, 'from_messages': 92, 'other': 1852186, 'from_this_person_to_poi': 23, 'poi': False, 'long_term_incentive': 554422, 'shared_receipt_with_poi': 2103, 'restricted_stock': 1293424, 'director_fees': 'NaN'}), ('SHELBY REX', {'salary': 211844, 'to_messages': 225, 'deferral_payments': 'NaN', 'total_payments': 2003885, 'loan_advances': 'NaN', 'bonus': 200000, 'email_address': 'rex.shelby@enron.com', 'restricted_stock_deferred': 'NaN', 'deferred_income': -4167, 'total_stock_value': 2493616, 'expenses': 22884, 'from_poi_to_this_person': 13, 'exercised_stock_options': 1624396, 'from_messages': 39, 'other': 1573324, 'from_this_person_to_poi': 14, 'poi': True, 'long_term_incentive': 'NaN', 'shared_receipt_with_poi': 91, 'restricted_stock': 869220, 'director_fees': 'NaN'}), ('LEMAISTRE CHARLES', {'salary': 'NaN', 'to_messages': 'NaN', 'deferral_payments': 'NaN', 'total_payments': 87492, 'loan_advances': 'NaN', 'bonus': 'NaN', 'email_address': 'NaN', 'restricted_stock_deferred': 'NaN', 'deferred_income': -25000, 'total_stock_value': 412878, 'expenses': 'NaN', 'from_poi_to_this_person': 'NaN', 'exercised_stock_options': 412878, 'from_messages': 'NaN', 'other': 'NaN', 'from_this_person_to_poi': 'NaN', 'poi': False, 'long_term_incentive': 'NaN', 'shared_receipt_with_poi': 'NaN', 'restricted_stock': 'NaN', 'director_fees': 112492}), ('DEFFNER JOSEPH M', {'salary': 206121, 'to_messages': 714, 'deferral_payments': 'NaN', 'total_payments': 1208649, 'loan_advances': 'NaN', 'bonus': 600000, 'email_address': 'joseph.deffner@enron.com', 'restricted_stock_deferred': 'NaN', 'deferred_income': 'NaN', 'total_stock_value': 159211, 'expenses': 41626, 'from_poi_to_this_person': 115, 'exercised_stock_options': 17378, 'from_messages': 74, 'other': 25553, 'from_this_person_to_poi': 4, 'poi': False, 'long_term_incentive': 335349, 'shared_receipt_with_poi': 552, 'restricted_stock': 141833, 'director_fees': 'NaN'}), ('KISHKILL JOSEPH G', {'salary': 174246, 'to_messages': 'NaN', 'deferral_payments': 'NaN', 'total_payments': 704896, 'loan_advances': 'NaN', 'bonus': 'NaN', 'email_address': 'joe.kishkill@enron.com', 'restricted_stock_deferred': 'NaN', 'deferred_income': -51042, 'total_stock_value': 1034346, 'expenses': 116335, 'from_poi_to_this_person': 'NaN', 'exercised_stock_options': 'NaN', 'from_messages': 'NaN', 'other': 465357, 'from_this_person_to_poi': 'NaN', 'poi': False, 'long_term_incentive': 'NaN', 'shared_receipt_with_poi': 'NaN', 'restricted_stock': 1034346, 'director_fees': 'NaN'}), ('WHALLEY LAWRENCE G', {'salary': 510364, 'to_messages': 6019, 'deferral_payments': 'NaN', 'total_payments': 4677574, 'loan_advances': 'NaN', 'bonus': 3000000, 'email_address': 'greg.whalley@enron.com', 'restricted_stock_deferred': 'NaN', 'deferred_income': 'NaN', 'total_stock_value': 6079137, 'expenses': 57838, 'from_poi_to_this_person': 186, 'exercised_stock_options': 3282960, 'from_messages': 556, 'other': 301026, 'from_this_person_to_poi': 24, 'poi': False, 'long_term_incentive': 808346, 'shared_receipt_with_poi': 3920, 'restricted_stock': 2796177, 'director_fees': 'NaN'}), ('MCCONNELL MICHAEL S', {'salary': 365038, 'to_messages': 3329, 'deferral_payments': 'NaN', 'total_payments': 2101364, 'loan_advances': 'NaN', 'bonus': 1100000, 'email_address': 'mike.mcconnell@enron.com', 'restricted_stock_deferred': 'NaN', 'deferred_income': 'NaN', 'total_stock_value': 3101279, 'expenses': 81364, 'from_poi_to_this_person': 92, 'exercised_stock_options': 1623010, 'from_messages': 2742, 'other': 540, 'from_this_person_to_poi': 194, 'poi': False, 'long_term_incentive': 554422, 'shared_receipt_with_poi': 2189, 'restricted_stock': 1478269, 'director_fees': 'NaN'}), ('PIRO JIM', {'salary': 'NaN', 'to_messages': 58, 'deferral_payments': 'NaN', 'total_payments': 'NaN', 'loan_advances': 'NaN', 'bonus': 'NaN', 'email_address': 'jim.piro@enron.com', 'restricted_stock_deferred': 'NaN', 'deferred_income': 'NaN', 'total_stock_value': 47304, 'expenses': 'NaN', 'from_poi_to_this_person': 0, 'exercised_stock_options': 'NaN', 'from_messages': 16, 'other': 'NaN', 'from_this_person_to_poi': 1, 'poi': False, 'long_term_incentive': 'NaN', 'shared_receipt_with_poi': 3, 'restricted_stock': 47304, 'director_fees': 'NaN'}), ('DELAINEY DAVID W', {'salary': 365163, 'to_messages': 3093, 'deferral_payments': 'NaN', 'total_payments': 4747979, 'loan_advances': 'NaN', 'bonus': 3000000, 'email_address': 'david.delainey@enron.com', 'restricted_stock_deferred': 'NaN', 'deferred_income': 'NaN', 'total_stock_value': 3614261, 'expenses': 86174, 'from_poi_to_this_person': 66, 'exercised_stock_options': 2291113, 'from_messages': 3069, 'other': 1661, 'from_this_person_to_poi': 609, 'poi': True, 'long_term_incentive': 1294981, 'shared_receipt_with_poi': 2097, 'restricted_stock': 1323148, 'director_fees': 'NaN'}), ('SULLIVAN-SHAKLOVITZ COLLEEN', {'salary': 162779, 'to_messages': 'NaN', 'deferral_payments': 181993, 'total_payments': 999356, 'loan_advances': 'NaN', 'bonus': 100000, 'email_address': 'NaN', 'restricted_stock_deferred': 'NaN', 'deferred_income': 'NaN', 'total_stock_value': 1362375, 'expenses': 'NaN', 'from_poi_to_this_person': 'NaN', 'exercised_stock_options': 1362375, 'from_messages': 'NaN', 'other': 162, 'from_this_person_to_poi': 'NaN', 'poi': False, 'long_term_incentive': 554422, 'shared_receipt_with_poi': 'NaN', 'restricted_stock': 'NaN', 'director_fees': 'NaN'}), ('WROBEL BRUCE', {'salary': 'NaN', 'to_messages': 'NaN', 'deferral_payments': 'NaN', 'total_payments': 'NaN', 'loan_advances': 'NaN', 'bonus': 'NaN', 'email_address': 'NaN', 'restricted_stock_deferred': 'NaN', 'deferred_income': 'NaN', 'total_stock_value': 139130, 'expenses': 'NaN', 'from_poi_to_this_person': 'NaN', 'exercised_stock_options': 139130, 'from_messages': 'NaN', 'other': 'NaN', 'from_this_person_to_poi': 'NaN', 'poi': False, 'long_term_incentive': 'NaN', 'shared_receipt_with_poi': 'NaN', 'restricted_stock': 'NaN', 'director_fees': 'NaN'}), ('LINDHOLM TOD A', {'salary': 236457, 'to_messages': 'NaN', 'deferral_payments': 204075, 'total_payments': 875889, 'loan_advances': 'NaN', 'bonus': 200000, 'email_address': 'tod.lindholm@enron.com', 'restricted_stock_deferred': 'NaN', 'deferred_income': 'NaN', 'total_stock_value': 3064208, 'expenses': 57727, 'from_poi_to_this_person': 'NaN', 'exercised_stock_options': 2549361, 'from_messages': 'NaN', 'other': 2630, 'from_this_person_to_poi': 'NaN', 'poi': False, 'long_term_incentive': 175000, 'shared_receipt_with_poi': 'NaN', 'restricted_stock': 514847, 'director_fees': 'NaN'}), ('MEYER JEROME J', {'salary': 'NaN', 'to_messages': 'NaN', 'deferral_payments': 'NaN', 'total_payments': 2151, 'loan_advances': 'NaN', 'bonus': 'NaN', 'email_address': 'NaN', 'restricted_stock_deferred': 'NaN', 'deferred_income': -38346, 'total_stock_value': 'NaN', 'expenses': 2151, 'from_poi_to_this_person': 'NaN', 'exercised_stock_options': 'NaN', 'from_messages': 'NaN', 'other': 'NaN', 'from_this_person_to_poi': 'NaN', 'poi': False, 'long_term_incentive': 'NaN', 'shared_receipt_with_poi': 'NaN', 'restricted_stock': 'NaN', 'director_fees': 38346}), ('LAY KENNETH L', {'salary': 1072321, 'to_messages': 4273, 'deferral_payments': 202911, 'total_payments': 103559793, 'loan_advances': 81525000, 'bonus': 7000000, 'email_address': 'kenneth.lay@enron.com', 'restricted_stock_deferred': 'NaN', 'deferred_income': -300000, 'total_stock_value': 49110078, 'expenses': 99832, 'from_poi_to_this_person': 123, 'exercised_stock_options': 34348384, 'from_messages': 36, 'other': 10359729, 'from_this_person_to_poi': 16, 'poi': True, 'long_term_incentive': 3600000, 'shared_receipt_with_poi': 2411, 'restricted_stock': 14761694, 'director_fees': 'NaN'}), ('BUTTS ROBERT H', {'salary': 261516, 'to_messages': 'NaN', 'deferral_payments': 'NaN', 'total_payments': 1271582, 'loan_advances': 'NaN', 'bonus': 750000, 'email_address': 'bob.butts@enron.com', 'restricted_stock_deferred': 'NaN', 'deferred_income': -75000, 'total_stock_value': 417619, 'expenses': 9410, 'from_poi_to_this_person': 'NaN', 'exercised_stock_options': 'NaN', 'from_messages': 'NaN', 'other': 150656, 'from_this_person_to_poi': 'NaN', 'poi': False, 'long_term_incentive': 175000, 'shared_receipt_with_poi': 'NaN', 'restricted_stock': 417619, 'director_fees': 'NaN'}), ('OLSON CINDY K', {'salary': 329078, 'to_messages': 1184, 'deferral_payments': 77716, 'total_payments': 1321557, 'loan_advances': 'NaN', 'bonus': 750000, 'email_address': 'cindy.olson@enron.com', 'restricted_stock_deferred': 'NaN', 'deferred_income': 'NaN', 'total_stock_value': 2606763, 'expenses': 63791, 'from_poi_to_this_person': 20, 'exercised_stock_options': 1637034, 'from_messages': 52, 'other': 972, 'from_this_person_to_poi': 15, 'poi': False, 'long_term_incentive': 100000, 'shared_receipt_with_poi': 856, 'restricted_stock': 969729, 'director_fees': 'NaN'}), ('MCDONALD REBECCA', {'salary': 'NaN', 'to_messages': 894, 'deferral_payments': 'NaN', 'total_payments': 'NaN', 'loan_advances': 'NaN', 'bonus': 'NaN', 'email_address': 'rebecca.mcdonald@enron.com', 'restricted_stock_deferred': 'NaN', 'deferred_income': 'NaN', 'total_stock_value': 1691366, 'expenses': 'NaN', 'from_poi_to_this_person': 54, 'exercised_stock_options': 757301, 'from_messages': 13, 'other': 'NaN', 'from_this_person_to_poi': 1, 'poi': False, 'long_term_incentive': 'NaN', 'shared_receipt_with_poi': 720, 'restricted_stock': 934065, 'director_fees': 'NaN'}), ('CUMBERLAND MICHAEL S', {'salary': 184899, 'to_messages': 'NaN', 'deferral_payments': 'NaN', 'total_payments': 807956, 'loan_advances': 'NaN', 'bonus': 325000, 'email_address': 'NaN', 'restricted_stock_deferred': 'NaN', 'deferred_income': 'NaN', 'total_stock_value': 207940, 'expenses': 22344, 'from_poi_to_this_person': 'NaN', 'exercised_stock_options': 'NaN', 'from_messages': 'NaN', 'other': 713, 'from_this_person_to_poi': 'NaN', 'poi': False, 'long_term_incentive': 275000, 'shared_receipt_with_poi': 'NaN', 'restricted_stock': 207940, 'director_fees': 'NaN'}), ('GAHN ROBERT S', {'salary': 192008, 'to_messages': 'NaN', 'deferral_payments': 73122, 'total_payments': 900585, 'loan_advances': 'NaN', 'bonus': 509870, 'email_address': 'NaN', 'restricted_stock_deferred': 'NaN', 'deferred_income': -1042, 'total_stock_value': 318607, 'expenses': 50080, 'from_poi_to_this_person': 'NaN', 'exercised_stock_options': 83237, 'from_messages': 'NaN', 'other': 76547, 'from_this_person_to_poi': 'NaN', 'poi': False, 'long_term_incentive': 'NaN', 'shared_receipt_with_poi': 'NaN', 'restricted_stock': 235370, 'director_fees': 'NaN'}), ('BADUM JAMES P', {'salary': 'NaN', 'to_messages': 'NaN', 'deferral_payments': 178980, 'total_payments': 182466, 'loan_advances': 'NaN', 'bonus': 'NaN', 'email_address': 'NaN', 'restricted_stock_deferred': 'NaN', 'deferred_income': 'NaN', 'total_stock_value': 257817, 'expenses': 3486, 'from_poi_to_this_person': 'NaN', 'exercised_stock_options': 257817, 'from_messages': 'NaN', 'other': 'NaN', 'from_this_person_to_poi': 'NaN', 'poi': False, 'long_term_incentive': 'NaN', 'shared_receipt_with_poi': 'NaN', 'restricted_stock': 'NaN', 'director_fees': 'NaN'}), ('HERMANN ROBERT J', {'salary': 262663, 'to_messages': 'NaN', 'deferral_payments': 'NaN', 'total_payments': 1297461, 'loan_advances': 'NaN', 'bonus': 700000, 'email_address': 'robert.hermann@enron.com', 'restricted_stock_deferred': 'NaN', 'deferred_income': -280000, 'total_stock_value': 668132, 'expenses': 48357, 'from_poi_to_this_person': 'NaN', 'exercised_stock_options': 187500, 'from_messages': 'NaN', 'other': 416441, 'from_this_person_to_poi': 'NaN', 'poi': False, 'long_term_incentive': 150000, 'shared_receipt_with_poi': 'NaN', 'restricted_stock': 480632, 'director_fees': 'NaN'}), ('FALLON JAMES B', {'salary': 304588, 'to_messages': 1755, 'deferral_payments': 'NaN', 'total_payments': 3676340, 'loan_advances': 'NaN', 'bonus': 2500000, 'email_address': 'jim.fallon@enron.com', 'restricted_stock_deferred': 'NaN', 'deferred_income': 'NaN', 'total_stock_value': 2332399, 'expenses': 95924, 'from_poi_to_this_person': 42, 'exercised_stock_options': 940257, 'from_messages': 75, 'other': 401481, 'from_this_person_to_poi': 37, 'poi': False, 'long_term_incentive': 374347, 'shared_receipt_with_poi': 1604, 'restricted_stock': 1392142, 'director_fees': 'NaN'}), ('GATHMANN WILLIAM D', {'salary': 'NaN', 'to_messages': 'NaN', 'deferral_payments': 'NaN', 'total_payments': 'NaN', 'loan_advances': 'NaN', 'bonus': 'NaN', 'email_address': 'NaN', 'restricted_stock_deferred': -72419, 'deferred_income': 'NaN', 'total_stock_value': 1945360, 'expenses': 'NaN', 'from_poi_to_this_person': 'NaN', 'exercised_stock_options': 1753766, 'from_messages': 'NaN', 'other': 'NaN', 'from_this_person_to_poi': 'NaN', 'poi': False, 'long_term_incentive': 'NaN', 'shared_receipt_with_poi': 'NaN', 'restricted_stock': 264013, 'director_fees': 'NaN'}), ('HORTON STANLEY C', {'salary': 'NaN', 'to_messages': 2350, 'deferral_payments': 3131860, 'total_payments': 3131860, 'loan_advances': 'NaN', 'bonus': 'NaN', 'email_address': 'stanley.horton@enron.com', 'restricted_stock_deferred': 'NaN', 'deferred_income': 'NaN', 'total_stock_value': 7256648, 'expenses': 'NaN', 'from_poi_to_this_person': 44, 'exercised_stock_options': 5210569, 'from_messages': 1073, 'other': 'NaN', 'from_this_person_to_poi': 15, 'poi': False, 'long_term_incentive': 'NaN', 'shared_receipt_with_poi': 1074, 'restricted_stock': 2046079, 'director_fees': 'NaN'}), ('BOWEN JR RAYMOND M', {'salary': 278601, 'to_messages': 1858, 'deferral_payments': 'NaN', 'total_payments': 2669589, 'loan_advances': 'NaN', 'bonus': 1350000, 'email_address': 'raymond.bowen@enron.com', 'restricted_stock_deferred': 'NaN', 'deferred_income': -833, 'total_stock_value': 252055, 'expenses': 65907, 'from_poi_to_this_person': 140, 'exercised_stock_options': 'NaN', 'from_messages': 27, 'other': 1621, 'from_this_person_to_poi': 15, 'poi': True, 'long_term_incentive': 974293, 'shared_receipt_with_poi': 1593, 'restricted_stock': 252055, 'director_fees': 'NaN'}), ('GILLIS JOHN', {'salary': 'NaN', 'to_messages': 'NaN', 'deferral_payments': 'NaN', 'total_payments': 'NaN', 'loan_advances': 'NaN', 'bonus': 'NaN', 'email_address': 'NaN', 'restricted_stock_deferred': 'NaN', 'deferred_income': 'NaN', 'total_stock_value': 85641, 'expenses': 'NaN', 'from_poi_to_this_person': 'NaN', 'exercised_stock_options': 9803, 'from_messages': 'NaN', 'other': 'NaN', 'from_this_person_to_poi': 'NaN', 'poi': False, 'long_term_incentive': 'NaN', 'shared_receipt_with_poi': 'NaN', 'restricted_stock': 75838, 'director_fees': 'NaN'}), ('FITZGERALD JAY L', {'salary': 199157, 'to_messages': 936, 'deferral_payments': 'NaN', 'total_payments': 1414857, 'loan_advances': 'NaN', 'bonus': 350000, 'email_address': 'jay.fitzgerald@enron.com', 'restricted_stock_deferred': 'NaN', 'deferred_income': 'NaN', 'total_stock_value': 1621236, 'expenses': 23870, 'from_poi_to_this_person': 1, 'exercised_stock_options': 664461, 'from_messages': 16, 'other': 285414, 'from_this_person_to_poi': 8, 'poi': False, 'long_term_incentive': 556416, 'shared_receipt_with_poi': 723, 'restricted_stock': 956775, 'director_fees': 'NaN'}), ('MORAN MICHAEL P', {'salary': 'NaN', 'to_messages': 672, 'deferral_payments': 'NaN', 'total_payments': 'NaN', 'loan_advances': 'NaN', 'bonus': 'NaN', 'email_address': 'michael.moran@enron.com', 'restricted_stock_deferred': 'NaN', 'deferred_income': 'NaN', 'total_stock_value': 221141, 'expenses': 'NaN', 'from_poi_to_this_person': 0, 'exercised_stock_options': 59539, 'from_messages': 19, 'other': 'NaN', 'from_this_person_to_poi': 0, 'poi': False, 'long_term_incentive': 'NaN', 'shared_receipt_with_poi': 127, 'restricted_stock': 161602, 'director_fees': 'NaN'}), ('REDMOND BRIAN L', {'salary': 96840, 'to_messages': 1671, 'deferral_payments': 'NaN', 'total_payments': 111529, 'loan_advances': 'NaN', 'bonus': 'NaN', 'email_address': 'brian.redmond@enron.com', 'restricted_stock_deferred': 'NaN', 'deferred_income': 'NaN', 'total_stock_value': 7890324, 'expenses': 14689, 'from_poi_to_this_person': 204, 'exercised_stock_options': 7509039, 'from_messages': 221, 'other': 'NaN', 'from_this_person_to_poi': 49, 'poi': False, 'long_term_incentive': 'NaN', 'shared_receipt_with_poi': 1063, 'restricted_stock': 381285, 'director_fees': 'NaN'}), ('BAZELIDES PHILIP J', {'salary': 80818, 'to_messages': 'NaN', 'deferral_payments': 684694, 'total_payments': 860136, 'loan_advances': 'NaN', 'bonus': 'NaN', 'email_address': 'NaN', 'restricted_stock_deferred': 'NaN', 'deferred_income': 'NaN', 'total_stock_value': 1599641, 'expenses': 'NaN', 'from_poi_to_this_person': 'NaN', 'exercised_stock_options': 1599641, 'from_messages': 'NaN', 'other': 874, 'from_this_person_to_poi': 'NaN', 'poi': False, 'long_term_incentive': 93750, 'shared_receipt_with_poi': 'NaN', 'restricted_stock': 'NaN', 'director_fees': 'NaN'}), ('BELDEN TIMOTHY N', {'salary': 213999, 'to_messages': 7991, 'deferral_payments': 2144013, 'total_payments': 5501630, 'loan_advances': 'NaN', 'bonus': 5249999, 'email_address': 'tim.belden@enron.com', 'restricted_stock_deferred': 'NaN', 'deferred_income': -2334434, 'total_stock_value': 1110705, 'expenses': 17355, 'from_poi_to_this_person': 228, 'exercised_stock_options': 953136, 'from_messages': 484, 'other': 210698, 'from_this_person_to_poi': 108, 'poi': True, 'long_term_incentive': 'NaN', 'shared_receipt_with_poi': 5521, 'restricted_stock': 157569, 'director_fees': 'NaN'}), ('DIMICHELE RICHARD G', {'salary': 262788, 'to_messages': 'NaN', 'deferral_payments': 'NaN', 'total_payments': 2368151, 'loan_advances': 'NaN', 'bonus': 1000000, 'email_address': 'richard.dimichele@enron.com', 'restricted_stock_deferred': 'NaN', 'deferred_income': 'NaN', 'total_stock_value': 8317782, 'expenses': 35812, 'from_poi_to_this_person': 'NaN', 'exercised_stock_options': 8191755, 'from_messages': 'NaN', 'other': 374689, 'from_this_person_to_poi': 'NaN', 'poi': False, 'long_term_incentive': 694862, 'shared_receipt_with_poi': 'NaN', 'restricted_stock': 126027, 'director_fees': 'NaN'}), ('DURAN WILLIAM D', {'salary': 210692, 'to_messages': 904, 'deferral_payments': 'NaN', 'total_payments': 2093263, 'loan_advances': 'NaN', 'bonus': 750000, 'email_address': 'w.duran@enron.com', 'restricted_stock_deferred': 'NaN', 'deferred_income': 'NaN', 'total_stock_value': 1640910, 'expenses': 25785, 'from_poi_to_this_person': 106, 'exercised_stock_options': 1451869, 'from_messages': 12, 'other': 1568, 'from_this_person_to_poi': 3, 'poi': False, 'long_term_incentive': 1105218, 'shared_receipt_with_poi': 599, 'restricted_stock': 189041, 'director_fees': 'NaN'}), ('THORN TERENCE H', {'salary': 222093, 'to_messages': 266, 'deferral_payments': 16586, 'total_payments': 911453, 'loan_advances': 'NaN', 'bonus': 'NaN', 'email_address': 'terence.thorn@enron.com', 'restricted_stock_deferred': 'NaN', 'deferred_income': 'NaN', 'total_stock_value': 4817796, 'expenses': 46145, 'from_poi_to_this_person': 0, 'exercised_stock_options': 4452476, 'from_messages': 41, 'other': 426629, 'from_this_person_to_poi': 0, 'poi': False, 'long_term_incentive': 200000, 'shared_receipt_with_poi': 73, 'restricted_stock': 365320, 'director_fees': 'NaN'}), ('FASTOW ANDREW S', {'salary': 440698, 'to_messages': 'NaN', 'deferral_payments': 'NaN', 'total_payments': 2424083, 'loan_advances': 'NaN', 'bonus': 1300000, 'email_address': 'andrew.fastow@enron.com', 'restricted_stock_deferred': 'NaN', 'deferred_income': -1386055, 'total_stock_value': 1794412, 'expenses': 55921, 'from_poi_to_this_person': 'NaN', 'exercised_stock_options': 'NaN', 'from_messages': 'NaN', 'other': 277464, 'from_this_person_to_poi': 'NaN', 'poi': True, 'long_term_incentive': 1736055, 'shared_receipt_with_poi': 'NaN', 'restricted_stock': 1794412, 'director_fees': 'NaN'}), ('FOY JOE', {'salary': 'NaN', 'to_messages': 57, 'deferral_payments': 181755, 'total_payments': 181755, 'loan_advances': 'NaN', 'bonus': 'NaN', 'email_address': 'tracy.foy@enron.com', 'restricted_stock_deferred': 'NaN', 'deferred_income': 'NaN', 'total_stock_value': 343434, 'expenses': 'NaN', 'from_poi_to_this_person': 0, 'exercised_stock_options': 343434, 'from_messages': 13, 'other': 'NaN', 'from_this_person_to_poi': 0, 'poi': False, 'long_term_incentive': 'NaN', 'shared_receipt_with_poi': 2, 'restricted_stock': 'NaN', 'director_fees': 'NaN'}), ('CALGER CHRISTOPHER F', {'salary': 240189, 'to_messages': 2598, 'deferral_payments': 'NaN', 'total_payments': 1639297, 'loan_advances': 'NaN', 'bonus': 1250000, 'email_address': 'christopher.calger@enron.com', 'restricted_stock_deferred': 'NaN', 'deferred_income': -262500, 'total_stock_value': 126027, 'expenses': 35818, 'from_poi_to_this_person': 199, 'exercised_stock_options': 'NaN', 'from_messages': 144, 'other': 486, 'from_this_person_to_poi': 25, 'poi': True, 'long_term_incentive': 375304, 'shared_receipt_with_poi': 2188, 'restricted_stock': 126027, 'director_fees': 'NaN'}), ('RICE KENNETH D', {'salary': 420636, 'to_messages': 905, 'deferral_payments': 'NaN', 'total_payments': 505050, 'loan_advances': 'NaN', 'bonus': 1750000, 'email_address': 'ken.rice@enron.com', 'restricted_stock_deferred': 'NaN', 'deferred_income': -3504386, 'total_stock_value': 22542539, 'expenses': 46950, 'from_poi_to_this_person': 42, 'exercised_stock_options': 19794175, 'from_messages': 18, 'other': 174839, 'from_this_person_to_poi': 4, 'poi': True, 'long_term_incentive': 1617011, 'shared_receipt_with_poi': 864, 'restricted_stock': 2748364, 'director_fees': 'NaN'}), ('KAMINSKI WINCENTY J', {'salary': 275101, 'to_messages': 4607, 'deferral_payments': 'NaN', 'total_payments': 1086821, 'loan_advances': 'NaN', 'bonus': 400000, 'email_address': 'vince.kaminski@enron.com', 'restricted_stock_deferred': 'NaN', 'deferred_income': 'NaN', 'total_stock_value': 976037, 'expenses': 83585, 'from_poi_to_this_person': 41, 'exercised_stock_options': 850010, 'from_messages': 14368, 'other': 4669, 'from_this_person_to_poi': 171, 'poi': False, 'long_term_incentive': 323466, 'shared_receipt_with_poi': 583, 'restricted_stock': 126027, 'director_fees': 'NaN'}), ('LOCKHART EUGENE E', {'salary': 'NaN', 'to_messages': 'NaN', 'deferral_payments': 'NaN', 'total_payments': 'NaN', 'loan_advances': 'NaN', 'bonus': 'NaN', 'email_address': 'NaN', 'restricted_stock_deferred': 'NaN', 'deferred_income': 'NaN', 'total_stock_value': 'NaN', 'expenses': 'NaN', 'from_poi_to_this_person': 'NaN', 'exercised_stock_options': 'NaN', 'from_messages': 'NaN', 'other': 'NaN', 'from_this_person_to_poi': 'NaN', 'poi': False, 'long_term_incentive': 'NaN', 'shared_receipt_with_poi': 'NaN', 'restricted_stock': 'NaN', 'director_fees': 'NaN'}), ('COX DAVID', {'salary': 314288, 'to_messages': 102, 'deferral_payments': 'NaN', 'total_payments': 1101393, 'loan_advances': 'NaN', 'bonus': 800000, 'email_address': 'chip.cox@enron.com', 'restricted_stock_deferred': 'NaN', 'deferred_income': -41250, 'total_stock_value': 495633, 'expenses': 27861, 'from_poi_to_this_person': 0, 'exercised_stock_options': 117551, 'from_messages': 33, 'other': 494, 'from_this_person_to_poi': 4, 'poi': False, 'long_term_incentive': 'NaN', 'shared_receipt_with_poi': 71, 'restricted_stock': 378082, 'director_fees': 'NaN'}), ('OVERDYKE JR JERE C', {'salary': 94941, 'to_messages': 'NaN', 'deferral_payments': 'NaN', 'total_payments': 249787, 'loan_advances': 'NaN', 'bonus': 'NaN', 'email_address': 'jere.overdyke@enron.com', 'restricted_stock_deferred': 'NaN', 'deferred_income': 'NaN', 'total_stock_value': 7307594, 'expenses': 18834, 'from_poi_to_this_person': 'NaN', 'exercised_stock_options': 5266578, 'from_messages': 'NaN', 'other': 176, 'from_this_person_to_poi': 'NaN', 'poi': False, 'long_term_incentive': 135836, 'shared_receipt_with_poi': 'NaN', 'restricted_stock': 2041016, 'director_fees': 'NaN'}), ('PEREIRA PAULO V. FERRAZ', {'salary': 'NaN', 'to_messages': 'NaN', 'deferral_payments': 'NaN', 'total_payments': 27942, 'loan_advances': 'NaN', 'bonus': 'NaN', 'email_address': 'NaN', 'restricted_stock_deferred': 'NaN', 'deferred_income': -101250, 'total_stock_value': 'NaN', 'expenses': 27942, 'from_poi_to_this_person': 'NaN', 'exercised_stock_options': 'NaN', 'from_messages': 'NaN', 'other': 'NaN', 'from_this_person_to_poi': 'NaN', 'poi': False, 'long_term_incentive': 'NaN', 'shared_receipt_with_poi': 'NaN', 'restricted_stock': 'NaN', 'director_fees': 101250}), ('STABLER FRANK', {'salary': 239502, 'to_messages': 'NaN', 'deferral_payments': 'NaN', 'total_payments': 1112087, 'loan_advances': 'NaN', 'bonus': 500000, 'email_address': 'frank.stabler@enron.com', 'restricted_stock_deferred': 'NaN', 'deferred_income': 'NaN', 'total_stock_value': 511734, 'expenses': 16514, 'from_poi_to_this_person': 'NaN', 'exercised_stock_options': 'NaN', 'from_messages': 'NaN', 'other': 356071, 'from_this_person_to_poi': 'NaN', 'poi': False, 'long_term_incentive': 'NaN', 'shared_receipt_with_poi': 'NaN', 'restricted_stock': 511734, 'director_fees': 'NaN'}), ('SKILLING JEFFREY K', {'salary': 1111258, 'to_messages': 3627, 'deferral_payments': 'NaN', 'total_payments': 8682716, 'loan_advances': 'NaN', 'bonus': 5600000, 'email_address': 'jeff.skilling@enron.com', 'restricted_stock_deferred': 'NaN', 'deferred_income': 'NaN', 'total_stock_value': 26093672, 'expenses': 29336, 'from_poi_to_this_person': 88, 'exercised_stock_options': 19250000, 'from_messages': 108, 'other': 22122, 'from_this_person_to_poi': 30, 'poi': True, 'long_term_incentive': 1920000, 'shared_receipt_with_poi': 2042, 'restricted_stock': 6843672, 'director_fees': 'NaN'}), ('BLAKE JR. NORMAN P', {'salary': 'NaN', 'to_messages': 'NaN', 'deferral_payments': 'NaN', 'total_payments': 1279, 'loan_advances': 'NaN', 'bonus': 'NaN', 'email_address': 'NaN', 'restricted_stock_deferred': 'NaN', 'deferred_income': -113784, 'total_stock_value': 'NaN', 'expenses': 1279, 'from_poi_to_this_person': 'NaN', 'exercised_stock_options': 'NaN', 'from_messages': 'NaN', 'other': 'NaN', 'from_this_person_to_poi': 'NaN', 'poi': False, 'long_term_incentive': 'NaN', 'shared_receipt_with_poi': 'NaN', 'restricted_stock': 'NaN', 'director_fees': 113784}), ('SHERRICK JEFFREY B', {'salary': 'NaN', 'to_messages': 613, 'deferral_payments': 'NaN', 'total_payments': 'NaN', 'loan_advances': 'NaN', 'bonus': 'NaN', 'email_address': 'jeffrey.sherrick@enron.com', 'restricted_stock_deferred': 'NaN', 'deferred_income': 'NaN', 'total_stock_value': 1832468, 'expenses': 'NaN', 'from_poi_to_this_person': 39, 'exercised_stock_options': 1426469, 'from_messages': 25, 'other': 'NaN', 'from_this_person_to_poi': 18, 'poi': False, 'long_term_incentive': 'NaN', 'shared_receipt_with_poi': 583, 'restricted_stock': 405999, 'director_fees': 'NaN'}), ('PRENTICE JAMES', {'salary': 'NaN', 'to_messages': 'NaN', 'deferral_payments': 564348, 'total_payments': 564348, 'loan_advances': 'NaN', 'bonus': 'NaN', 'email_address': 'james.prentice@enron.com', 'restricted_stock_deferred': 'NaN', 'deferred_income': 'NaN', 'total_stock_value': 1095040, 'expenses': 'NaN', 'from_poi_to_this_person': 'NaN', 'exercised_stock_options': 886231, 'from_messages': 'NaN', 'other': 'NaN', 'from_this_person_to_poi': 'NaN', 'poi': False, 'long_term_incentive': 'NaN', 'shared_receipt_with_poi': 'NaN', 'restricted_stock': 208809, 'director_fees': 'NaN'}), ('GRAY RODNEY', {'salary': 6615, 'to_messages': 'NaN', 'deferral_payments': 93585, 'total_payments': 1146658, 'loan_advances': 'NaN', 'bonus': 'NaN', 'email_address': 'NaN', 'restricted_stock_deferred': 'NaN', 'deferred_income': 'NaN', 'total_stock_value': 'NaN', 'expenses': 'NaN', 'from_poi_to_this_person': 'NaN', 'exercised_stock_options': 'NaN', 'from_messages': 'NaN', 'other': 680833, 'from_this_person_to_poi': 'NaN', 'poi': False, 'long_term_incentive': 365625, 'shared_receipt_with_poi': 'NaN', 'restricted_stock': 'NaN', 'director_fees': 'NaN'}), ('THE TRAVEL AGENCY IN THE PARK', {'salary': 'NaN', 'to_messages': 'NaN', 'deferral_payments': 'NaN', 'total_payments': 362096, 'loan_advances': 'NaN', 'bonus': 'NaN', 'email_address': 'NaN', 'restricted_stock_deferred': 'NaN', 'deferred_income': 'NaN', 'total_stock_value': 'NaN', 'expenses': 'NaN', 'from_poi_to_this_person': 'NaN', 'exercised_stock_options': 'NaN', 'from_messages': 'NaN', 'other': 362096, 'from_this_person_to_poi': 'NaN', 'poi': False, 'long_term_incentive': 'NaN', 'shared_receipt_with_poi': 'NaN', 'restricted_stock': 'NaN', 'director_fees': 'NaN'}), ('UMANOFF ADAM S', {'salary': 288589, 'to_messages': 111, 'deferral_payments': 'NaN', 'total_payments': 1130461, 'loan_advances': 'NaN', 'bonus': 788750, 'email_address': 'adam.umanoff@enron.com', 'restricted_stock_deferred': 'NaN', 'deferred_income': 'NaN', 'total_stock_value': 'NaN', 'expenses': 53122, 'from_poi_to_this_person': 12, 'exercised_stock_options': 'NaN', 'from_messages': 18, 'other': 'NaN', 'from_this_person_to_poi': 0, 'poi': False, 'long_term_incentive': 'NaN', 'shared_receipt_with_poi': 41, 'restricted_stock': 'NaN', 'director_fees': 'NaN'}), ('KEAN STEVEN J', {'salary': 404338, 'to_messages': 12754, 'deferral_payments': 'NaN', 'total_payments': 1747522, 'loan_advances': 'NaN', 'bonus': 1000000, 'email_address': 'steven.kean@enron.com', 'restricted_stock_deferred': 'NaN', 'deferred_income': 'NaN', 'total_stock_value': 6153642, 'expenses': 41953, 'from_poi_to_this_person': 140, 'exercised_stock_options': 2022048, 'from_messages': 6759, 'other': 1231, 'from_this_person_to_poi': 387, 'poi': False, 'long_term_incentive': 300000, 'shared_receipt_with_poi': 3639, 'restricted_stock': 4131594, 'director_fees': 'NaN'}), ('FOWLER PEGGY', {'salary': 'NaN', 'to_messages': 517, 'deferral_payments': 'NaN', 'total_payments': 'NaN', 'loan_advances': 'NaN', 'bonus': 'NaN', 'email_address': 'kulvinder.fowler@enron.com', 'restricted_stock_deferred': 'NaN', 'deferred_income': 'NaN', 'total_stock_value': 1884748, 'expenses': 'NaN', 'from_poi_to_this_person': 0, 'exercised_stock_options': 1324578, 'from_messages': 36, 'other': 'NaN', 'from_this_person_to_poi': 0, 'poi': False, 'long_term_incentive': 'NaN', 'shared_receipt_with_poi': 10, 'restricted_stock': 560170, 'director_fees': 'NaN'}), ('WASAFF GEORGE', {'salary': 259996, 'to_messages': 400, 'deferral_payments': 831299, 'total_payments': 1034395, 'loan_advances': 'NaN', 'bonus': 325000, 'email_address': 'george.wasaff@enron.com', 'restricted_stock_deferred': 'NaN', 'deferred_income': -583325, 'total_stock_value': 2056427, 'expenses': 'NaN', 'from_poi_to_this_person': 22, 'exercised_stock_options': 1668260, 'from_messages': 30, 'other': 1425, 'from_this_person_to_poi': 7, 'poi': False, 'long_term_incentive': 200000, 'shared_receipt_with_poi': 337, 'restricted_stock': 388167, 'director_fees': 'NaN'}), ('WHITE JR THOMAS E', {'salary': 317543, 'to_messages': 'NaN', 'deferral_payments': 'NaN', 'total_payments': 1934359, 'loan_advances': 'NaN', 'bonus': 450000, 'email_address': 'thomas.white@enron.com', 'restricted_stock_deferred': 'NaN', 'deferred_income': 'NaN', 'total_stock_value': 15144123, 'expenses': 81353, 'from_poi_to_this_person': 'NaN', 'exercised_stock_options': 1297049, 'from_messages': 'NaN', 'other': 1085463, 'from_this_person_to_poi': 'NaN', 'poi': False, 'long_term_incentive': 'NaN', 'shared_receipt_with_poi': 'NaN', 'restricted_stock': 13847074, 'director_fees': 'NaN'}), ('CHRISTODOULOU DIOMEDES', {'salary': 'NaN', 'to_messages': 'NaN', 'deferral_payments': 'NaN', 'total_payments': 'NaN', 'loan_advances': 'NaN', 'bonus': 'NaN', 'email_address': 'diomedes.christodoulou@enron.com', 'restricted_stock_deferred': 'NaN', 'deferred_income': 'NaN', 'total_stock_value': 6077885, 'expenses': 'NaN', 'from_poi_to_this_person': 'NaN', 'exercised_stock_options': 5127155, 'from_messages': 'NaN', 'other': 'NaN', 'from_this_person_to_poi': 'NaN', 'poi': False, 'long_term_incentive': 'NaN', 'shared_receipt_with_poi': 'NaN', 'restricted_stock': 950730, 'director_fees': 'NaN'}), ('ALLEN PHILLIP K', {'salary': 201955, 'to_messages': 2902, 'deferral_payments': 2869717, 'total_payments': 4484442, 'loan_advances': 'NaN', 'bonus': 4175000, 'email_address': 'phillip.allen@enron.com', 'restricted_stock_deferred': -126027, 'deferred_income': -3081055, 'total_stock_value': 1729541, 'expenses': 13868, 'from_poi_to_this_person': 47, 'exercised_stock_options': 1729541, 'from_messages': 2195, 'other': 152, 'from_this_person_to_poi': 65, 'poi': False, 'long_term_incentive': 304805, 'shared_receipt_with_poi': 1407, 'restricted_stock': 126027, 'director_fees': 'NaN'}), ('SHARP VICTORIA T', {'salary': 248146, 'to_messages': 3136, 'deferral_payments': 187469, 'total_payments': 1576511, 'loan_advances': 'NaN', 'bonus': 600000, 'email_address': 'vicki.sharp@enron.com', 'restricted_stock_deferred': 'NaN', 'deferred_income': 'NaN', 'total_stock_value': 494136, 'expenses': 116337, 'from_poi_to_this_person': 24, 'exercised_stock_options': 281073, 'from_messages': 136, 'other': 2401, 'from_this_person_to_poi': 6, 'poi': False, 'long_term_incentive': 422158, 'shared_receipt_with_poi': 2477, 'restricted_stock': 213063, 'director_fees': 'NaN'}), ('JAEDICKE ROBERT', {'salary': 'NaN', 'to_messages': 'NaN', 'deferral_payments': 'NaN', 'total_payments': 83750, 'loan_advances': 'NaN', 'bonus': 'NaN', 'email_address': 'NaN', 'restricted_stock_deferred': -44093, 'deferred_income': -25000, 'total_stock_value': 431750, 'expenses': 'NaN', 'from_poi_to_this_person': 'NaN', 'exercised_stock_options': 431750, 'from_messages': 'NaN', 'other': 'NaN', 'from_this_person_to_poi': 'NaN', 'poi': False, 'long_term_incentive': 'NaN', 'shared_receipt_with_poi': 'NaN', 'restricted_stock': 44093, 'director_fees': 108750}), ('WINOKUR JR. HERBERT S', {'salary': 'NaN', 'to_messages': 'NaN', 'deferral_payments': 'NaN', 'total_payments': 84992, 'loan_advances': 'NaN', 'bonus': 'NaN', 'email_address': 'NaN', 'restricted_stock_deferred': 'NaN', 'deferred_income': -25000, 'total_stock_value': 'NaN', 'expenses': 1413, 'from_poi_to_this_person': 'NaN', 'exercised_stock_options': 'NaN', 'from_messages': 'NaN', 'other': 'NaN', 'from_this_person_to_poi': 'NaN', 'poi': False, 'long_term_incentive': 'NaN', 'shared_receipt_with_poi': 'NaN', 'restricted_stock': 'NaN', 'director_fees': 108579}), ('BROWN MICHAEL', {'salary': 'NaN', 'to_messages': 1486, 'deferral_payments': 'NaN', 'total_payments': 49288, 'loan_advances': 'NaN', 'bonus': 'NaN', 'email_address': 'michael.brown@enron.com', 'restricted_stock_deferred': 'NaN', 'deferred_income': 'NaN', 'total_stock_value': 'NaN', 'expenses': 49288, 'from_poi_to_this_person': 13, 'exercised_stock_options': 'NaN', 'from_messages': 41, 'other': 'NaN', 'from_this_person_to_poi': 1, 'poi': False, 'long_term_incentive': 'NaN', 'shared_receipt_with_poi': 761, 'restricted_stock': 'NaN', 'director_fees': 'NaN'}), ('MCCLELLAN GEORGE', {'salary': 263413, 'to_messages': 1744, 'deferral_payments': 'NaN', 'total_payments': 1318763, 'loan_advances': 'NaN', 'bonus': 900000, 'email_address': 'george.mcclellan@enron.com', 'restricted_stock_deferred': 'NaN', 'deferred_income': -125000, 'total_stock_value': 947861, 'expenses': 228763, 'from_poi_to_this_person': 52, 'exercised_stock_options': 506765, 'from_messages': 49, 'other': 51587, 'from_this_person_to_poi': 0, 'poi': False, 'long_term_incentive': 'NaN', 'shared_receipt_with_poi': 1469, 'restricted_stock': 441096, 'director_fees': 'NaN'}), ('HUGHES JAMES A', {'salary': 'NaN', 'to_messages': 719, 'deferral_payments': 'NaN', 'total_payments': 'NaN', 'loan_advances': 'NaN', 'bonus': 'NaN', 'email_address': 'james.hughes@enron.com', 'restricted_stock_deferred': 'NaN', 'deferred_income': 'NaN', 'total_stock_value': 1118394, 'expenses': 'NaN', 'from_poi_to_this_person': 35, 'exercised_stock_options': 754966, 'from_messages': 34, 'other': 'NaN', 'from_this_person_to_poi': 5, 'poi': False, 'long_term_incentive': 'NaN', 'shared_receipt_with_poi': 589, 'restricted_stock': 363428, 'director_fees': 'NaN'}), ('REYNOLDS LAWRENCE', {'salary': 76399, 'to_messages': 'NaN', 'deferral_payments': 51365, 'total_payments': 394475, 'loan_advances': 'NaN', 'bonus': 100000, 'email_address': 'NaN', 'restricted_stock_deferred': -140264, 'deferred_income': -200000, 'total_stock_value': 4221891, 'expenses': 8409, 'from_poi_to_this_person': 'NaN', 'exercised_stock_options': 4160672, 'from_messages': 'NaN', 'other': 202052, 'from_this_person_to_poi': 'NaN', 'poi': False, 'long_term_incentive': 156250, 'shared_receipt_with_poi': 'NaN', 'restricted_stock': 201483, 'director_fees': 'NaN'}), ('PICKERING MARK R', {'salary': 655037, 'to_messages': 898, 'deferral_payments': 'NaN', 'total_payments': 1386690, 'loan_advances': 400000, 'bonus': 300000, 'email_address': 'mark.pickering@enron.com', 'restricted_stock_deferred': 'NaN', 'deferred_income': 'NaN', 'total_stock_value': 28798, 'expenses': 31653, 'from_poi_to_this_person': 7, 'exercised_stock_options': 28798, 'from_messages': 67, 'other': 'NaN', 'from_this_person_to_poi': 0, 'poi': False, 'long_term_incentive': 'NaN', 'shared_receipt_with_poi': 728, 'restricted_stock': 'NaN', 'director_fees': 'NaN'}), ('BHATNAGAR SANJAY', {'salary': 'NaN', 'to_messages': 523, 'total_stock_value': 'NaN', 'deferral_payments': 'NaN', 'total_payments': 15456290, 'loan_advances': 'NaN', 'bonus': 'NaN', 'email_address': 'sanjay.bhatnagar@enron.com', 'restricted_stock_deferred': 15456290, 'deferred_income': 'NaN', 'expenses': 'NaN', 'from_poi_to_this_person': 0, 'exercised_stock_options': 2604490, 'from_messages': 29, 'other': 137864, 'from_this_person_to_poi': 1, 'poi': False, 'long_term_incentive': 'NaN', 'shared_receipt_with_poi': 463, 'restricted_stock': -2604490, 'director_fees': 137864}), ('CARTER REBECCA C', {'salary': 261809, 'to_messages': 312, 'deferral_payments': 'NaN', 'total_payments': 477557, 'loan_advances': 'NaN', 'bonus': 300000, 'email_address': 'rebecca.carter@enron.com', 'restricted_stock_deferred': -307301, 'deferred_income': -159792, 'total_stock_value': 'NaN', 'expenses': 'NaN', 'from_poi_to_this_person': 29, 'exercised_stock_options': 'NaN', 'from_messages': 15, 'other': 540, 'from_this_person_to_poi': 7, 'poi': False, 'long_term_incentive': 75000, 'shared_receipt_with_poi': 196, 'restricted_stock': 307301, 'director_fees': 'NaN'}), ('BUCHANAN HAROLD G', {'salary': 248017, 'to_messages': 1088, 'deferral_payments': 'NaN', 'total_payments': 1054637, 'loan_advances': 'NaN', 'bonus': 500000, 'email_address': 'john.buchanan@enron.com', 'restricted_stock_deferred': 'NaN', 'deferred_income': 'NaN', 'total_stock_value': 1014505, 'expenses': 600, 'from_poi_to_this_person': 0, 'exercised_stock_options': 825464, 'from_messages': 125, 'other': 1215, 'from_this_person_to_poi': 0, 'poi': False, 'long_term_incentive': 304805, 'shared_receipt_with_poi': 23, 'restricted_stock': 189041, 'director_fees': 'NaN'}), ('YEAP SOON', {'salary': 'NaN', 'to_messages': 'NaN', 'deferral_payments': 'NaN', 'total_payments': 55097, 'loan_advances': 'NaN', 'bonus': 'NaN', 'email_address': 'NaN', 'restricted_stock_deferred': 'NaN', 'deferred_income': 'NaN', 'total_stock_value': 192758, 'expenses': 55097, 'from_poi_to_this_person': 'NaN', 'exercised_stock_options': 192758, 'from_messages': 'NaN', 'other': 'NaN', 'from_this_person_to_poi': 'NaN', 'poi': False, 'long_term_incentive': 'NaN', 'shared_receipt_with_poi': 'NaN', 'restricted_stock': 'NaN', 'director_fees': 'NaN'}), ('MURRAY JULIA H', {'salary': 229284, 'to_messages': 2192, 'deferral_payments': 'NaN', 'total_payments': 812194, 'loan_advances': 'NaN', 'bonus': 400000, 'email_address': 'julia.murray@enron.com', 'restricted_stock_deferred': 'NaN', 'deferred_income': 'NaN', 'total_stock_value': 597461, 'expenses': 57580, 'from_poi_to_this_person': 11, 'exercised_stock_options': 400478, 'from_messages': 45, 'other': 330, 'from_this_person_to_poi': 2, 'poi': False, 'long_term_incentive': 125000, 'shared_receipt_with_poi': 395, 'restricted_stock': 196983, 'director_fees': 'NaN'}), ('GARLAND C KEVIN', {'salary': 231946, 'to_messages': 209, 'deferral_payments': 'NaN', 'total_payments': 1566469, 'loan_advances': 'NaN', 'bonus': 850000, 'email_address': 'kevin.garland@enron.com', 'restricted_stock_deferred': 'NaN', 'deferred_income': 'NaN', 'total_stock_value': 896153, 'expenses': 48405, 'from_poi_to_this_person': 10, 'exercised_stock_options': 636246, 'from_messages': 44, 'other': 60814, 'from_this_person_to_poi': 27, 'poi': False, 'long_term_incentive': 375304, 'shared_receipt_with_poi': 178, 'restricted_stock': 259907, 'director_fees': 'NaN'}), ('DODSON KEITH', {'salary': 221003, 'to_messages': 176, 'deferral_payments': 'NaN', 'total_payments': 319941, 'loan_advances': 'NaN', 'bonus': 70000, 'email_address': 'keith.dodson@enron.com', 'restricted_stock_deferred': 'NaN', 'deferred_income': 'NaN', 'total_stock_value': 'NaN', 'expenses': 28164, 'from_poi_to_this_person': 10, 'exercised_stock_options': 'NaN', 'from_messages': 14, 'other': 774, 'from_this_person_to_poi': 3, 'poi': False, 'long_term_incentive': 'NaN', 'shared_receipt_with_poi': 114, 'restricted_stock': 'NaN', 'director_fees': 'NaN'}), ('YEAGER F SCOTT', {'salary': 158403, 'to_messages': 'NaN', 'deferral_payments': 'NaN', 'total_payments': 360300, 'loan_advances': 'NaN', 'bonus': 'NaN', 'email_address': 'scott.yeager@enron.com', 'restricted_stock_deferred': 'NaN', 'deferred_income': 'NaN', 'total_stock_value': 11884758, 'expenses': 53947, 'from_poi_to_this_person': 'NaN', 'exercised_stock_options': 8308552, 'from_messages': 'NaN', 'other': 147950, 'from_this_person_to_poi': 'NaN', 'poi': True, 'long_term_incentive': 'NaN', 'shared_receipt_with_poi': 'NaN', 'restricted_stock': 3576206, 'director_fees': 'NaN'}), ('HIRKO JOSEPH', {'salary': 'NaN', 'to_messages': 'NaN', 'deferral_payments': 10259, 'total_payments': 91093, 'loan_advances': 'NaN', 'bonus': 'NaN', 'email_address': 'joe.hirko@enron.com', 'restricted_stock_deferred': 'NaN', 'deferred_income': 'NaN', 'total_stock_value': 30766064, 'expenses': 77978, 'from_poi_to_this_person': 'NaN', 'exercised_stock_options': 30766064, 'from_messages': 'NaN', 'other': 2856, 'from_this_person_to_poi': 'NaN', 'poi': True, 'long_term_incentive': 'NaN', 'shared_receipt_with_poi': 'NaN', 'restricted_stock': 'NaN', 'director_fees': 'NaN'}), ('DIETRICH JANET R', {'salary': 250100, 'to_messages': 2572, 'deferral_payments': 'NaN', 'total_payments': 1410464, 'loan_advances': 'NaN', 'bonus': 600000, 'email_address': 'janet.dietrich@enron.com', 'restricted_stock_deferred': 'NaN', 'deferred_income': 'NaN', 'total_stock_value': 1865087, 'expenses': 3475, 'from_poi_to_this_person': 305, 'exercised_stock_options': 1550019, 'from_messages': 63, 'other': 473, 'from_this_person_to_poi': 14, 'poi': False, 'long_term_incentive': 556416, 'shared_receipt_with_poi': 1902, 'restricted_stock': 315068, 'director_fees': 'NaN'}), ('DERRICK JR. JAMES V', {'salary': 492375, 'to_messages': 2181, 'deferral_payments': 'NaN', 'total_payments': 550981, 'loan_advances': 'NaN', 'bonus': 800000, 'email_address': 'james.derrick@enron.com', 'restricted_stock_deferred': -1787380, 'deferred_income': -1284000, 'total_stock_value': 8831913, 'expenses': 51124, 'from_poi_to_this_person': 64, 'exercised_stock_options': 8831913, 'from_messages': 909, 'other': 7482, 'from_this_person_to_poi': 20, 'poi': False, 'long_term_incentive': 484000, 'shared_receipt_with_poi': 1401, 'restricted_stock': 1787380, 'director_fees': 'NaN'}), ('FREVERT MARK A', {'salary': 1060932, 'to_messages': 3275, 'deferral_payments': 6426990, 'total_payments': 17252530, 'loan_advances': 2000000, 'bonus': 2000000, 'email_address': 'mark.frevert@enron.com', 'restricted_stock_deferred': 'NaN', 'deferred_income': -3367011, 'total_stock_value': 14622185, 'expenses': 86987, 'from_poi_to_this_person': 242, 'exercised_stock_options': 10433518, 'from_messages': 21, 'other': 7427621, 'from_this_person_to_poi': 6, 'poi': False, 'long_term_incentive': 1617011, 'shared_receipt_with_poi': 2979, 'restricted_stock': 4188667, 'director_fees': 'NaN'}), ('PAI LOU L', {'salary': 261879, 'to_messages': 'NaN', 'deferral_payments': 'NaN', 'total_payments': 3123383, 'loan_advances': 'NaN', 'bonus': 1000000, 'email_address': 'lou.pai@enron.com', 'restricted_stock_deferred': 'NaN', 'deferred_income': 'NaN', 'total_stock_value': 23817930, 'expenses': 32047, 'from_poi_to_this_person': 'NaN', 'exercised_stock_options': 15364167, 'from_messages': 'NaN', 'other': 1829457, 'from_this_person_to_poi': 'NaN', 'poi': False, 'long_term_incentive': 'NaN', 'shared_receipt_with_poi': 'NaN', 'restricted_stock': 8453763, 'director_fees': 'NaN'}), ('HAYSLETT RODERICK J', {'salary': 'NaN', 'to_messages': 2649, 'deferral_payments': 'NaN', 'total_payments': 'NaN', 'loan_advances': 'NaN', 'bonus': 'NaN', 'email_address': 'rod.hayslett@enron.com', 'restricted_stock_deferred': 'NaN', 'deferred_income': 'NaN', 'total_stock_value': 346663, 'expenses': 'NaN', 'from_poi_to_this_person': 35, 'exercised_stock_options': 'NaN', 'from_messages': 1061, 'other': 'NaN', 'from_this_person_to_poi': 38, 'poi': False, 'long_term_incentive': 'NaN', 'shared_receipt_with_poi': 571, 'restricted_stock': 346663, 'director_fees': 'NaN'}), ('BAY FRANKLIN R', {'salary': 239671, 'to_messages': 'NaN', 'deferral_payments': 260455, 'total_payments': 827696, 'loan_advances': 'NaN', 'bonus': 400000, 'email_address': 'frank.bay@enron.com', 'restricted_stock_deferred': -82782, 'deferred_income': -201641, 'total_stock_value': 63014, 'expenses': 129142, 'from_poi_to_this_person': 'NaN', 'exercised_stock_options': 'NaN', 'from_messages': 'NaN', 'other': 69, 'from_this_person_to_poi': 'NaN', 'poi': False, 'long_term_incentive': 'NaN', 'shared_receipt_with_poi': 'NaN', 'restricted_stock': 145796, 'director_fees': 'NaN'}), ('MCCARTY DANNY J', {'salary': 'NaN', 'to_messages': 1433, 'deferral_payments': 'NaN', 'total_payments': 'NaN', 'loan_advances': 'NaN', 'bonus': 'NaN', 'email_address': 'danny.mccarty@enron.com', 'restricted_stock_deferred': 'NaN', 'deferred_income': 'NaN', 'total_stock_value': 758931, 'expenses': 'NaN', 'from_poi_to_this_person': 25, 'exercised_stock_options': 664375, 'from_messages': 215, 'other': 'NaN', 'from_this_person_to_poi': 2, 'poi': False, 'long_term_incentive': 'NaN', 'shared_receipt_with_poi': 508, 'restricted_stock': 94556, 'director_fees': 'NaN'}), ('FUGH JOHN L', {'salary': 'NaN', 'to_messages': 'NaN', 'deferral_payments': 50591, 'total_payments': 50591, 'loan_advances': 'NaN', 'bonus': 'NaN', 'email_address': 'NaN', 'restricted_stock_deferred': 'NaN', 'deferred_income': 'NaN', 'total_stock_value': 176378, 'expenses': 'NaN', 'from_poi_to_this_person': 'NaN', 'exercised_stock_options': 176378, 'from_messages': 'NaN', 'other': 'NaN', 'from_this_person_to_poi': 'NaN', 'poi': False, 'long_term_incentive': 'NaN', 'shared_receipt_with_poi': 'NaN', 'restricted_stock': 'NaN', 'director_fees': 'NaN'}), ('SCRIMSHAW MATTHEW', {'salary': 'NaN', 'to_messages': 'NaN', 'deferral_payments': 'NaN', 'total_payments': 'NaN', 'loan_advances': 'NaN', 'bonus': 'NaN', 'email_address': 'matthew.scrimshaw@enron.com', 'restricted_stock_deferred': 'NaN', 'deferred_income': 'NaN', 'total_stock_value': 759557, 'expenses': 'NaN', 'from_poi_to_this_person': 'NaN', 'exercised_stock_options': 759557, 'from_messages': 'NaN', 'other': 'NaN', 'from_this_person_to_poi': 'NaN', 'poi': False, 'long_term_incentive': 'NaN', 'shared_receipt_with_poi': 'NaN', 'restricted_stock': 'NaN', 'director_fees': 'NaN'}), ('KOENIG MARK E', {'salary': 309946, 'to_messages': 2374, 'deferral_payments': 'NaN', 'total_payments': 1587421, 'loan_advances': 'NaN', 'bonus': 700000, 'email_address': 'mark.koenig@enron.com', 'restricted_stock_deferred': 'NaN', 'deferred_income': 'NaN', 'total_stock_value': 1920055, 'expenses': 127017, 'from_poi_to_this_person': 53, 'exercised_stock_options': 671737, 'from_messages': 61, 'other': 150458, 'from_this_person_to_poi': 15, 'poi': True, 'long_term_incentive': 300000, 'shared_receipt_with_poi': 2271, 'restricted_stock': 1248318, 'director_fees': 'NaN'}), ('SAVAGE FRANK', {'salary': 'NaN', 'to_messages': 'NaN', 'deferral_payments': 'NaN', 'total_payments': 3750, 'loan_advances': 'NaN', 'bonus': 'NaN', 'email_address': 'NaN', 'restricted_stock_deferred': 'NaN', 'deferred_income': -121284, 'total_stock_value': 'NaN', 'expenses': 'NaN', 'from_poi_to_this_person': 'NaN', 'exercised_stock_options': 'NaN', 'from_messages': 'NaN', 'other': 'NaN', 'from_this_person_to_poi': 'NaN', 'poi': False, 'long_term_incentive': 'NaN', 'shared_receipt_with_poi': 'NaN', 'restricted_stock': 'NaN', 'director_fees': 125034}), ('IZZO LAWRENCE L', {'salary': 85274, 'to_messages': 496, 'deferral_payments': 'NaN', 'total_payments': 1979596, 'loan_advances': 'NaN', 'bonus': 'NaN', 'email_address': 'larry.izzo@enron.com', 'restricted_stock_deferred': 'NaN', 'deferred_income': 'NaN', 'total_stock_value': 5819980, 'expenses': 28093, 'from_poi_to_this_person': 28, 'exercised_stock_options': 2165172, 'from_messages': 19, 'other': 1553729, 'from_this_person_to_poi': 5, 'poi': False, 'long_term_incentive': 312500, 'shared_receipt_with_poi': 437, 'restricted_stock': 3654808, 'director_fees': 'NaN'}), ('TILNEY ELIZABETH A', {'salary': 247338, 'to_messages': 460, 'deferral_payments': 'NaN', 'total_payments': 399393, 'loan_advances': 'NaN', 'bonus': 300000, 'email_address': 'elizabeth.tilney@enron.com', 'restricted_stock_deferred': 'NaN', 'deferred_income': -575000, 'total_stock_value': 1168042, 'expenses': 'NaN', 'from_poi_to_this_person': 10, 'exercised_stock_options': 591250, 'from_messages': 19, 'other': 152055, 'from_this_person_to_poi': 11, 'poi': False, 'long_term_incentive': 275000, 'shared_receipt_with_poi': 379, 'restricted_stock': 576792, 'director_fees': 'NaN'}), ('MARTIN AMANDA K', {'salary': 349487, 'to_messages': 1522, 'deferral_payments': 85430, 'total_payments': 8407016, 'loan_advances': 'NaN', 'bonus': 'NaN', 'email_address': 'a..martin@enron.com', 'restricted_stock_deferred': 'NaN', 'deferred_income': 'NaN', 'total_stock_value': 2070306, 'expenses': 8211, 'from_poi_to_this_person': 8, 'exercised_stock_options': 2070306, 'from_messages': 230, 'other': 2818454, 'from_this_person_to_poi': 0, 'poi': False, 'long_term_incentive': 5145434, 'shared_receipt_with_poi': 477, 'restricted_stock': 'NaN', 'director_fees': 'NaN'}), ('BUY RICHARD B', {'salary': 330546, 'to_messages': 3523, 'deferral_payments': 649584, 'total_payments': 2355702, 'loan_advances': 'NaN', 'bonus': 900000, 'email_address': 'rick.buy@enron.com', 'restricted_stock_deferred': 'NaN', 'deferred_income': -694862, 'total_stock_value': 3444470, 'expenses': 'NaN', 'from_poi_to_this_person': 156, 'exercised_stock_options': 2542813, 'from_messages': 1053, 'other': 400572, 'from_this_person_to_poi': 71, 'poi': False, 'long_term_incentive': 769862, 'shared_receipt_with_poi': 2333, 'restricted_stock': 901657, 'director_fees': 'NaN'}), ('GRAMM WENDY L', {'salary': 'NaN', 'to_messages': 'NaN', 'deferral_payments': 'NaN', 'total_payments': 119292, 'loan_advances': 'NaN', 'bonus': 'NaN', 'email_address': 'NaN', 'restricted_stock_deferred': 'NaN', 'deferred_income': 'NaN', 'total_stock_value': 'NaN', 'expenses': 'NaN', 'from_poi_to_this_person': 'NaN', 'exercised_stock_options': 'NaN', 'from_messages': 'NaN', 'other': 'NaN', 'from_this_person_to_poi': 'NaN', 'poi': False, 'long_term_incentive': 'NaN', 'shared_receipt_with_poi': 'NaN', 'restricted_stock': 'NaN', 'director_fees': 119292}), ('CAUSEY RICHARD A', {'salary': 415189, 'to_messages': 1892, 'deferral_payments': 'NaN', 'total_payments': 1868758, 'loan_advances': 'NaN', 'bonus': 1000000, 'email_address': 'richard.causey@enron.com', 'restricted_stock_deferred': 'NaN', 'deferred_income': -235000, 'total_stock_value': 2502063, 'expenses': 30674, 'from_poi_to_this_person': 58, 'exercised_stock_options': 'NaN', 'from_messages': 49, 'other': 307895, 'from_this_person_to_poi': 12, 'poi': True, 'long_term_incentive': 350000, 'shared_receipt_with_poi': 1585, 'restricted_stock': 2502063, 'director_fees': 'NaN'}), ('TAYLOR MITCHELL S', {'salary': 265214, 'to_messages': 533, 'deferral_payments': 227449, 'total_payments': 1092663, 'loan_advances': 'NaN', 'bonus': 600000, 'email_address': 'mitchell.taylor@enron.com', 'restricted_stock_deferred': 'NaN', 'deferred_income': 'NaN', 'total_stock_value': 3745048, 'expenses': 'NaN', 'from_poi_to_this_person': 0, 'exercised_stock_options': 3181250, 'from_messages': 29, 'other': 'NaN', 'from_this_person_to_poi': 0, 'poi': False, 'long_term_incentive': 'NaN', 'shared_receipt_with_poi': 300, 'restricted_stock': 563798, 'director_fees': 'NaN'}), ('DONAHUE JR JEFFREY M', {'salary': 278601, 'to_messages': 865, 'deferral_payments': 'NaN', 'total_payments': 875760, 'loan_advances': 'NaN', 'bonus': 800000, 'email_address': 'jeff.donahue@enron.com', 'restricted_stock_deferred': 'NaN', 'deferred_income': -300000, 'total_stock_value': 1080988, 'expenses': 96268, 'from_poi_to_this_person': 188, 'exercised_stock_options': 765920, 'from_messages': 22, 'other': 891, 'from_this_person_to_poi': 11, 'poi': False, 'long_term_incentive': 'NaN', 'shared_receipt_with_poi': 772, 'restricted_stock': 315068, 'director_fees': 'NaN'}), ('GLISAN JR BEN F', {'salary': 274975, 'to_messages': 873, 'deferral_payments': 'NaN', 'total_payments': 1272284, 'loan_advances': 'NaN', 'bonus': 600000, 'email_address': 'ben.glisan@enron.com', 'restricted_stock_deferred': 'NaN', 'deferred_income': 'NaN', 'total_stock_value': 778546, 'expenses': 125978, 'from_poi_to_this_person': 52, 'exercised_stock_options': 384728, 'from_messages': 16, 'other': 200308, 'from_this_person_to_poi': 6, 'poi': True, 'long_term_incentive': 71023, 'shared_receipt_with_poi': 874, 'restricted_stock': 393818, 'director_fees': 'NaN'})])"
      ]
     },
     "execution_count": 15,
     "metadata": {},
     "output_type": "execute_result"
    }
   ],
   "source": [
    "data_dict.items()"
   ]
  },
  {
   "cell_type": "code",
   "execution_count": 16,
   "id": "261fccd0",
   "metadata": {},
   "outputs": [
    {
     "name": "stdout",
     "output_type": "stream",
     "text": [
      "34348384\n",
      "3285\n"
     ]
    }
   ],
   "source": [
    "stock_list = []\n",
    "for k,v in data_dict.items():\n",
    "    stock_options = v['exercised_stock_options']\n",
    "    if stock_options != 'NaN':\n",
    "        stock_list.append(stock_options)\n",
    "print(max(stock_list))\n",
    "print(min(stock_list))"
   ]
  },
  {
   "cell_type": "code",
   "execution_count": 12,
   "id": "d9167b35",
   "metadata": {},
   "outputs": [
    {
     "data": {
      "text/plain": [
       "'What are the maximum and minimum values taken by “salary”?\\n\\n(NB: same caveat as in the last quiz. If you look at finance_features, there are some \"NaN\" values that have been cleaned away and replaced with zeroes--so while those might look like the minima, it\\'s a bit deceptive because they\\'re more like points for which we don\\'t have information, and just have to put in a number. So for this question, go back to data_dict and look for the maximum and minimum numbers that show up there, ignoring all the \"NaN\" entries.)\\n'"
      ]
     },
     "execution_count": 12,
     "metadata": {},
     "output_type": "execute_result"
    }
   ],
   "source": [
    "'''What are the maximum and minimum values taken by “salary”?\n",
    "\n",
    "(NB: same caveat as in the last quiz. If you look at finance_features, there are some \"NaN\" values that have been cleaned away and replaced with zeroes--so while those might look like the minima, it's a bit deceptive because they're more like points for which we don't have information, and just have to put in a number. So for this question, go back to data_dict and look for the maximum and minimum numbers that show up there, ignoring all the \"NaN\" entries.)\n",
    "'''"
   ]
  },
  {
   "cell_type": "code",
   "execution_count": 17,
   "id": "c213cade",
   "metadata": {},
   "outputs": [
    {
     "name": "stdout",
     "output_type": "stream",
     "text": [
      "1111258\n",
      "477\n"
     ]
    }
   ],
   "source": [
    "salary_list = []\n",
    "for k,v in data_dict.items():\n",
    "    salary = v['salary']\n",
    "    if salary != 'NaN':\n",
    "        salary_list.append(salary)\n",
    "print(max(salary_list))\n",
    "print(min(salary_list))"
   ]
  },
  {
   "cell_type": "code",
   "execution_count": 13,
   "id": "c34d9c63",
   "metadata": {},
   "outputs": [
    {
     "data": {
      "text/plain": [
       "\"The plot on the next slide shows the exact same clustering code that you just wrote, but in this example we applied feature scaling before performing the clustering.\\n\\nWe want you to compare the clustering with scaling (on the next slide) with the first clustering visualization you produced, when you used two features in your clustering algorithm.\\n\\nNotice that now the range of the features has changed to [0.0, 1.0]. That's the only change we've made.\\n\\nIn the next lesson you’ll learn a lot more about what feature scaling means, but for now, just look at the effect on the clusters--which point(s) switch their associated cluster?\\nGo to Quiz\\n\\nCompare this plot to the one you obtained at the start of the mini-project (clustering on only two features) to answer this question.\\n\""
      ]
     },
     "execution_count": 13,
     "metadata": {},
     "output_type": "execute_result"
    }
   ],
   "source": [
    "'''The plot on the next slide shows the exact same clustering code that you just wrote, but in this example we applied feature scaling before performing the clustering.\n",
    "\n",
    "We want you to compare the clustering with scaling (on the next slide) with the first clustering visualization you produced, when you used two features in your clustering algorithm.\n",
    "\n",
    "Notice that now the range of the features has changed to [0.0, 1.0]. That's the only change we've made.\n",
    "\n",
    "In the next lesson you’ll learn a lot more about what feature scaling means, but for now, just look at the effect on the clusters--which point(s) switch their associated cluster?\n",
    "Go to Quiz\n",
    "\n",
    "Compare this plot to the one you obtained at the start of the mini-project (clustering on only two features) to answer this question.\n",
    "'''"
   ]
  },
  {
   "cell_type": "code",
   "execution_count": null,
   "id": "5b9de76c",
   "metadata": {},
   "outputs": [],
   "source": []
  },
  {
   "cell_type": "code",
   "execution_count": null,
   "id": "92edad69",
   "metadata": {},
   "outputs": [],
   "source": []
  },
  {
   "cell_type": "code",
   "execution_count": null,
   "id": "0ef437fe",
   "metadata": {},
   "outputs": [],
   "source": []
  },
  {
   "cell_type": "code",
   "execution_count": 18,
   "id": "628968f8",
   "metadata": {},
   "outputs": [
    {
     "data": {
      "text/plain": [
       "'Apply feature scaling to your k-means clustering code from the last lesson, on the “salary” and “exercised_stock_options” features (use only these two features). What would be the rescaled value of a \"salary\" feature that had an original value of $200,000, and an \"exercised_stock_options\" feature of $1 million? (Be sure to represent these numbers as floats, not integers!)'"
      ]
     },
     "execution_count": 18,
     "metadata": {},
     "output_type": "execute_result"
    }
   ],
   "source": [
    "#FEATURE SCALING\n",
    "\n",
    "'''Apply feature scaling to your k-means clustering code from the last lesson, on the “salary” and “exercised_stock_options” features (use only these two features). What would be the rescaled value of a \"salary\" feature that had an original value of $200,000, and an \"exercised_stock_options\" feature of $1 million? (Be sure to represent these numbers as floats, not integers!)'''"
   ]
  },
  {
   "cell_type": "code",
   "execution_count": 26,
   "id": "ecf33cbd",
   "metadata": {},
   "outputs": [
    {
     "data": {
      "image/png": "[encoded data removed]",
      "text/plain": [
       "<Figure size 432x288 with 1 Axes>"
      ]
     },
     "metadata": {
      "needs_background": "light"
     },
     "output_type": "display_data"
    },
    {
     "data": {
      "image/png": "[encoded data removed]",
      "text/plain": [
       "<Figure size 432x288 with 1 Axes>"
      ]
     },
     "metadata": {
      "needs_background": "light"
     },
     "output_type": "display_data"
    }
   ],
   "source": [
    "#CLUSTERING\n",
    "#!/usr/bin/python3\n",
    "\n",
    "\"\"\" \n",
    "    Skeleton code for k-means clustering mini-project.\n",
    "\"\"\"\n",
    "\n",
    "import os\n",
    "import joblib\n",
    "import numpy\n",
    "import matplotlib.pyplot as plt\n",
    "import sys\n",
    "sys.path.append(os.path.abspath(\"/home/adebisi/UDACITY PROJECTS/tools/\"))\n",
    "from feature_format import featureFormat, targetFeatureSplit\n",
    "\n",
    "def Draw(pred, features, poi, mark_poi=False, name=\"image.png\", f1_name=\"feature 1\", f2_name=\"feature 2\"):\n",
    "    \"\"\" some plotting code designed to help you visualize your clusters \"\"\"\n",
    "\n",
    "    ### plot each cluster with a different color--add more colors for\n",
    "    ### drawing more than five clusters\n",
    "    colors = [\"b\", \"c\", \"k\", \"m\", \"g\"]\n",
    "    for ii, pp in enumerate(pred):\n",
    "        plt.scatter(features[ii][0], features[ii][1], color = colors[pred[ii]])\n",
    "\n",
    "    ### if you like, place red stars over points that are POIs (just for funsies)\n",
    "    if mark_poi:\n",
    "        for ii, pp in enumerate(pred):\n",
    "            if poi[ii]:\n",
    "                plt.scatter(features[ii][0], features[ii][1], color=\"r\", marker=\"*\")\n",
    "    plt.xlabel(f1_name)\n",
    "    plt.ylabel(f2_name)\n",
    "    plt.savefig(name)\n",
    "    plt.show()\n",
    "\n",
    "\n",
    "\n",
    "### load in the dict of dicts containing all the data on each person in the dataset\n",
    "data_dict = joblib.load( open(\"/home/adebisi/UDACITY PROJECTS/ud120-projects-master/final_project/final_project_dataset.pkl\", \"rb\") )\n",
    "### there's an outlier--remove it! \n",
    "data_dict.pop(\"TOTAL\", 0)\n",
    "\n",
    "#FEATURE SCALING\n",
    "from sklearn.preprocessing import MinMaxScaler\n",
    "scaler = MinMaxScaler()\n",
    "\n",
    "### the input features we want to use \n",
    "### can be any key in the person-level dictionary (salary, director_fees, etc.) \n",
    "feature_1 = \"salary\"\n",
    "feature_2 = \"exercised_stock_options\"\n",
    "#feature_3 = 'total_payments'\n",
    "poi  = \"poi\"\n",
    "features_list = [poi, feature_1, feature_2]\n",
    "data = featureFormat(data_dict, features_list )\n",
    "poi, finance_features = targetFeatureSplit( data )\n",
    "finance_features_rescaled = scaler.fit_transform(finance_features).astype(float)\n",
    "\n",
    "\n",
    "### in the \"clustering with 3 features\" part of the mini-project,\n",
    "### you'll want to change this line to \n",
    "### for f1, f2, _ in finance_features:\n",
    "### (as it's currently written, the line below assumes 2 features)\n",
    "for f1, f2 in finance_features_rescaled:\n",
    "    plt.scatter( f1, f2)\n",
    "plt.show()\n",
    "\n",
    "### cluster here; create predictions of the cluster labels\n",
    "### for the data and store them to a list called pred\n",
    "from sklearn.cluster import KMeans\n",
    "kmeans = KMeans(n_clusters=2, random_state=8).fit(finance_features_rescaled)\n",
    "pred = kmeans.predict(finance_features_rescaled)\n",
    "\n",
    "### rename the \"name\" parameter when you change the number of features\n",
    "### so that the figure gets saved to a different file\n",
    "try:\n",
    "    Draw(pred, finance_features_rescaled, poi, mark_poi=False, name=\"clusters.pdf\", f1_name=feature_1, f2_name=feature_2)\n",
    "except NameError:\n",
    "    print(\"No predictions object named pred found, no clusters to plot\")\n"
   ]
  },
  {
   "cell_type": "code",
   "execution_count": 28,
   "id": "13604121",
   "metadata": {},
   "outputs": [
    {
     "name": "stdout",
     "output_type": "stream",
     "text": [
      "[[0.17997621 0.02911345]]\n"
     ]
    }
   ],
   "source": [
    "X_test = numpy.array([[200000.0,1000000.0]])\n",
    "X_test_rescaled = scaler.transform(X_test)\n",
    "print(X_test_rescaled)"
   ]
  },
  {
   "cell_type": "code",
   "execution_count": 29,
   "id": "4a449a41",
   "metadata": {},
   "outputs": [
    {
     "data": {
      "text/plain": [
       "'One could argue about whether rescaling the financial data is strictly necessary, perhaps we want to keep the information that a $100,000 salary and $40,000,000 in stock options are dramatically different quantities. What if we wanted to cluster based on “from_messages” (the number of email messages sent from a particular email account) and “salary”? Would feature scaling be unnecessary in this case, or critical?'"
      ]
     },
     "execution_count": 29,
     "metadata": {},
     "output_type": "execute_result"
    }
   ],
   "source": [
    "'''One could argue about whether rescaling the financial data is strictly necessary, perhaps we want to keep the information that a $100,000 salary and $40,000,000 in stock options are dramatically different quantities. What if we wanted to cluster based on “from_messages” (the number of email messages sent from a particular email account) and “salary”? Would feature scaling be unnecessary in this case, or critical?'''"
   ]
  },
  {
   "cell_type": "code",
   "execution_count": 30,
   "id": "5e717462",
   "metadata": {},
   "outputs": [
    {
     "name": "stdout",
     "output_type": "stream",
     "text": [
      "critical\n"
     ]
    }
   ],
   "source": [
    "print('critical')"
   ]
  },
  {
   "cell_type": "code",
   "execution_count": 29,
   "id": "dda217da",
   "metadata": {},
   "outputs": [
    {
     "data": {
      "text/plain": [
       "1.0"
      ]
     },
     "execution_count": 29,
     "metadata": {},
     "output_type": "execute_result"
    }
   ],
   "source": [
    "#FEATURE SELECTION\n",
    "\n",
    "#!/usr/bin/python3\n",
    "\n",
    "import joblib\n",
    "import numpy\n",
    "numpy.random.seed(42)\n",
    "import pickle\n",
    "\n",
    "\n",
    "### The words (features) and authors (labels), already largely processed.\n",
    "### These files should have been created from the previous (Lesson 10)\n",
    "### mini-project.\n",
    "words_file = \"/home/adebisi/UDACITY PROJECTS/ud120-projects-master/feature_selection/word_data.pkl\" \n",
    "authors_file = \"/home/adebisi/UDACITY PROJECTS/ud120-projects-master/feature_selection/email_authors.pkl\"\n",
    "word_data = joblib.load(\"/home/adebisi/UDACITY PROJECTS/ud120-projects-master/feature_selection/word_data.pkl\")\n",
    "authors = joblib.load(\"/home/adebisi/UDACITY PROJECTS/ud120-projects-master/feature_selection/email_authors.pkl\")\n",
    "\n",
    "\n",
    "\n",
    "### test_size is the percentage of events assigned to the test set (the\n",
    "### remainder go into training)\n",
    "### feature matrices changed to dense representations for compatibility with\n",
    "### classifier functions in versions 0.15.2 and earlier\n",
    "from sklearn.model_selection import train_test_split\n",
    "#from sklearn import cross_validation\n",
    "features_train, features_test, labels_train, labels_test = train_test_split(word_data, authors, test_size=0.1, random_state=42)\n",
    "\n",
    "from sklearn.feature_extraction.text import TfidfVectorizer\n",
    "vectorizer = TfidfVectorizer(sublinear_tf=True, max_df=0.5, stop_words='english')\n",
    "features_train = vectorizer.fit_transform(features_train)\n",
    "features_test  = vectorizer.transform(features_test).toarray()\n",
    "\n",
    "\n",
    "### a classic way to overfit is to use a small number\n",
    "### of data points and a large number of features;\n",
    "### train on only 150 events to put ourselves in this regime\n",
    "features_train = features_train[:150].toarray()\n",
    "labels_train   = labels_train[:150]\n",
    "\n",
    "\n",
    "### your code goes here\n",
    "from sklearn.tree import DecisionTreeClassifier\n",
    "from sklearn.metrics import accuracy_score\n",
    "clf = DecisionTreeClassifier()\n",
    "clf = clf.fit(features_train, labels_train)\n",
    "labels_predictions = clf.predict(features_test)\n",
    "acc = accuracy_score(labels_test,labels_predictions)\n",
    "acc"
   ]
  },
  {
   "cell_type": "code",
   "execution_count": 31,
   "id": "d3dd1bce",
   "metadata": {},
   "outputs": [
    {
     "data": {
      "text/plain": [
       "2803"
      ]
     },
     "execution_count": 31,
     "metadata": {},
     "output_type": "execute_result"
    }
   ],
   "source": [
    "feat_imp_list = clf.feature_importances_\n",
    "len(feat_imp_list)"
   ]
  },
  {
   "cell_type": "code",
   "execution_count": null,
   "id": "11a510cc",
   "metadata": {},
   "outputs": [],
   "source": []
  },
  {
   "cell_type": "code",
   "execution_count": null,
   "id": "2a937649",
   "metadata": {},
   "outputs": [],
   "source": []
  },
  {
   "cell_type": "code",
   "execution_count": null,
   "id": "fc774e10",
   "metadata": {},
   "outputs": [],
   "source": []
  },
  {
   "cell_type": "code",
   "execution_count": null,
   "id": "f502e7c7",
   "metadata": {},
   "outputs": [],
   "source": []
  },
  {
   "cell_type": "code",
   "execution_count": 35,
   "id": "226256e3",
   "metadata": {},
   "outputs": [
    {
     "name": "stdout",
     "output_type": "stream",
     "text": [
      "\n"
     ]
    }
   ],
   "source": [
    "#TEXT LEARNING\n",
    "#parse_out_email_text.py\n",
    "\n",
    "\n",
    "#!/usr/bin/python3\n",
    "\n",
    "from nltk.stem.snowball import SnowballStemmer\n",
    "import string\n",
    "\n",
    "def parseOutText(f):\n",
    "    \"\"\" given an opened email file f, parse out all text below the\n",
    "        metadata block at the top\n",
    "        (in Part 2, you will also add stemming capabilities)\n",
    "        and return a string that contains all the words\n",
    "        in the email (space-separated) \n",
    "        \n",
    "        example use case:\n",
    "        f = open(\"email_file_name.txt\", \"r\")\n",
    "        text = parseOutText(f)\n",
    "        \n",
    "        \"\"\"\n",
    "\n",
    "\n",
    "    f.seek(0)  ### go back to beginning of file (annoying)\n",
    "    all_text = f.read()\n",
    "\n",
    "    ### split off metadata\n",
    "    content = all_text.split(\"X-FileName:\")\n",
    "    words = \"\"\n",
    "    if len(content) > 1:\n",
    "        ### remove punctuation\n",
    "        text_string = content[1].translate(str.maketrans('','',string.punctuation))\n",
    "\n",
    "        ### project part 2: comment out the line below\n",
    "        #words = text_string\n",
    "\n",
    "\n",
    "\n",
    "        ### split the text string into individual words, stem each word,\n",
    "        ### and append the stemmed word to words (make sure there's a single\n",
    "        ### space between each stemmed word)\n",
    "\n",
    "\n",
    "\n",
    "    return words\n",
    "\n",
    "    \n",
    "\n",
    "def main():\n",
    "    ff = open(\"/home/adebisi/UDACITY PROJECTS/ud120-projects-master/text_learning/test_email.txt\", \"r\")\n",
    "    text = parseOutText(ff)\n",
    "    print(text)\n",
    "\n",
    "\n",
    "\n",
    "if __name__ == '__main__':\n",
    "    main()\n",
    "\n"
   ]
  },
  {
   "cell_type": "code",
   "execution_count": 41,
   "id": "eaee959c",
   "metadata": {},
   "outputs": [
    {
     "name": "stdout",
     "output_type": "stream",
     "text": [
      "hi everyon if you can read this messag your proper use parseouttext pleas proceed to the next part of the project\n"
     ]
    }
   ],
   "source": [
    "'''In parseOutText(), comment out the following line:\n",
    "\n",
    "words = text_string\n",
    "\n",
    "Augment parseOutText() so that the string it returns has all the words stemmed using a SnowballStemmer (use the nltk package, some examples that I found helpful can be found here: http://www.nltk.org/howto/stem.html ). Rerun parse_out_email_text.py, which will use your updated parseOutText() function--what’s your output now?\n",
    "\n",
    "Hint: you'll need to break the string down into individual words, stem each word, then recombine all the words into one string.\n",
    "'''\n",
    "#!/usr/bin/python3\n",
    "\n",
    "from nltk.stem.snowball import SnowballStemmer\n",
    "import string\n",
    "\n",
    "def parseOutText(f):\n",
    "    \"\"\" given an opened email file f, parse out all text below the\n",
    "        metadata block at the top\n",
    "        (in Part 2, you will also add stemming capabilities)\n",
    "        and return a string that contains all the words\n",
    "        in the email (space-separated) \n",
    "        \n",
    "        example use case:\n",
    "        f = open(\"email_file_name.txt\", \"r\")\n",
    "        text = parseOutText(f)\n",
    "        \n",
    "        \"\"\"\n",
    "\n",
    "\n",
    "    f.seek(0)  ### go back to beginning of file (annoying)\n",
    "    all_text = f.read()\n",
    "\n",
    "    ### split off metadata\n",
    "    content = all_text.split(\"X-FileName:\")\n",
    "    words = \"\"\n",
    "    if len(content) > 1:\n",
    "        ### remove punctuation\n",
    "        text_string = content[1].translate(str.maketrans('','',string.punctuation))\n",
    "\n",
    "        ### project part 2: comment out the line below\n",
    "        #words = text_string\n",
    "\n",
    "\n",
    "\n",
    "        ### split the text string into individual words, stem each word,\n",
    "        ### and append the stemmed word to words (make sure there's a single\n",
    "        ### space between each stemmed word)\n",
    "        stemmer = SnowballStemmer(\"english\")\n",
    "        split = text_string.split()  \n",
    "        text = [stemmer.stem(word) for word in split]\n",
    "        words = ' '.join(text)\n",
    "#        for i in range(len(split)):\n",
    "#            stemm = stemmer.stem(split[i])            \n",
    "#            text.append(stemm) \n",
    "#       words = ' '.join(text)\n",
    "\n",
    "\n",
    "\n",
    "    return words\n",
    "\n",
    "    \n",
    "\n",
    "def main():\n",
    "    ff = open(\"/home/adebisi/UDACITY PROJECTS/ud120-projects-master/text_learning/test_email.txt\", \"r\")\n",
    "    text = parseOutText(ff)\n",
    "    print(text)\n",
    "\n",
    "\n",
    "\n",
    "if __name__ == '__main__':\n",
    "    main()\n",
    "\n",
    "\n",
    "\n",
    "    stemmer = SnowballStemmer(\"english\")\n",
    "    #split = text_string.split()  \n",
    "    #text = [stemmer.stem(word) for word in split]\n",
    "    #words = ' '.join(text)\n",
    "#        for i in range(len(split)):\n",
    "#            stemm = stemmer.stem(split[i])            \n",
    "#            text.append(stemm) \n",
    "#       words = ' '.join(text)"
   ]
  },
  {
   "cell_type": "code",
   "execution_count": 42,
   "id": "1e000400",
   "metadata": {},
   "outputs": [
    {
     "data": {
      "text/plain": [
       "'In vectorize_text.py, you will iterate through all the emails from Chris and from Sara. For each email, feed the opened email to parseOutText() and return the stemmed text string. Then do two things:\\n\\nremove signature words (“sara”, “shackleton”, “chris”, “germani”--bonus points if you can figure out why it\\'s \"germani\" and not \"germany\")\\n\\nappend the updated text string to word_data -- if the email is from Sara, append 0 (zero) to from_data, or append a 1 if Chris wrote the email.\\n\\nOnce this step is complete, you should have two lists: one contains the stemmed text of each email, and the second should contain the labels that encode (via a 0 or 1) who the author of that email is.\\n\\nRunning over all the emails can take a little while (5 minutes or more), so we\\'ve added a temp_counter to cut things off after the first 200 emails. Of course, once everything is working, you\\'d want to run over the full dataset.\\n\\nIn the box below, put the string that you get for word_data[152].\\n'"
      ]
     },
     "execution_count": 42,
     "metadata": {},
     "output_type": "execute_result"
    }
   ],
   "source": [
    "'''In vectorize_text.py, you will iterate through all the emails from Chris and from Sara. For each email, feed the opened email to parseOutText() and return the stemmed text string. Then do two things:\n",
    "\n",
    "remove signature words (“sara”, “shackleton”, “chris”, “germani”--bonus points if you can figure out why it's \"germani\" and not \"germany\")\n",
    "\n",
    "append the updated text string to word_data -- if the email is from Sara, append 0 (zero) to from_data, or append a 1 if Chris wrote the email.\n",
    "\n",
    "Once this step is complete, you should have two lists: one contains the stemmed text of each email, and the second should contain the labels that encode (via a 0 or 1) who the author of that email is.\n",
    "\n",
    "Running over all the emails can take a little while (5 minutes or more), so we've added a temp_counter to cut things off after the first 200 emails. Of course, once everything is working, you'd want to run over the full dataset.\n",
    "\n",
    "In the box below, put the string that you get for word_data[152].\n",
    "'''"
   ]
  },
  {
   "cell_type": "code",
   "execution_count": 7,
   "id": "d3afdf82",
   "metadata": {},
   "outputs": [
    {
     "name": "stdout",
     "output_type": "stream",
     "text": [
      "../maildir/bailey-s/deleted_items/101.\n",
      "../maildir/bailey-s/deleted_items/106.\n",
      "../maildir/bailey-s/deleted_items/132.\n",
      "../maildir/bailey-s/deleted_items/185.\n",
      "../maildir/bailey-s/deleted_items/186.\n",
      "../maildir/bailey-s/deleted_items/187.\n",
      "../maildir/bailey-s/deleted_items/193.\n",
      "../maildir/bailey-s/deleted_items/195.\n",
      "../maildir/bailey-s/deleted_items/214.\n",
      "../maildir/bailey-s/deleted_items/215.\n",
      "../maildir/bailey-s/deleted_items/233.\n",
      "../maildir/bailey-s/deleted_items/242.\n",
      "../maildir/bailey-s/deleted_items/243.\n",
      "../maildir/bailey-s/deleted_items/244.\n",
      "../maildir/bailey-s/deleted_items/246.\n",
      "../maildir/bailey-s/deleted_items/247.\n",
      "../maildir/bailey-s/deleted_items/254.\n",
      "../maildir/bailey-s/deleted_items/259.\n",
      "../maildir/bailey-s/deleted_items/260.\n",
      "../maildir/bailey-s/deleted_items/261.\n",
      "../maildir/bailey-s/deleted_items/263.\n",
      "../maildir/bailey-s/deleted_items/278.\n",
      "../maildir/bailey-s/deleted_items/290.\n",
      "../maildir/bailey-s/deleted_items/296.\n",
      "../maildir/bailey-s/deleted_items/302.\n",
      "../maildir/bailey-s/deleted_items/306.\n",
      "../maildir/bailey-s/deleted_items/307.\n",
      "../maildir/bailey-s/deleted_items/317.\n",
      "../maildir/bailey-s/deleted_items/320.\n",
      "../maildir/bailey-s/deleted_items/335.\n",
      "../maildir/bailey-s/deleted_items/70.\n",
      "../maildir/heard-m/brokerage_agreements/1.\n",
      "../maildir/heard-m/brokerage_agreements/16.\n",
      "../maildir/heard-m/brokerage_agreements/17.\n",
      "../maildir/heard-m/brokerage_agreements/2.\n",
      "../maildir/heard-m/brokerage_agreements/24.\n",
      "../maildir/heard-m/brokerage_agreements/26.\n",
      "../maildir/heard-m/brokerage_agreements/27.\n",
      "../maildir/heard-m/brokerage_agreements/33.\n",
      "../maildir/heard-m/brokerage_agreements/35.\n",
      "../maildir/heard-m/brokerage_agreements/36.\n",
      "../maildir/heard-m/brokerage_agreements/4.\n",
      "../maildir/heard-m/brokerage_agreements/52.\n",
      "../maildir/heard-m/brokerage_agreements/73.\n",
      "../maildir/heard-m/brokerage_agreements/8.\n",
      "../maildir/heard-m/brokerage_agreements/87.\n",
      "../maildir/heard-m/deleted_items/122.\n",
      "../maildir/heard-m/deleted_items/134.\n",
      "../maildir/heard-m/deleted_items/38.\n",
      "../maildir/heard-m/deleted_items/48.\n",
      "../maildir/heard-m/deleted_items/49.\n",
      "../maildir/heard-m/deleted_items/50.\n",
      "../maildir/heard-m/deleted_items/60.\n",
      "../maildir/heard-m/deleted_items/66.\n",
      "../maildir/heard-m/deleted_items/71.\n",
      "../maildir/heard-m/deleted_items/79.\n",
      "../maildir/heard-m/inbox/102.\n",
      "../maildir/heard-m/inbox/104.\n",
      "../maildir/heard-m/inbox/105.\n",
      "../maildir/heard-m/inbox/106.\n",
      "../maildir/heard-m/inbox/112.\n",
      "../maildir/heard-m/inbox/133.\n",
      "../maildir/heard-m/inbox/160.\n",
      "../maildir/heard-m/inbox/161.\n",
      "../maildir/heard-m/inbox/166.\n",
      "../maildir/heard-m/inbox/177.\n",
      "../maildir/heard-m/inbox/182.\n",
      "../maildir/heard-m/inbox/19.\n",
      "../maildir/heard-m/inbox/21.\n",
      "../maildir/heard-m/inbox/22.\n",
      "../maildir/heard-m/inbox/23.\n",
      "../maildir/heard-m/inbox/26.\n",
      "../maildir/heard-m/inbox/275.\n",
      "../maildir/heard-m/inbox/34.\n",
      "../maildir/heard-m/inbox/35.\n",
      "../maildir/heard-m/inbox/41.\n",
      "../maildir/heard-m/inbox/48.\n",
      "../maildir/heard-m/inbox/67.\n",
      "../maildir/heard-m/inbox/69.\n",
      "../maildir/heard-m/inbox/76.\n",
      "../maildir/hodge-j/deleted_items/206.\n",
      "../maildir/hodge-j/inbox/436.\n",
      "../maildir/jones-t/all_documents/10126.\n",
      "../maildir/jones-t/all_documents/10138.\n",
      "../maildir/jones-t/all_documents/10347.\n",
      "../maildir/jones-t/all_documents/10602.\n",
      "../maildir/jones-t/all_documents/10865.\n",
      "../maildir/jones-t/all_documents/10946.\n",
      "../maildir/jones-t/all_documents/11004.\n",
      "../maildir/jones-t/all_documents/11404.\n",
      "../maildir/jones-t/all_documents/11696.\n",
      "../maildir/jones-t/all_documents/11799.\n",
      "../maildir/jones-t/all_documents/12130.\n",
      "../maildir/jones-t/all_documents/12231.\n",
      "../maildir/jones-t/all_documents/1238.\n",
      "../maildir/jones-t/all_documents/1334.\n",
      "../maildir/jones-t/all_documents/1373.\n",
      "../maildir/jones-t/all_documents/1397.\n",
      "../maildir/jones-t/all_documents/1465.\n",
      "../maildir/jones-t/all_documents/1469.\n",
      "../maildir/jones-t/all_documents/1534.\n",
      "../maildir/jones-t/all_documents/1566.\n",
      "../maildir/jones-t/all_documents/1607.\n",
      "../maildir/jones-t/all_documents/1608.\n",
      "../maildir/jones-t/all_documents/1661.\n",
      "../maildir/jones-t/all_documents/1693.\n",
      "../maildir/jones-t/all_documents/1727.\n",
      "../maildir/jones-t/all_documents/1746.\n",
      "../maildir/jones-t/all_documents/1760.\n",
      "../maildir/jones-t/all_documents/1848.\n",
      "../maildir/jones-t/all_documents/1936.\n",
      "../maildir/jones-t/all_documents/1970.\n",
      "../maildir/jones-t/all_documents/1976.\n",
      "../maildir/jones-t/all_documents/2035.\n",
      "../maildir/jones-t/all_documents/2091.\n",
      "../maildir/jones-t/all_documents/2117.\n",
      "../maildir/jones-t/all_documents/2172.\n",
      "../maildir/jones-t/all_documents/2189.\n",
      "../maildir/jones-t/all_documents/2205.\n",
      "../maildir/jones-t/all_documents/2313.\n",
      "../maildir/jones-t/all_documents/2316.\n",
      "../maildir/jones-t/all_documents/2344.\n",
      "../maildir/jones-t/all_documents/2448.\n",
      "../maildir/jones-t/all_documents/2759.\n",
      "../maildir/jones-t/all_documents/2798.\n",
      "../maildir/jones-t/all_documents/2827.\n",
      "../maildir/jones-t/all_documents/2847.\n",
      "../maildir/jones-t/all_documents/2859.\n",
      "../maildir/jones-t/all_documents/2910.\n",
      "../maildir/jones-t/all_documents/2983.\n",
      "../maildir/jones-t/all_documents/3028.\n",
      "../maildir/jones-t/all_documents/3058.\n",
      "../maildir/jones-t/all_documents/3081.\n",
      "../maildir/jones-t/all_documents/3101.\n",
      "../maildir/jones-t/all_documents/3321.\n",
      "../maildir/jones-t/all_documents/3333.\n",
      "../maildir/jones-t/all_documents/3362.\n",
      "../maildir/jones-t/all_documents/3642.\n",
      "../maildir/jones-t/all_documents/3794.\n",
      "../maildir/jones-t/all_documents/3816.\n",
      "../maildir/jones-t/all_documents/3829.\n",
      "../maildir/jones-t/all_documents/3840.\n",
      "../maildir/jones-t/all_documents/3841.\n",
      "../maildir/jones-t/all_documents/3857.\n",
      "../maildir/jones-t/all_documents/3858.\n",
      "../maildir/jones-t/all_documents/3873.\n",
      "../maildir/jones-t/all_documents/3921.\n",
      "../maildir/jones-t/all_documents/3961.\n",
      "../maildir/jones-t/all_documents/3973.\n",
      "../maildir/jones-t/all_documents/3993.\n",
      "../maildir/jones-t/all_documents/3997.\n",
      "../maildir/jones-t/all_documents/4046.\n",
      "../maildir/jones-t/all_documents/4056.\n",
      "../maildir/jones-t/all_documents/4136.\n",
      "../maildir/jones-t/all_documents/4161.\n",
      "../maildir/jones-t/all_documents/4212.\n",
      "../maildir/jones-t/all_documents/4244.\n",
      "../maildir/jones-t/all_documents/4249.\n",
      "../maildir/jones-t/all_documents/4251.\n",
      "../maildir/jones-t/all_documents/4255.\n",
      "../maildir/jones-t/all_documents/4496.\n",
      "../maildir/jones-t/all_documents/4650.\n",
      "../maildir/jones-t/all_documents/4654.\n",
      "../maildir/jones-t/all_documents/4710.\n",
      "../maildir/jones-t/all_documents/4741.\n",
      "../maildir/jones-t/all_documents/4743.\n",
      "../maildir/jones-t/all_documents/4757.\n",
      "../maildir/jones-t/all_documents/4819.\n",
      "../maildir/jones-t/all_documents/4895.\n",
      "../maildir/jones-t/all_documents/4938.\n",
      "../maildir/jones-t/all_documents/4968.\n",
      "../maildir/jones-t/all_documents/5035.\n",
      "../maildir/jones-t/all_documents/5055.\n",
      "../maildir/jones-t/all_documents/5063.\n",
      "../maildir/jones-t/all_documents/5419.\n",
      "../maildir/jones-t/all_documents/5519.\n",
      "../maildir/jones-t/all_documents/5523.\n",
      "../maildir/jones-t/all_documents/5555.\n",
      "../maildir/jones-t/all_documents/5575.\n",
      "../maildir/jones-t/all_documents/5588.\n",
      "../maildir/jones-t/all_documents/5589.\n",
      "../maildir/jones-t/all_documents/5646.\n",
      "../maildir/jones-t/all_documents/5654.\n",
      "../maildir/jones-t/all_documents/5691.\n",
      "../maildir/jones-t/all_documents/5693.\n",
      "../maildir/jones-t/all_documents/5751.\n",
      "../maildir/jones-t/all_documents/5859.\n",
      "../maildir/jones-t/all_documents/5884.\n",
      "../maildir/jones-t/all_documents/5928.\n",
      "../maildir/jones-t/all_documents/5936.\n",
      "../maildir/jones-t/all_documents/5948.\n",
      "../maildir/jones-t/all_documents/9401.\n",
      "../maildir/jones-t/all_documents/9408.\n",
      "../maildir/jones-t/all_documents/9430.\n",
      "../maildir/jones-t/all_documents/9550.\n",
      "../maildir/jones-t/all_documents/9627.\n",
      "../maildir/jones-t/all_documents/9808.\n",
      "../maildir/jones-t/deleted_items/45.\n",
      "../maildir/jones-t/inbox/742.\n",
      "Emails Processed\n"
     ]
    },
    {
     "ename": "TypeError",
     "evalue": "write() argument must be str, not bytes",
     "output_type": "error",
     "traceback": [
      "\u001b[0;31m---------------------------------------------------------------------------\u001b[0m",
      "\u001b[0;31mTypeError\u001b[0m                                 Traceback (most recent call last)",
      "Input \u001b[0;32mIn [7]\u001b[0m, in \u001b[0;36m<cell line: 73>\u001b[0;34m()\u001b[0m\n\u001b[1;32m     70\u001b[0m from_sara\u001b[38;5;241m.\u001b[39mclose()\n\u001b[1;32m     71\u001b[0m from_chris\u001b[38;5;241m.\u001b[39mclose()\n\u001b[0;32m---> 73\u001b[0m \u001b[43mjoblib\u001b[49m\u001b[38;5;241;43m.\u001b[39;49m\u001b[43mdump\u001b[49m\u001b[43m(\u001b[49m\u001b[43m \u001b[49m\u001b[43mword_data\u001b[49m\u001b[43m,\u001b[49m\u001b[43m \u001b[49m\u001b[38;5;28;43mopen\u001b[39;49m\u001b[43m(\u001b[49m\u001b[38;5;124;43m\"\u001b[39;49m\u001b[38;5;124;43myour_word_data.pkl\u001b[39;49m\u001b[38;5;124;43m\"\u001b[39;49m\u001b[43m,\u001b[49m\u001b[43m \u001b[49m\u001b[38;5;124;43m\"\u001b[39;49m\u001b[38;5;124;43mw\u001b[39;49m\u001b[38;5;124;43m\"\u001b[39;49m\u001b[43m)\u001b[49m\u001b[43m \u001b[49m\u001b[43m)\u001b[49m\n\u001b[1;32m     74\u001b[0m joblib\u001b[38;5;241m.\u001b[39mdump( from_data, \u001b[38;5;28mopen\u001b[39m(\u001b[38;5;124m\"\u001b[39m\u001b[38;5;124myour_email_authors.pkl\u001b[39m\u001b[38;5;124m\"\u001b[39m, \u001b[38;5;124m\"\u001b[39m\u001b[38;5;124mw\u001b[39m\u001b[38;5;124m\"\u001b[39m) )\n\u001b[1;32m     75\u001b[0m \u001b[38;5;28mprint\u001b[39m(\u001b[38;5;124m'\u001b[39m\u001b[38;5;124mDone\u001b[39m\u001b[38;5;124m'\u001b[39m)\n",
      "File \u001b[0;32m~/anaconda3/lib/python3.9/site-packages/joblib/numpy_pickle.py:484\u001b[0m, in \u001b[0;36mdump\u001b[0;34m(value, filename, compress, protocol, cache_size)\u001b[0m\n\u001b[1;32m    482\u001b[0m         NumpyPickler(f, protocol\u001b[38;5;241m=\u001b[39mprotocol)\u001b[38;5;241m.\u001b[39mdump(value)\n\u001b[1;32m    483\u001b[0m \u001b[38;5;28;01melse\u001b[39;00m:\n\u001b[0;32m--> 484\u001b[0m     \u001b[43mNumpyPickler\u001b[49m\u001b[43m(\u001b[49m\u001b[43mfilename\u001b[49m\u001b[43m,\u001b[49m\u001b[43m \u001b[49m\u001b[43mprotocol\u001b[49m\u001b[38;5;241;43m=\u001b[39;49m\u001b[43mprotocol\u001b[49m\u001b[43m)\u001b[49m\u001b[38;5;241;43m.\u001b[39;49m\u001b[43mdump\u001b[49m\u001b[43m(\u001b[49m\u001b[43mvalue\u001b[49m\u001b[43m)\u001b[49m\n\u001b[1;32m    486\u001b[0m \u001b[38;5;66;03m# If the target container is a file object, nothing is returned.\u001b[39;00m\n\u001b[1;32m    487\u001b[0m \u001b[38;5;28;01mif\u001b[39;00m is_fileobj:\n",
      "File \u001b[0;32m~/anaconda3/lib/python3.9/pickle.py:484\u001b[0m, in \u001b[0;36m_Pickler.dump\u001b[0;34m(self, obj)\u001b[0m\n\u001b[1;32m    481\u001b[0m     \u001b[38;5;28;01mraise\u001b[39;00m PicklingError(\u001b[38;5;124m\"\u001b[39m\u001b[38;5;124mPickler.__init__() was not called by \u001b[39m\u001b[38;5;124m\"\u001b[39m\n\u001b[1;32m    482\u001b[0m                         \u001b[38;5;124m\"\u001b[39m\u001b[38;5;132;01m%s\u001b[39;00m\u001b[38;5;124m.__init__()\u001b[39m\u001b[38;5;124m\"\u001b[39m \u001b[38;5;241m%\u001b[39m (\u001b[38;5;28mself\u001b[39m\u001b[38;5;241m.\u001b[39m\u001b[38;5;18m__class__\u001b[39m\u001b[38;5;241m.\u001b[39m\u001b[38;5;18m__name__\u001b[39m,))\n\u001b[1;32m    483\u001b[0m \u001b[38;5;28;01mif\u001b[39;00m \u001b[38;5;28mself\u001b[39m\u001b[38;5;241m.\u001b[39mproto \u001b[38;5;241m>\u001b[39m\u001b[38;5;241m=\u001b[39m \u001b[38;5;241m2\u001b[39m:\n\u001b[0;32m--> 484\u001b[0m     \u001b[38;5;28;43mself\u001b[39;49m\u001b[38;5;241;43m.\u001b[39;49m\u001b[43mwrite\u001b[49m\u001b[43m(\u001b[49m\u001b[43mPROTO\u001b[49m\u001b[43m \u001b[49m\u001b[38;5;241;43m+\u001b[39;49m\u001b[43m \u001b[49m\u001b[43mpack\u001b[49m\u001b[43m(\u001b[49m\u001b[38;5;124;43m\"\u001b[39;49m\u001b[38;5;124;43m<B\u001b[39;49m\u001b[38;5;124;43m\"\u001b[39;49m\u001b[43m,\u001b[49m\u001b[43m \u001b[49m\u001b[38;5;28;43mself\u001b[39;49m\u001b[38;5;241;43m.\u001b[39;49m\u001b[43mproto\u001b[49m\u001b[43m)\u001b[49m\u001b[43m)\u001b[49m\n\u001b[1;32m    485\u001b[0m \u001b[38;5;28;01mif\u001b[39;00m \u001b[38;5;28mself\u001b[39m\u001b[38;5;241m.\u001b[39mproto \u001b[38;5;241m>\u001b[39m\u001b[38;5;241m=\u001b[39m \u001b[38;5;241m4\u001b[39m:\n\u001b[1;32m    486\u001b[0m     \u001b[38;5;28mself\u001b[39m\u001b[38;5;241m.\u001b[39mframer\u001b[38;5;241m.\u001b[39mstart_framing()\n",
      "File \u001b[0;32m~/anaconda3/lib/python3.9/pickle.py:245\u001b[0m, in \u001b[0;36m_Framer.write\u001b[0;34m(self, data)\u001b[0m\n\u001b[1;32m    243\u001b[0m     \u001b[38;5;28;01mreturn\u001b[39;00m \u001b[38;5;28mself\u001b[39m\u001b[38;5;241m.\u001b[39mcurrent_frame\u001b[38;5;241m.\u001b[39mwrite(data)\n\u001b[1;32m    244\u001b[0m \u001b[38;5;28;01melse\u001b[39;00m:\n\u001b[0;32m--> 245\u001b[0m     \u001b[38;5;28;01mreturn\u001b[39;00m \u001b[38;5;28;43mself\u001b[39;49m\u001b[38;5;241;43m.\u001b[39;49m\u001b[43mfile_write\u001b[49m\u001b[43m(\u001b[49m\u001b[43mdata\u001b[49m\u001b[43m)\u001b[49m\n",
      "\u001b[0;31mTypeError\u001b[0m: write() argument must be str, not bytes"
     ]
    }
   ],
   "source": [
    "#vectorize_text.py\n",
    "\n",
    "#!/usr/bin/python3\n",
    "\n",
    "import os\n",
    "import joblib\n",
    "import pickle\n",
    "import re\n",
    "import sys\n",
    "import os\n",
    "\n",
    "sys.path.append(os.path.abspath(\"/home/adebisi/UDACITY PROJECTS/ud120-projects-master/tools/\"))\n",
    "#from parse_out_email_text import parseOutText\n",
    "\n",
    "\"\"\"\n",
    "    Starter code to process the emails from Sara and Chris to extract\n",
    "    the features and get the documents ready for classification.\n",
    "\n",
    "    The list of all the emails from Sara are in the from_sara list\n",
    "    likewise for emails from Chris (from_chris)\n",
    "\n",
    "    The actual documents are in the Enron email dataset, which\n",
    "    you downloaded/unpacked in Part 0 of the first mini-project. If you have\n",
    "    not obtained the Enron email corpus, run startup.py in the tools folder.\n",
    "\n",
    "    The data is stored in lists and packed away in pickle files at the end.\n",
    "\"\"\"\n",
    "\n",
    "\n",
    "from_sara  = open(\"/home/adebisi/UDACITY PROJECTS/ud120-projects-master/text_learning/from_sara.txt\", \"r\")\n",
    "from_chris = open(\"/home/adebisi/UDACITY PROJECTS/ud120-projects-master/text_learning/from_chris.txt\", \"r\")\n",
    "\n",
    "from_data = []\n",
    "word_data = []\n",
    "\n",
    "### temp_counter is a way to speed up the development--there are\n",
    "### thousands of emails from Sara and Chris, so running over all of them\n",
    "### can take a long time\n",
    "### temp_counter helps you only look at the first 200 emails in the list so you\n",
    "### can iterate your modifications quicker\n",
    "temp_counter = 0\n",
    "\n",
    "\n",
    "for name, from_person in [(\"sara\", from_sara), (\"chris\", from_chris)]:\n",
    "    for path in from_person:\n",
    "        ### only look at first 200 emails when developing\n",
    "        ### once everything is working, remove this line to run over full dataset\n",
    "        temp_counter += 1\n",
    "        if temp_counter < 200:\n",
    "\t        path = os.path.join('..', path[:-1])\n",
    "\t        print(path)\n",
    "\t        #email = open(path, \"r\")\n",
    "\n",
    "\t        ### use parseOutText to extract the text from the opened email\n",
    "\n",
    "\n",
    "\t        ### use str.replace() to remove any instances of the words\n",
    "\t        ### [\"sara\", \"shackleton\", \"chris\", \"germani\"]\n",
    "\n",
    "\n",
    "\t        ### append the text to word_data\n",
    "\n",
    "\n",
    "\t        ### append a 0 to from_data if email is from Sara, and 1 if email is from Chris\n",
    "\n",
    "\n",
    "\t        #email.close()\n",
    "\n",
    "print(\"Emails Processed\")\n",
    "from_sara.close()\n",
    "from_chris.close()\n",
    "\n",
    "joblib.dump( word_data, open(\"your_word_data.pkl\", \"w\") )\n",
    "joblib.dump( from_data, open(\"your_email_authors.pkl\", \"w\") )\n",
    "print('Done')\n",
    "\n",
    "### in Part 4, do TfIdf vectorization here\n"
   ]
  },
  {
   "cell_type": "code",
   "execution_count": 59,
   "id": "fbcfd6a8",
   "metadata": {},
   "outputs": [
    {
     "data": {
      "text/plain": [
       "0"
      ]
     },
     "execution_count": 59,
     "metadata": {},
     "output_type": "execute_result"
    }
   ],
   "source": [
    "len(word_data)"
   ]
  },
  {
   "cell_type": "code",
   "execution_count": 60,
   "id": "c85cfa83",
   "metadata": {},
   "outputs": [
    {
     "data": {
      "text/plain": [
       "\"Transform the word_data into a tf-idf matrix using the sklearn TfIdf transformation. Remove english stopwords.\\n\\nYou can access the mapping between words and feature numbers using get_feature_names(), which returns a list of all the words in the vocabulary. How many different words are there?\\nGo to Quiz\\n\\nBe sure to use the tf-idf Vectorizer class to transform the word data.\\n\\nDon't forget to remove english stop words when you set up the vectorizer, using sklearn's stop word list (not NLTK).\\n\""
      ]
     },
     "execution_count": 60,
     "metadata": {},
     "output_type": "execute_result"
    }
   ],
   "source": [
    "'''Transform the word_data into a tf-idf matrix using the sklearn TfIdf transformation. Remove english stopwords.\n",
    "\n",
    "You can access the mapping between words and feature numbers using get_feature_names(), which returns a list of all the words in the vocabulary. How many different words are there?\n",
    "Go to Quiz\n",
    "\n",
    "Be sure to use the tf-idf Vectorizer class to transform the word data.\n",
    "\n",
    "Don't forget to remove english stop words when you set up the vectorizer, using sklearn's stop word list (not NLTK).\n",
    "'''"
   ]
  },
  {
   "cell_type": "code",
   "execution_count": 62,
   "id": "bb3b48e9",
   "metadata": {},
   "outputs": [
    {
     "ename": "ImportError",
     "evalue": "cannot import name 'stop_words' from 'sklearn.feature_extraction' (/home/adebisi/anaconda3/lib/python3.9/site-packages/sklearn/feature_extraction/__init__.py)",
     "output_type": "error",
     "traceback": [
      "\u001b[0;31m---------------------------------------------------------------------------\u001b[0m",
      "\u001b[0;31mImportError\u001b[0m                               Traceback (most recent call last)",
      "Input \u001b[0;32mIn [62]\u001b[0m, in \u001b[0;36m<cell line: 1>\u001b[0;34m()\u001b[0m\n\u001b[0;32m----> 1\u001b[0m \u001b[38;5;28;01mfrom\u001b[39;00m \u001b[38;5;21;01msklearn\u001b[39;00m\u001b[38;5;21;01m.\u001b[39;00m\u001b[38;5;21;01mfeature_extraction\u001b[39;00m \u001b[38;5;28;01mimport\u001b[39;00m stop_words\n\u001b[1;32m      3\u001b[0m \u001b[38;5;28mprint\u001b[39m(\u001b[38;5;28mlen\u001b[39m(stop_words\u001b[38;5;241m.\u001b[39mENGLISH_STOP_WORDS))\n\u001b[1;32m      5\u001b[0m \u001b[38;5;66;03m# can't directly access a word in a set\u001b[39;00m\n\u001b[1;32m      6\u001b[0m \u001b[38;5;66;03m# stop_words.ENGLISH_STOP_WORDS[3] will not work, remembers sets do not have order, so no index\u001b[39;00m\n\u001b[1;32m      7\u001b[0m \n\u001b[1;32m      8\u001b[0m \u001b[38;5;66;03m# any 10 arbitrary items\u001b[39;00m\n",
      "\u001b[0;31mImportError\u001b[0m: cannot import name 'stop_words' from 'sklearn.feature_extraction' (/home/adebisi/anaconda3/lib/python3.9/site-packages/sklearn/feature_extraction/__init__.py)"
     ]
    }
   ],
   "source": [
    "from sklearn.feature_extraction import stop_words\n",
    "\n",
    "print(len(stop_words.ENGLISH_STOP_WORDS))\n",
    "\n",
    "# can't directly access a word in a set\n",
    "# stop_words.ENGLISH_STOP_WORDS[3] will not work, remembers sets do not have order, so no index\n",
    "\n",
    "# any 10 arbitrary items\n",
    "s = stop_words.ENGLISH_STOP_WORDS\n",
    "import random\n",
    "[random.sample(s, 1)[0] for _ in range(10)]  # returns random 10 elements every time its run\n"
   ]
  },
  {
   "cell_type": "code",
   "execution_count": 64,
   "id": "85a42c93",
   "metadata": {},
   "outputs": [
    {
     "ename": "ValueError",
     "evalue": "empty vocabulary; perhaps the documents only contain stop words",
     "output_type": "error",
     "traceback": [
      "\u001b[0;31m---------------------------------------------------------------------------\u001b[0m",
      "\u001b[0;31mValueError\u001b[0m                                Traceback (most recent call last)",
      "Input \u001b[0;32mIn [64]\u001b[0m, in \u001b[0;36m<cell line: 5>\u001b[0;34m()\u001b[0m\n\u001b[1;32m      2\u001b[0m \u001b[38;5;28;01mfrom\u001b[39;00m \u001b[38;5;21;01msklearn\u001b[39;00m\u001b[38;5;21;01m.\u001b[39;00m\u001b[38;5;21;01mfeature_extraction\u001b[39;00m\u001b[38;5;21;01m.\u001b[39;00m\u001b[38;5;21;01mtext\u001b[39;00m \u001b[38;5;28;01mimport\u001b[39;00m TfidfVectorizer\n\u001b[1;32m      3\u001b[0m vectorizer \u001b[38;5;241m=\u001b[39m TfidfVectorizer(stop_words\u001b[38;5;241m=\u001b[39m\u001b[38;5;124m'\u001b[39m\u001b[38;5;124menglish\u001b[39m\u001b[38;5;124m'\u001b[39m) \u001b[38;5;66;03m# using sklearn's stop words\u001b[39;00m\n\u001b[0;32m----> 5\u001b[0m X \u001b[38;5;241m=\u001b[39m \u001b[43mvectorizer\u001b[49m\u001b[38;5;241;43m.\u001b[39;49m\u001b[43mfit_transform\u001b[49m\u001b[43m(\u001b[49m\u001b[43mword_data\u001b[49m\u001b[43m)\u001b[49m\n\u001b[1;32m      6\u001b[0m \u001b[38;5;28mprint\u001b[39m(\u001b[38;5;28mlen\u001b[39m(vectorizer\u001b[38;5;241m.\u001b[39mget_feature_names()))\n",
      "File \u001b[0;32m~/anaconda3/lib/python3.9/site-packages/sklearn/feature_extraction/text.py:2077\u001b[0m, in \u001b[0;36mTfidfVectorizer.fit_transform\u001b[0;34m(self, raw_documents, y)\u001b[0m\n\u001b[1;32m   2058\u001b[0m \u001b[38;5;124;03m\"\"\"Learn vocabulary and idf, return document-term matrix.\u001b[39;00m\n\u001b[1;32m   2059\u001b[0m \n\u001b[1;32m   2060\u001b[0m \u001b[38;5;124;03mThis is equivalent to fit followed by transform, but more efficiently\u001b[39;00m\n\u001b[0;32m   (...)\u001b[0m\n\u001b[1;32m   2074\u001b[0m \u001b[38;5;124;03m    Tf-idf-weighted document-term matrix.\u001b[39;00m\n\u001b[1;32m   2075\u001b[0m \u001b[38;5;124;03m\"\"\"\u001b[39;00m\n\u001b[1;32m   2076\u001b[0m \u001b[38;5;28mself\u001b[39m\u001b[38;5;241m.\u001b[39m_check_params()\n\u001b[0;32m-> 2077\u001b[0m X \u001b[38;5;241m=\u001b[39m \u001b[38;5;28;43msuper\u001b[39;49m\u001b[43m(\u001b[49m\u001b[43m)\u001b[49m\u001b[38;5;241;43m.\u001b[39;49m\u001b[43mfit_transform\u001b[49m\u001b[43m(\u001b[49m\u001b[43mraw_documents\u001b[49m\u001b[43m)\u001b[49m\n\u001b[1;32m   2078\u001b[0m \u001b[38;5;28mself\u001b[39m\u001b[38;5;241m.\u001b[39m_tfidf\u001b[38;5;241m.\u001b[39mfit(X)\n\u001b[1;32m   2079\u001b[0m \u001b[38;5;66;03m# X is already a transformed view of raw_documents so\u001b[39;00m\n\u001b[1;32m   2080\u001b[0m \u001b[38;5;66;03m# we set copy to False\u001b[39;00m\n",
      "File \u001b[0;32m~/anaconda3/lib/python3.9/site-packages/sklearn/feature_extraction/text.py:1330\u001b[0m, in \u001b[0;36mCountVectorizer.fit_transform\u001b[0;34m(self, raw_documents, y)\u001b[0m\n\u001b[1;32m   1322\u001b[0m             warnings\u001b[38;5;241m.\u001b[39mwarn(\n\u001b[1;32m   1323\u001b[0m                 \u001b[38;5;124m\"\u001b[39m\u001b[38;5;124mUpper case characters found in\u001b[39m\u001b[38;5;124m\"\u001b[39m\n\u001b[1;32m   1324\u001b[0m                 \u001b[38;5;124m\"\u001b[39m\u001b[38;5;124m vocabulary while \u001b[39m\u001b[38;5;124m'\u001b[39m\u001b[38;5;124mlowercase\u001b[39m\u001b[38;5;124m'\u001b[39m\u001b[38;5;124m\"\u001b[39m\n\u001b[1;32m   1325\u001b[0m                 \u001b[38;5;124m\"\u001b[39m\u001b[38;5;124m is True. These entries will not\u001b[39m\u001b[38;5;124m\"\u001b[39m\n\u001b[1;32m   1326\u001b[0m                 \u001b[38;5;124m\"\u001b[39m\u001b[38;5;124m be matched with any documents\u001b[39m\u001b[38;5;124m\"\u001b[39m\n\u001b[1;32m   1327\u001b[0m             )\n\u001b[1;32m   1328\u001b[0m             \u001b[38;5;28;01mbreak\u001b[39;00m\n\u001b[0;32m-> 1330\u001b[0m vocabulary, X \u001b[38;5;241m=\u001b[39m \u001b[38;5;28;43mself\u001b[39;49m\u001b[38;5;241;43m.\u001b[39;49m\u001b[43m_count_vocab\u001b[49m\u001b[43m(\u001b[49m\u001b[43mraw_documents\u001b[49m\u001b[43m,\u001b[49m\u001b[43m \u001b[49m\u001b[38;5;28;43mself\u001b[39;49m\u001b[38;5;241;43m.\u001b[39;49m\u001b[43mfixed_vocabulary_\u001b[49m\u001b[43m)\u001b[49m\n\u001b[1;32m   1332\u001b[0m \u001b[38;5;28;01mif\u001b[39;00m \u001b[38;5;28mself\u001b[39m\u001b[38;5;241m.\u001b[39mbinary:\n\u001b[1;32m   1333\u001b[0m     X\u001b[38;5;241m.\u001b[39mdata\u001b[38;5;241m.\u001b[39mfill(\u001b[38;5;241m1\u001b[39m)\n",
      "File \u001b[0;32m~/anaconda3/lib/python3.9/site-packages/sklearn/feature_extraction/text.py:1220\u001b[0m, in \u001b[0;36mCountVectorizer._count_vocab\u001b[0;34m(self, raw_documents, fixed_vocab)\u001b[0m\n\u001b[1;32m   1218\u001b[0m     vocabulary \u001b[38;5;241m=\u001b[39m \u001b[38;5;28mdict\u001b[39m(vocabulary)\n\u001b[1;32m   1219\u001b[0m     \u001b[38;5;28;01mif\u001b[39;00m \u001b[38;5;129;01mnot\u001b[39;00m vocabulary:\n\u001b[0;32m-> 1220\u001b[0m         \u001b[38;5;28;01mraise\u001b[39;00m \u001b[38;5;167;01mValueError\u001b[39;00m(\n\u001b[1;32m   1221\u001b[0m             \u001b[38;5;124m\"\u001b[39m\u001b[38;5;124mempty vocabulary; perhaps the documents only contain stop words\u001b[39m\u001b[38;5;124m\"\u001b[39m\n\u001b[1;32m   1222\u001b[0m         )\n\u001b[1;32m   1224\u001b[0m \u001b[38;5;28;01mif\u001b[39;00m indptr[\u001b[38;5;241m-\u001b[39m\u001b[38;5;241m1\u001b[39m] \u001b[38;5;241m>\u001b[39m np\u001b[38;5;241m.\u001b[39miinfo(np\u001b[38;5;241m.\u001b[39mint32)\u001b[38;5;241m.\u001b[39mmax:  \u001b[38;5;66;03m# = 2**31 - 1\u001b[39;00m\n\u001b[1;32m   1225\u001b[0m     \u001b[38;5;28;01mif\u001b[39;00m _IS_32BIT:\n",
      "\u001b[0;31mValueError\u001b[0m: empty vocabulary; perhaps the documents only contain stop words"
     ]
    }
   ],
   "source": [
    "#HOw many different words are there?\n",
    "from sklearn.feature_extraction.text import TfidfVectorizer\n",
    "vectorizer = TfidfVectorizer(stop_words='english') # using sklearn's stop words\n",
    "\n",
    "X = vectorizer.fit_transform(word_data)\n",
    "print(len(vectorizer.get_feature_names()))\n"
   ]
  },
  {
   "cell_type": "code",
   "execution_count": 1,
   "id": "c0151db5",
   "metadata": {},
   "outputs": [
    {
     "data": {
      "text/plain": [
       "\"Transform the word_data into a tf-idf matrix using the sklearn TfIdf transformation. Remove english stopwords.\\n\\nYou can access the mapping between words and feature numbers using get_feature_names(), which returns a list of all the words in the vocabulary. How many different words are there?\\nGo to Quiz\\n\\nBe sure to use the tf-idf Vectorizer class to transform the word data.\\n\\nDon't forget to remove english stop words when you set up the vectorizer, using sklearn's stop word list (not NLTK).\\n\""
      ]
     },
     "execution_count": 1,
     "metadata": {},
     "output_type": "execute_result"
    }
   ],
   "source": [
    "'''Transform the word_data into a tf-idf matrix using the sklearn TfIdf transformation. Remove english stopwords.\n",
    "\n",
    "You can access the mapping between words and feature numbers using get_feature_names(), which returns a list of all the words in the vocabulary. How many different words are there?\n",
    "Go to Quiz\n",
    "\n",
    "Be sure to use the tf-idf Vectorizer class to transform the word data.\n",
    "\n",
    "Don't forget to remove english stop words when you set up the vectorizer, using sklearn's stop word list (not NLTK).\n",
    "'''"
   ]
  },
  {
   "cell_type": "code",
   "execution_count": 3,
   "id": "48376f5c",
   "metadata": {},
   "outputs": [
    {
     "ename": "ImportError",
     "evalue": "cannot import name 'stop_words' from 'sklearn.feature_extraction' (/home/adebisi/anaconda3/lib/python3.9/site-packages/sklearn/feature_extraction/__init__.py)",
     "output_type": "error",
     "traceback": [
      "\u001b[0;31m---------------------------------------------------------------------------\u001b[0m",
      "\u001b[0;31mImportError\u001b[0m                               Traceback (most recent call last)",
      "Input \u001b[0;32mIn [3]\u001b[0m, in \u001b[0;36m<cell line: 1>\u001b[0;34m()\u001b[0m\n\u001b[0;32m----> 1\u001b[0m \u001b[38;5;28;01mfrom\u001b[39;00m \u001b[38;5;21;01msklearn\u001b[39;00m\u001b[38;5;21;01m.\u001b[39;00m\u001b[38;5;21;01mfeature_extraction\u001b[39;00m \u001b[38;5;28;01mimport\u001b[39;00m stop_words\n\u001b[1;32m      3\u001b[0m \u001b[38;5;28mprint\u001b[39m(\u001b[38;5;28mlen\u001b[39m(stop_words\u001b[38;5;241m.\u001b[39mENGLISH_STOP_WORDS))\n\u001b[1;32m      5\u001b[0m \u001b[38;5;66;03m# can't directly access a word in a set\u001b[39;00m\n\u001b[1;32m      6\u001b[0m \u001b[38;5;66;03m# stop_words.ENGLISH_STOP_WORDS[3] will not work, remembers sets do not have order, so no index\u001b[39;00m\n\u001b[1;32m      7\u001b[0m \n\u001b[1;32m      8\u001b[0m \u001b[38;5;66;03m# any 10 arbitrary items\u001b[39;00m\n",
      "\u001b[0;31mImportError\u001b[0m: cannot import name 'stop_words' from 'sklearn.feature_extraction' (/home/adebisi/anaconda3/lib/python3.9/site-packages/sklearn/feature_extraction/__init__.py)"
     ]
    }
   ],
   "source": [
    "from sklearn.feature_extraction import stop_words\n",
    "\n",
    "print(len(stop_words.ENGLISH_STOP_WORDS))\n",
    "\n",
    "# can't directly access a word in a set\n",
    "# stop_words.ENGLISH_STOP_WORDS[3] will not work, remembers sets do not have order, so no index\n",
    "\n",
    "# any 10 arbitrary items\n",
    "s = stop_words.ENGLISH_STOP_WORDS\n",
    "import random\n",
    "[random.sample(s, 1)[0] for _ in range(10)]  # returns random 10 elements every time its run\n"
   ]
  },
  {
   "cell_type": "code",
   "execution_count": 4,
   "id": "ee5f507f",
   "metadata": {},
   "outputs": [
    {
     "data": {
      "text/plain": [
       "'What is word number 34597 in your TfIdf?\\n\\n(Just to be clear--if the question were \"what is word number 100,\" we would be looking for the word corresponding to vocab_list[100]. Zero-indexed arrays are so confusing to talk about sometimes.)\\n'"
      ]
     },
     "execution_count": 4,
     "metadata": {},
     "output_type": "execute_result"
    }
   ],
   "source": [
    "'''What is word number 34597 in your TfIdf?\n",
    "\n",
    "(Just to be clear--if the question were \"what is word number 100,\" we would be looking for the word corresponding to vocab_list[100]. Zero-indexed arrays are so confusing to talk about sometimes.)\n",
    "'''"
   ]
  },
  {
   "cell_type": "code",
   "execution_count": 8,
   "id": "e4ac7c60",
   "metadata": {},
   "outputs": [
    {
     "ename": "ValueError",
     "evalue": "empty vocabulary; perhaps the documents only contain stop words",
     "output_type": "error",
     "traceback": [
      "\u001b[0;31m---------------------------------------------------------------------------\u001b[0m",
      "\u001b[0;31mValueError\u001b[0m                                Traceback (most recent call last)",
      "Input \u001b[0;32mIn [8]\u001b[0m, in \u001b[0;36m<cell line: 4>\u001b[0;34m()\u001b[0m\n\u001b[1;32m      1\u001b[0m \u001b[38;5;28;01mfrom\u001b[39;00m \u001b[38;5;21;01msklearn\u001b[39;00m\u001b[38;5;21;01m.\u001b[39;00m\u001b[38;5;21;01mfeature_extraction\u001b[39;00m\u001b[38;5;21;01m.\u001b[39;00m\u001b[38;5;21;01mtext\u001b[39;00m \u001b[38;5;28;01mimport\u001b[39;00m TfidfVectorizer\n\u001b[1;32m      2\u001b[0m vectorizer \u001b[38;5;241m=\u001b[39m TfidfVectorizer(stop_words\u001b[38;5;241m=\u001b[39m\u001b[38;5;124m'\u001b[39m\u001b[38;5;124menglish\u001b[39m\u001b[38;5;124m'\u001b[39m) \u001b[38;5;66;03m# using sklearn's stop words\u001b[39;00m\n\u001b[0;32m----> 4\u001b[0m X \u001b[38;5;241m=\u001b[39m \u001b[43mvectorizer\u001b[49m\u001b[38;5;241;43m.\u001b[39;49m\u001b[43mfit_transform\u001b[49m\u001b[43m(\u001b[49m\u001b[43mword_data\u001b[49m\u001b[43m)\u001b[49m\n\u001b[1;32m      5\u001b[0m \u001b[38;5;28mprint\u001b[39m(\u001b[38;5;28mlen\u001b[39m(vectorizer\u001b[38;5;241m.\u001b[39mget_feature_names()))\n",
      "File \u001b[0;32m~/anaconda3/lib/python3.9/site-packages/sklearn/feature_extraction/text.py:2077\u001b[0m, in \u001b[0;36mTfidfVectorizer.fit_transform\u001b[0;34m(self, raw_documents, y)\u001b[0m\n\u001b[1;32m   2058\u001b[0m \u001b[38;5;124;03m\"\"\"Learn vocabulary and idf, return document-term matrix.\u001b[39;00m\n\u001b[1;32m   2059\u001b[0m \n\u001b[1;32m   2060\u001b[0m \u001b[38;5;124;03mThis is equivalent to fit followed by transform, but more efficiently\u001b[39;00m\n\u001b[0;32m   (...)\u001b[0m\n\u001b[1;32m   2074\u001b[0m \u001b[38;5;124;03m    Tf-idf-weighted document-term matrix.\u001b[39;00m\n\u001b[1;32m   2075\u001b[0m \u001b[38;5;124;03m\"\"\"\u001b[39;00m\n\u001b[1;32m   2076\u001b[0m \u001b[38;5;28mself\u001b[39m\u001b[38;5;241m.\u001b[39m_check_params()\n\u001b[0;32m-> 2077\u001b[0m X \u001b[38;5;241m=\u001b[39m \u001b[38;5;28;43msuper\u001b[39;49m\u001b[43m(\u001b[49m\u001b[43m)\u001b[49m\u001b[38;5;241;43m.\u001b[39;49m\u001b[43mfit_transform\u001b[49m\u001b[43m(\u001b[49m\u001b[43mraw_documents\u001b[49m\u001b[43m)\u001b[49m\n\u001b[1;32m   2078\u001b[0m \u001b[38;5;28mself\u001b[39m\u001b[38;5;241m.\u001b[39m_tfidf\u001b[38;5;241m.\u001b[39mfit(X)\n\u001b[1;32m   2079\u001b[0m \u001b[38;5;66;03m# X is already a transformed view of raw_documents so\u001b[39;00m\n\u001b[1;32m   2080\u001b[0m \u001b[38;5;66;03m# we set copy to False\u001b[39;00m\n",
      "File \u001b[0;32m~/anaconda3/lib/python3.9/site-packages/sklearn/feature_extraction/text.py:1330\u001b[0m, in \u001b[0;36mCountVectorizer.fit_transform\u001b[0;34m(self, raw_documents, y)\u001b[0m\n\u001b[1;32m   1322\u001b[0m             warnings\u001b[38;5;241m.\u001b[39mwarn(\n\u001b[1;32m   1323\u001b[0m                 \u001b[38;5;124m\"\u001b[39m\u001b[38;5;124mUpper case characters found in\u001b[39m\u001b[38;5;124m\"\u001b[39m\n\u001b[1;32m   1324\u001b[0m                 \u001b[38;5;124m\"\u001b[39m\u001b[38;5;124m vocabulary while \u001b[39m\u001b[38;5;124m'\u001b[39m\u001b[38;5;124mlowercase\u001b[39m\u001b[38;5;124m'\u001b[39m\u001b[38;5;124m\"\u001b[39m\n\u001b[1;32m   1325\u001b[0m                 \u001b[38;5;124m\"\u001b[39m\u001b[38;5;124m is True. These entries will not\u001b[39m\u001b[38;5;124m\"\u001b[39m\n\u001b[1;32m   1326\u001b[0m                 \u001b[38;5;124m\"\u001b[39m\u001b[38;5;124m be matched with any documents\u001b[39m\u001b[38;5;124m\"\u001b[39m\n\u001b[1;32m   1327\u001b[0m             )\n\u001b[1;32m   1328\u001b[0m             \u001b[38;5;28;01mbreak\u001b[39;00m\n\u001b[0;32m-> 1330\u001b[0m vocabulary, X \u001b[38;5;241m=\u001b[39m \u001b[38;5;28;43mself\u001b[39;49m\u001b[38;5;241;43m.\u001b[39;49m\u001b[43m_count_vocab\u001b[49m\u001b[43m(\u001b[49m\u001b[43mraw_documents\u001b[49m\u001b[43m,\u001b[49m\u001b[43m \u001b[49m\u001b[38;5;28;43mself\u001b[39;49m\u001b[38;5;241;43m.\u001b[39;49m\u001b[43mfixed_vocabulary_\u001b[49m\u001b[43m)\u001b[49m\n\u001b[1;32m   1332\u001b[0m \u001b[38;5;28;01mif\u001b[39;00m \u001b[38;5;28mself\u001b[39m\u001b[38;5;241m.\u001b[39mbinary:\n\u001b[1;32m   1333\u001b[0m     X\u001b[38;5;241m.\u001b[39mdata\u001b[38;5;241m.\u001b[39mfill(\u001b[38;5;241m1\u001b[39m)\n",
      "File \u001b[0;32m~/anaconda3/lib/python3.9/site-packages/sklearn/feature_extraction/text.py:1220\u001b[0m, in \u001b[0;36mCountVectorizer._count_vocab\u001b[0;34m(self, raw_documents, fixed_vocab)\u001b[0m\n\u001b[1;32m   1218\u001b[0m     vocabulary \u001b[38;5;241m=\u001b[39m \u001b[38;5;28mdict\u001b[39m(vocabulary)\n\u001b[1;32m   1219\u001b[0m     \u001b[38;5;28;01mif\u001b[39;00m \u001b[38;5;129;01mnot\u001b[39;00m vocabulary:\n\u001b[0;32m-> 1220\u001b[0m         \u001b[38;5;28;01mraise\u001b[39;00m \u001b[38;5;167;01mValueError\u001b[39;00m(\n\u001b[1;32m   1221\u001b[0m             \u001b[38;5;124m\"\u001b[39m\u001b[38;5;124mempty vocabulary; perhaps the documents only contain stop words\u001b[39m\u001b[38;5;124m\"\u001b[39m\n\u001b[1;32m   1222\u001b[0m         )\n\u001b[1;32m   1224\u001b[0m \u001b[38;5;28;01mif\u001b[39;00m indptr[\u001b[38;5;241m-\u001b[39m\u001b[38;5;241m1\u001b[39m] \u001b[38;5;241m>\u001b[39m np\u001b[38;5;241m.\u001b[39miinfo(np\u001b[38;5;241m.\u001b[39mint32)\u001b[38;5;241m.\u001b[39mmax:  \u001b[38;5;66;03m# = 2**31 - 1\u001b[39;00m\n\u001b[1;32m   1225\u001b[0m     \u001b[38;5;28;01mif\u001b[39;00m _IS_32BIT:\n",
      "\u001b[0;31mValueError\u001b[0m: empty vocabulary; perhaps the documents only contain stop words"
     ]
    }
   ],
   "source": [
    "from sklearn.feature_extraction.text import TfidfVectorizer\n",
    "vectorizer = TfidfVectorizer(stop_words='english') # using sklearn's stop words\n",
    "\n",
    "X = vectorizer.fit_transform(word_data)\n",
    "print(len(vectorizer.get_feature_names()))\n"
   ]
  },
  {
   "cell_type": "code",
   "execution_count": null,
   "id": "105e7368",
   "metadata": {},
   "outputs": [],
   "source": []
  },
  {
   "cell_type": "code",
   "execution_count": null,
   "id": "6c99c0b3",
   "metadata": {},
   "outputs": [],
   "source": []
  },
  {
   "cell_type": "code",
   "execution_count": null,
   "id": "a0b9b998",
   "metadata": {},
   "outputs": [],
   "source": []
  },
  {
   "cell_type": "code",
   "execution_count": null,
   "id": "a4f8eae7",
   "metadata": {},
   "outputs": [],
   "source": []
  },
  {
   "cell_type": "code",
   "execution_count": null,
   "id": "184a2f43",
   "metadata": {},
   "outputs": [],
   "source": []
  },
  {
   "cell_type": "code",
   "execution_count": 10,
   "id": "b5e7e55c",
   "metadata": {},
   "outputs": [
    {
     "name": "stderr",
     "output_type": "stream",
     "text": [
      "2022-10-03 16:00:45,228 Downloading LFW metadata: https://ndownloader.figshare.com/files/5976012\n"
     ]
    },
    {
     "name": "stdout",
     "output_type": "stream",
     "text": [
      "\n",
      "===================================================\n",
      "Faces recognition example using eigenfaces and SVMs\n",
      "===================================================\n",
      "\n",
      "The dataset used in this example is a preprocessed excerpt of the\n",
      "\"Labeled Faces in the Wild\", aka LFW_:\n",
      "\n",
      "  http://vis-www.cs.umass.edu/lfw/lfw-funneled.tgz (233MB)\n",
      "\n",
      "  .. _LFW: http://vis-www.cs.umass.edu/lfw/\n",
      "\n",
      "  original source: http://scikit-learn.org/stable/auto_examples/applications/face_recognition.html\n",
      "\n",
      "\n"
     ]
    },
    {
     "ename": "URLError",
     "evalue": "<urlopen error [Errno -3] Temporary failure in name resolution>",
     "output_type": "error",
     "traceback": [
      "\u001b[0;31m---------------------------------------------------------------------------\u001b[0m",
      "\u001b[0;31mgaierror\u001b[0m                                  Traceback (most recent call last)",
      "File \u001b[0;32m~/anaconda3/lib/python3.9/urllib/request.py:1346\u001b[0m, in \u001b[0;36mAbstractHTTPHandler.do_open\u001b[0;34m(self, http_class, req, **http_conn_args)\u001b[0m\n\u001b[1;32m   1345\u001b[0m \u001b[38;5;28;01mtry\u001b[39;00m:\n\u001b[0;32m-> 1346\u001b[0m     \u001b[43mh\u001b[49m\u001b[38;5;241;43m.\u001b[39;49m\u001b[43mrequest\u001b[49m\u001b[43m(\u001b[49m\u001b[43mreq\u001b[49m\u001b[38;5;241;43m.\u001b[39;49m\u001b[43mget_method\u001b[49m\u001b[43m(\u001b[49m\u001b[43m)\u001b[49m\u001b[43m,\u001b[49m\u001b[43m \u001b[49m\u001b[43mreq\u001b[49m\u001b[38;5;241;43m.\u001b[39;49m\u001b[43mselector\u001b[49m\u001b[43m,\u001b[49m\u001b[43m \u001b[49m\u001b[43mreq\u001b[49m\u001b[38;5;241;43m.\u001b[39;49m\u001b[43mdata\u001b[49m\u001b[43m,\u001b[49m\u001b[43m \u001b[49m\u001b[43mheaders\u001b[49m\u001b[43m,\u001b[49m\n\u001b[1;32m   1347\u001b[0m \u001b[43m              \u001b[49m\u001b[43mencode_chunked\u001b[49m\u001b[38;5;241;43m=\u001b[39;49m\u001b[43mreq\u001b[49m\u001b[38;5;241;43m.\u001b[39;49m\u001b[43mhas_header\u001b[49m\u001b[43m(\u001b[49m\u001b[38;5;124;43m'\u001b[39;49m\u001b[38;5;124;43mTransfer-encoding\u001b[39;49m\u001b[38;5;124;43m'\u001b[39;49m\u001b[43m)\u001b[49m\u001b[43m)\u001b[49m\n\u001b[1;32m   1348\u001b[0m \u001b[38;5;28;01mexcept\u001b[39;00m \u001b[38;5;167;01mOSError\u001b[39;00m \u001b[38;5;28;01mas\u001b[39;00m err: \u001b[38;5;66;03m# timeout error\u001b[39;00m\n",
      "File \u001b[0;32m~/anaconda3/lib/python3.9/http/client.py:1285\u001b[0m, in \u001b[0;36mHTTPConnection.request\u001b[0;34m(self, method, url, body, headers, encode_chunked)\u001b[0m\n\u001b[1;32m   1284\u001b[0m \u001b[38;5;124;03m\"\"\"Send a complete request to the server.\"\"\"\u001b[39;00m\n\u001b[0;32m-> 1285\u001b[0m \u001b[38;5;28;43mself\u001b[39;49m\u001b[38;5;241;43m.\u001b[39;49m\u001b[43m_send_request\u001b[49m\u001b[43m(\u001b[49m\u001b[43mmethod\u001b[49m\u001b[43m,\u001b[49m\u001b[43m \u001b[49m\u001b[43murl\u001b[49m\u001b[43m,\u001b[49m\u001b[43m \u001b[49m\u001b[43mbody\u001b[49m\u001b[43m,\u001b[49m\u001b[43m \u001b[49m\u001b[43mheaders\u001b[49m\u001b[43m,\u001b[49m\u001b[43m \u001b[49m\u001b[43mencode_chunked\u001b[49m\u001b[43m)\u001b[49m\n",
      "File \u001b[0;32m~/anaconda3/lib/python3.9/http/client.py:1331\u001b[0m, in \u001b[0;36mHTTPConnection._send_request\u001b[0;34m(self, method, url, body, headers, encode_chunked)\u001b[0m\n\u001b[1;32m   1330\u001b[0m     body \u001b[38;5;241m=\u001b[39m _encode(body, \u001b[38;5;124m'\u001b[39m\u001b[38;5;124mbody\u001b[39m\u001b[38;5;124m'\u001b[39m)\n\u001b[0;32m-> 1331\u001b[0m \u001b[38;5;28;43mself\u001b[39;49m\u001b[38;5;241;43m.\u001b[39;49m\u001b[43mendheaders\u001b[49m\u001b[43m(\u001b[49m\u001b[43mbody\u001b[49m\u001b[43m,\u001b[49m\u001b[43m \u001b[49m\u001b[43mencode_chunked\u001b[49m\u001b[38;5;241;43m=\u001b[39;49m\u001b[43mencode_chunked\u001b[49m\u001b[43m)\u001b[49m\n",
      "File \u001b[0;32m~/anaconda3/lib/python3.9/http/client.py:1280\u001b[0m, in \u001b[0;36mHTTPConnection.endheaders\u001b[0;34m(self, message_body, encode_chunked)\u001b[0m\n\u001b[1;32m   1279\u001b[0m     \u001b[38;5;28;01mraise\u001b[39;00m CannotSendHeader()\n\u001b[0;32m-> 1280\u001b[0m \u001b[38;5;28;43mself\u001b[39;49m\u001b[38;5;241;43m.\u001b[39;49m\u001b[43m_send_output\u001b[49m\u001b[43m(\u001b[49m\u001b[43mmessage_body\u001b[49m\u001b[43m,\u001b[49m\u001b[43m \u001b[49m\u001b[43mencode_chunked\u001b[49m\u001b[38;5;241;43m=\u001b[39;49m\u001b[43mencode_chunked\u001b[49m\u001b[43m)\u001b[49m\n",
      "File \u001b[0;32m~/anaconda3/lib/python3.9/http/client.py:1040\u001b[0m, in \u001b[0;36mHTTPConnection._send_output\u001b[0;34m(self, message_body, encode_chunked)\u001b[0m\n\u001b[1;32m   1039\u001b[0m \u001b[38;5;28;01mdel\u001b[39;00m \u001b[38;5;28mself\u001b[39m\u001b[38;5;241m.\u001b[39m_buffer[:]\n\u001b[0;32m-> 1040\u001b[0m \u001b[38;5;28;43mself\u001b[39;49m\u001b[38;5;241;43m.\u001b[39;49m\u001b[43msend\u001b[49m\u001b[43m(\u001b[49m\u001b[43mmsg\u001b[49m\u001b[43m)\u001b[49m\n\u001b[1;32m   1042\u001b[0m \u001b[38;5;28;01mif\u001b[39;00m message_body \u001b[38;5;129;01mis\u001b[39;00m \u001b[38;5;129;01mnot\u001b[39;00m \u001b[38;5;28;01mNone\u001b[39;00m:\n\u001b[1;32m   1043\u001b[0m \n\u001b[1;32m   1044\u001b[0m     \u001b[38;5;66;03m# create a consistent interface to message_body\u001b[39;00m\n",
      "File \u001b[0;32m~/anaconda3/lib/python3.9/http/client.py:980\u001b[0m, in \u001b[0;36mHTTPConnection.send\u001b[0;34m(self, data)\u001b[0m\n\u001b[1;32m    979\u001b[0m \u001b[38;5;28;01mif\u001b[39;00m \u001b[38;5;28mself\u001b[39m\u001b[38;5;241m.\u001b[39mauto_open:\n\u001b[0;32m--> 980\u001b[0m     \u001b[38;5;28;43mself\u001b[39;49m\u001b[38;5;241;43m.\u001b[39;49m\u001b[43mconnect\u001b[49m\u001b[43m(\u001b[49m\u001b[43m)\u001b[49m\n\u001b[1;32m    981\u001b[0m \u001b[38;5;28;01melse\u001b[39;00m:\n",
      "File \u001b[0;32m~/anaconda3/lib/python3.9/http/client.py:1447\u001b[0m, in \u001b[0;36mHTTPSConnection.connect\u001b[0;34m(self)\u001b[0m\n\u001b[1;32m   1445\u001b[0m \u001b[38;5;124m\"\u001b[39m\u001b[38;5;124mConnect to a host on a given (SSL) port.\u001b[39m\u001b[38;5;124m\"\u001b[39m\n\u001b[0;32m-> 1447\u001b[0m \u001b[38;5;28;43msuper\u001b[39;49m\u001b[43m(\u001b[49m\u001b[43m)\u001b[49m\u001b[38;5;241;43m.\u001b[39;49m\u001b[43mconnect\u001b[49m\u001b[43m(\u001b[49m\u001b[43m)\u001b[49m\n\u001b[1;32m   1449\u001b[0m \u001b[38;5;28;01mif\u001b[39;00m \u001b[38;5;28mself\u001b[39m\u001b[38;5;241m.\u001b[39m_tunnel_host:\n",
      "File \u001b[0;32m~/anaconda3/lib/python3.9/http/client.py:946\u001b[0m, in \u001b[0;36mHTTPConnection.connect\u001b[0;34m(self)\u001b[0m\n\u001b[1;32m    945\u001b[0m \u001b[38;5;124;03m\"\"\"Connect to the host and port specified in __init__.\"\"\"\u001b[39;00m\n\u001b[0;32m--> 946\u001b[0m \u001b[38;5;28mself\u001b[39m\u001b[38;5;241m.\u001b[39msock \u001b[38;5;241m=\u001b[39m \u001b[38;5;28;43mself\u001b[39;49m\u001b[38;5;241;43m.\u001b[39;49m\u001b[43m_create_connection\u001b[49m\u001b[43m(\u001b[49m\n\u001b[1;32m    947\u001b[0m \u001b[43m    \u001b[49m\u001b[43m(\u001b[49m\u001b[38;5;28;43mself\u001b[39;49m\u001b[38;5;241;43m.\u001b[39;49m\u001b[43mhost\u001b[49m\u001b[43m,\u001b[49m\u001b[38;5;28;43mself\u001b[39;49m\u001b[38;5;241;43m.\u001b[39;49m\u001b[43mport\u001b[49m\u001b[43m)\u001b[49m\u001b[43m,\u001b[49m\u001b[43m \u001b[49m\u001b[38;5;28;43mself\u001b[39;49m\u001b[38;5;241;43m.\u001b[39;49m\u001b[43mtimeout\u001b[49m\u001b[43m,\u001b[49m\u001b[43m \u001b[49m\u001b[38;5;28;43mself\u001b[39;49m\u001b[38;5;241;43m.\u001b[39;49m\u001b[43msource_address\u001b[49m\u001b[43m)\u001b[49m\n\u001b[1;32m    948\u001b[0m \u001b[38;5;66;03m# Might fail in OSs that don't implement TCP_NODELAY\u001b[39;00m\n",
      "File \u001b[0;32m~/anaconda3/lib/python3.9/socket.py:823\u001b[0m, in \u001b[0;36mcreate_connection\u001b[0;34m(address, timeout, source_address)\u001b[0m\n\u001b[1;32m    822\u001b[0m err \u001b[38;5;241m=\u001b[39m \u001b[38;5;28;01mNone\u001b[39;00m\n\u001b[0;32m--> 823\u001b[0m \u001b[38;5;28;01mfor\u001b[39;00m res \u001b[38;5;129;01min\u001b[39;00m \u001b[43mgetaddrinfo\u001b[49m\u001b[43m(\u001b[49m\u001b[43mhost\u001b[49m\u001b[43m,\u001b[49m\u001b[43m \u001b[49m\u001b[43mport\u001b[49m\u001b[43m,\u001b[49m\u001b[43m \u001b[49m\u001b[38;5;241;43m0\u001b[39;49m\u001b[43m,\u001b[49m\u001b[43m \u001b[49m\u001b[43mSOCK_STREAM\u001b[49m\u001b[43m)\u001b[49m:\n\u001b[1;32m    824\u001b[0m     af, socktype, proto, canonname, sa \u001b[38;5;241m=\u001b[39m res\n",
      "File \u001b[0;32m~/anaconda3/lib/python3.9/socket.py:954\u001b[0m, in \u001b[0;36mgetaddrinfo\u001b[0;34m(host, port, family, type, proto, flags)\u001b[0m\n\u001b[1;32m    953\u001b[0m addrlist \u001b[38;5;241m=\u001b[39m []\n\u001b[0;32m--> 954\u001b[0m \u001b[38;5;28;01mfor\u001b[39;00m res \u001b[38;5;129;01min\u001b[39;00m \u001b[43m_socket\u001b[49m\u001b[38;5;241;43m.\u001b[39;49m\u001b[43mgetaddrinfo\u001b[49m\u001b[43m(\u001b[49m\u001b[43mhost\u001b[49m\u001b[43m,\u001b[49m\u001b[43m \u001b[49m\u001b[43mport\u001b[49m\u001b[43m,\u001b[49m\u001b[43m \u001b[49m\u001b[43mfamily\u001b[49m\u001b[43m,\u001b[49m\u001b[43m \u001b[49m\u001b[38;5;28;43mtype\u001b[39;49m\u001b[43m,\u001b[49m\u001b[43m \u001b[49m\u001b[43mproto\u001b[49m\u001b[43m,\u001b[49m\u001b[43m \u001b[49m\u001b[43mflags\u001b[49m\u001b[43m)\u001b[49m:\n\u001b[1;32m    955\u001b[0m     af, socktype, proto, canonname, sa \u001b[38;5;241m=\u001b[39m res\n",
      "\u001b[0;31mgaierror\u001b[0m: [Errno -3] Temporary failure in name resolution",
      "\nDuring handling of the above exception, another exception occurred:\n",
      "\u001b[0;31mURLError\u001b[0m                                  Traceback (most recent call last)",
      "Input \u001b[0;32mIn [10]\u001b[0m, in \u001b[0;36m<cell line: 44>\u001b[0;34m()\u001b[0m\n\u001b[1;32m     39\u001b[0m logging\u001b[38;5;241m.\u001b[39mbasicConfig(level\u001b[38;5;241m=\u001b[39mlogging\u001b[38;5;241m.\u001b[39mINFO, \u001b[38;5;28mformat\u001b[39m\u001b[38;5;241m=\u001b[39m\u001b[38;5;124m'\u001b[39m\u001b[38;5;132;01m%(asctime)s\u001b[39;00m\u001b[38;5;124m \u001b[39m\u001b[38;5;132;01m%(message)s\u001b[39;00m\u001b[38;5;124m'\u001b[39m)\n\u001b[1;32m     42\u001b[0m \u001b[38;5;66;03m###############################################################################\u001b[39;00m\n\u001b[1;32m     43\u001b[0m \u001b[38;5;66;03m# Download the data, if not already on disk and load it as numpy arrays\u001b[39;00m\n\u001b[0;32m---> 44\u001b[0m lfw_people \u001b[38;5;241m=\u001b[39m \u001b[43mfetch_lfw_people\u001b[49m\u001b[43m(\u001b[49m\u001b[43mmin_faces_per_person\u001b[49m\u001b[38;5;241;43m=\u001b[39;49m\u001b[38;5;241;43m70\u001b[39;49m\u001b[43m,\u001b[49m\u001b[43m \u001b[49m\u001b[43mresize\u001b[49m\u001b[38;5;241;43m=\u001b[39;49m\u001b[38;5;241;43m0.4\u001b[39;49m\u001b[43m)\u001b[49m\n\u001b[1;32m     46\u001b[0m \u001b[38;5;66;03m# introspect the images arrays to find the shapes (for plotting)\u001b[39;00m\n\u001b[1;32m     47\u001b[0m n_samples, h, w \u001b[38;5;241m=\u001b[39m lfw_people\u001b[38;5;241m.\u001b[39mimages\u001b[38;5;241m.\u001b[39mshape\n",
      "File \u001b[0;32m~/anaconda3/lib/python3.9/site-packages/sklearn/datasets/_lfw.py:312\u001b[0m, in \u001b[0;36mfetch_lfw_people\u001b[0;34m(data_home, funneled, resize, min_faces_per_person, color, slice_, download_if_missing, return_X_y)\u001b[0m\n\u001b[1;32m    225\u001b[0m \u001b[38;5;28;01mdef\u001b[39;00m \u001b[38;5;21mfetch_lfw_people\u001b[39m(\n\u001b[1;32m    226\u001b[0m     \u001b[38;5;241m*\u001b[39m,\n\u001b[1;32m    227\u001b[0m     data_home\u001b[38;5;241m=\u001b[39m\u001b[38;5;28;01mNone\u001b[39;00m,\n\u001b[0;32m   (...)\u001b[0m\n\u001b[1;32m    234\u001b[0m     return_X_y\u001b[38;5;241m=\u001b[39m\u001b[38;5;28;01mFalse\u001b[39;00m,\n\u001b[1;32m    235\u001b[0m ):\n\u001b[1;32m    236\u001b[0m     \u001b[38;5;124;03m\"\"\"Load the Labeled Faces in the Wild (LFW) people dataset \\\u001b[39;00m\n\u001b[1;32m    237\u001b[0m \u001b[38;5;124;03m(classification).\u001b[39;00m\n\u001b[1;32m    238\u001b[0m \n\u001b[0;32m   (...)\u001b[0m\n\u001b[1;32m    310\u001b[0m \n\u001b[1;32m    311\u001b[0m \u001b[38;5;124;03m    \"\"\"\u001b[39;00m\n\u001b[0;32m--> 312\u001b[0m     lfw_home, data_folder_path \u001b[38;5;241m=\u001b[39m \u001b[43m_check_fetch_lfw\u001b[49m\u001b[43m(\u001b[49m\n\u001b[1;32m    313\u001b[0m \u001b[43m        \u001b[49m\u001b[43mdata_home\u001b[49m\u001b[38;5;241;43m=\u001b[39;49m\u001b[43mdata_home\u001b[49m\u001b[43m,\u001b[49m\u001b[43m \u001b[49m\u001b[43mfunneled\u001b[49m\u001b[38;5;241;43m=\u001b[39;49m\u001b[43mfunneled\u001b[49m\u001b[43m,\u001b[49m\u001b[43m \u001b[49m\u001b[43mdownload_if_missing\u001b[49m\u001b[38;5;241;43m=\u001b[39;49m\u001b[43mdownload_if_missing\u001b[49m\n\u001b[1;32m    314\u001b[0m \u001b[43m    \u001b[49m\u001b[43m)\u001b[49m\n\u001b[1;32m    315\u001b[0m     logger\u001b[38;5;241m.\u001b[39mdebug(\u001b[38;5;124m\"\u001b[39m\u001b[38;5;124mLoading LFW people faces from \u001b[39m\u001b[38;5;132;01m%s\u001b[39;00m\u001b[38;5;124m\"\u001b[39m, lfw_home)\n\u001b[1;32m    317\u001b[0m     \u001b[38;5;66;03m# wrap the loader in a memoizing function that will return memmaped data\u001b[39;00m\n\u001b[1;32m    318\u001b[0m     \u001b[38;5;66;03m# arrays for optimal memory usage\u001b[39;00m\n",
      "File \u001b[0;32m~/anaconda3/lib/python3.9/site-packages/sklearn/datasets/_lfw.py:90\u001b[0m, in \u001b[0;36m_check_fetch_lfw\u001b[0;34m(data_home, funneled, download_if_missing)\u001b[0m\n\u001b[1;32m     88\u001b[0m \u001b[38;5;28;01mif\u001b[39;00m download_if_missing:\n\u001b[1;32m     89\u001b[0m     logger\u001b[38;5;241m.\u001b[39minfo(\u001b[38;5;124m\"\u001b[39m\u001b[38;5;124mDownloading LFW metadata: \u001b[39m\u001b[38;5;132;01m%s\u001b[39;00m\u001b[38;5;124m\"\u001b[39m, target\u001b[38;5;241m.\u001b[39murl)\n\u001b[0;32m---> 90\u001b[0m     \u001b[43m_fetch_remote\u001b[49m\u001b[43m(\u001b[49m\u001b[43mtarget\u001b[49m\u001b[43m,\u001b[49m\u001b[43m \u001b[49m\u001b[43mdirname\u001b[49m\u001b[38;5;241;43m=\u001b[39;49m\u001b[43mlfw_home\u001b[49m\u001b[43m)\u001b[49m\n\u001b[1;32m     91\u001b[0m \u001b[38;5;28;01melse\u001b[39;00m:\n\u001b[1;32m     92\u001b[0m     \u001b[38;5;28;01mraise\u001b[39;00m \u001b[38;5;167;01mIOError\u001b[39;00m(\u001b[38;5;124m\"\u001b[39m\u001b[38;5;132;01m%s\u001b[39;00m\u001b[38;5;124m is missing\u001b[39m\u001b[38;5;124m\"\u001b[39m \u001b[38;5;241m%\u001b[39m target_filepath)\n",
      "File \u001b[0;32m~/anaconda3/lib/python3.9/site-packages/sklearn/datasets/_base.py:1454\u001b[0m, in \u001b[0;36m_fetch_remote\u001b[0;34m(remote, dirname)\u001b[0m\n\u001b[1;32m   1432\u001b[0m \u001b[38;5;124;03m\"\"\"Helper function to download a remote dataset into path\u001b[39;00m\n\u001b[1;32m   1433\u001b[0m \n\u001b[1;32m   1434\u001b[0m \u001b[38;5;124;03mFetch a dataset pointed by remote's url, save into path using remote's\u001b[39;00m\n\u001b[0;32m   (...)\u001b[0m\n\u001b[1;32m   1450\u001b[0m \u001b[38;5;124;03m    Full path of the created file.\u001b[39;00m\n\u001b[1;32m   1451\u001b[0m \u001b[38;5;124;03m\"\"\"\u001b[39;00m\n\u001b[1;32m   1453\u001b[0m file_path \u001b[38;5;241m=\u001b[39m remote\u001b[38;5;241m.\u001b[39mfilename \u001b[38;5;28;01mif\u001b[39;00m dirname \u001b[38;5;129;01mis\u001b[39;00m \u001b[38;5;28;01mNone\u001b[39;00m \u001b[38;5;28;01melse\u001b[39;00m join(dirname, remote\u001b[38;5;241m.\u001b[39mfilename)\n\u001b[0;32m-> 1454\u001b[0m \u001b[43murlretrieve\u001b[49m\u001b[43m(\u001b[49m\u001b[43mremote\u001b[49m\u001b[38;5;241;43m.\u001b[39;49m\u001b[43murl\u001b[49m\u001b[43m,\u001b[49m\u001b[43m \u001b[49m\u001b[43mfile_path\u001b[49m\u001b[43m)\u001b[49m\n\u001b[1;32m   1455\u001b[0m checksum \u001b[38;5;241m=\u001b[39m _sha256(file_path)\n\u001b[1;32m   1456\u001b[0m \u001b[38;5;28;01mif\u001b[39;00m remote\u001b[38;5;241m.\u001b[39mchecksum \u001b[38;5;241m!=\u001b[39m checksum:\n",
      "File \u001b[0;32m~/anaconda3/lib/python3.9/urllib/request.py:239\u001b[0m, in \u001b[0;36murlretrieve\u001b[0;34m(url, filename, reporthook, data)\u001b[0m\n\u001b[1;32m    222\u001b[0m \u001b[38;5;124;03m\"\"\"\u001b[39;00m\n\u001b[1;32m    223\u001b[0m \u001b[38;5;124;03mRetrieve a URL into a temporary location on disk.\u001b[39;00m\n\u001b[1;32m    224\u001b[0m \n\u001b[0;32m   (...)\u001b[0m\n\u001b[1;32m    235\u001b[0m \u001b[38;5;124;03mdata file as well as the resulting HTTPMessage object.\u001b[39;00m\n\u001b[1;32m    236\u001b[0m \u001b[38;5;124;03m\"\"\"\u001b[39;00m\n\u001b[1;32m    237\u001b[0m url_type, path \u001b[38;5;241m=\u001b[39m _splittype(url)\n\u001b[0;32m--> 239\u001b[0m \u001b[38;5;28;01mwith\u001b[39;00m contextlib\u001b[38;5;241m.\u001b[39mclosing(\u001b[43murlopen\u001b[49m\u001b[43m(\u001b[49m\u001b[43murl\u001b[49m\u001b[43m,\u001b[49m\u001b[43m \u001b[49m\u001b[43mdata\u001b[49m\u001b[43m)\u001b[49m) \u001b[38;5;28;01mas\u001b[39;00m fp:\n\u001b[1;32m    240\u001b[0m     headers \u001b[38;5;241m=\u001b[39m fp\u001b[38;5;241m.\u001b[39minfo()\n\u001b[1;32m    242\u001b[0m     \u001b[38;5;66;03m# Just return the local path and the \"headers\" for file://\u001b[39;00m\n\u001b[1;32m    243\u001b[0m     \u001b[38;5;66;03m# URLs. No sense in performing a copy unless requested.\u001b[39;00m\n",
      "File \u001b[0;32m~/anaconda3/lib/python3.9/urllib/request.py:214\u001b[0m, in \u001b[0;36murlopen\u001b[0;34m(url, data, timeout, cafile, capath, cadefault, context)\u001b[0m\n\u001b[1;32m    212\u001b[0m \u001b[38;5;28;01melse\u001b[39;00m:\n\u001b[1;32m    213\u001b[0m     opener \u001b[38;5;241m=\u001b[39m _opener\n\u001b[0;32m--> 214\u001b[0m \u001b[38;5;28;01mreturn\u001b[39;00m \u001b[43mopener\u001b[49m\u001b[38;5;241;43m.\u001b[39;49m\u001b[43mopen\u001b[49m\u001b[43m(\u001b[49m\u001b[43murl\u001b[49m\u001b[43m,\u001b[49m\u001b[43m \u001b[49m\u001b[43mdata\u001b[49m\u001b[43m,\u001b[49m\u001b[43m \u001b[49m\u001b[43mtimeout\u001b[49m\u001b[43m)\u001b[49m\n",
      "File \u001b[0;32m~/anaconda3/lib/python3.9/urllib/request.py:517\u001b[0m, in \u001b[0;36mOpenerDirector.open\u001b[0;34m(self, fullurl, data, timeout)\u001b[0m\n\u001b[1;32m    514\u001b[0m     req \u001b[38;5;241m=\u001b[39m meth(req)\n\u001b[1;32m    516\u001b[0m sys\u001b[38;5;241m.\u001b[39maudit(\u001b[38;5;124m'\u001b[39m\u001b[38;5;124murllib.Request\u001b[39m\u001b[38;5;124m'\u001b[39m, req\u001b[38;5;241m.\u001b[39mfull_url, req\u001b[38;5;241m.\u001b[39mdata, req\u001b[38;5;241m.\u001b[39mheaders, req\u001b[38;5;241m.\u001b[39mget_method())\n\u001b[0;32m--> 517\u001b[0m response \u001b[38;5;241m=\u001b[39m \u001b[38;5;28;43mself\u001b[39;49m\u001b[38;5;241;43m.\u001b[39;49m\u001b[43m_open\u001b[49m\u001b[43m(\u001b[49m\u001b[43mreq\u001b[49m\u001b[43m,\u001b[49m\u001b[43m \u001b[49m\u001b[43mdata\u001b[49m\u001b[43m)\u001b[49m\n\u001b[1;32m    519\u001b[0m \u001b[38;5;66;03m# post-process response\u001b[39;00m\n\u001b[1;32m    520\u001b[0m meth_name \u001b[38;5;241m=\u001b[39m protocol\u001b[38;5;241m+\u001b[39m\u001b[38;5;124m\"\u001b[39m\u001b[38;5;124m_response\u001b[39m\u001b[38;5;124m\"\u001b[39m\n",
      "File \u001b[0;32m~/anaconda3/lib/python3.9/urllib/request.py:534\u001b[0m, in \u001b[0;36mOpenerDirector._open\u001b[0;34m(self, req, data)\u001b[0m\n\u001b[1;32m    531\u001b[0m     \u001b[38;5;28;01mreturn\u001b[39;00m result\n\u001b[1;32m    533\u001b[0m protocol \u001b[38;5;241m=\u001b[39m req\u001b[38;5;241m.\u001b[39mtype\n\u001b[0;32m--> 534\u001b[0m result \u001b[38;5;241m=\u001b[39m \u001b[38;5;28;43mself\u001b[39;49m\u001b[38;5;241;43m.\u001b[39;49m\u001b[43m_call_chain\u001b[49m\u001b[43m(\u001b[49m\u001b[38;5;28;43mself\u001b[39;49m\u001b[38;5;241;43m.\u001b[39;49m\u001b[43mhandle_open\u001b[49m\u001b[43m,\u001b[49m\u001b[43m \u001b[49m\u001b[43mprotocol\u001b[49m\u001b[43m,\u001b[49m\u001b[43m \u001b[49m\u001b[43mprotocol\u001b[49m\u001b[43m \u001b[49m\u001b[38;5;241;43m+\u001b[39;49m\n\u001b[1;32m    535\u001b[0m \u001b[43m                          \u001b[49m\u001b[38;5;124;43m'\u001b[39;49m\u001b[38;5;124;43m_open\u001b[39;49m\u001b[38;5;124;43m'\u001b[39;49m\u001b[43m,\u001b[49m\u001b[43m \u001b[49m\u001b[43mreq\u001b[49m\u001b[43m)\u001b[49m\n\u001b[1;32m    536\u001b[0m \u001b[38;5;28;01mif\u001b[39;00m result:\n\u001b[1;32m    537\u001b[0m     \u001b[38;5;28;01mreturn\u001b[39;00m result\n",
      "File \u001b[0;32m~/anaconda3/lib/python3.9/urllib/request.py:494\u001b[0m, in \u001b[0;36mOpenerDirector._call_chain\u001b[0;34m(self, chain, kind, meth_name, *args)\u001b[0m\n\u001b[1;32m    492\u001b[0m \u001b[38;5;28;01mfor\u001b[39;00m handler \u001b[38;5;129;01min\u001b[39;00m handlers:\n\u001b[1;32m    493\u001b[0m     func \u001b[38;5;241m=\u001b[39m \u001b[38;5;28mgetattr\u001b[39m(handler, meth_name)\n\u001b[0;32m--> 494\u001b[0m     result \u001b[38;5;241m=\u001b[39m \u001b[43mfunc\u001b[49m\u001b[43m(\u001b[49m\u001b[38;5;241;43m*\u001b[39;49m\u001b[43margs\u001b[49m\u001b[43m)\u001b[49m\n\u001b[1;32m    495\u001b[0m     \u001b[38;5;28;01mif\u001b[39;00m result \u001b[38;5;129;01mis\u001b[39;00m \u001b[38;5;129;01mnot\u001b[39;00m \u001b[38;5;28;01mNone\u001b[39;00m:\n\u001b[1;32m    496\u001b[0m         \u001b[38;5;28;01mreturn\u001b[39;00m result\n",
      "File \u001b[0;32m~/anaconda3/lib/python3.9/urllib/request.py:1389\u001b[0m, in \u001b[0;36mHTTPSHandler.https_open\u001b[0;34m(self, req)\u001b[0m\n\u001b[1;32m   1388\u001b[0m \u001b[38;5;28;01mdef\u001b[39;00m \u001b[38;5;21mhttps_open\u001b[39m(\u001b[38;5;28mself\u001b[39m, req):\n\u001b[0;32m-> 1389\u001b[0m     \u001b[38;5;28;01mreturn\u001b[39;00m \u001b[38;5;28;43mself\u001b[39;49m\u001b[38;5;241;43m.\u001b[39;49m\u001b[43mdo_open\u001b[49m\u001b[43m(\u001b[49m\u001b[43mhttp\u001b[49m\u001b[38;5;241;43m.\u001b[39;49m\u001b[43mclient\u001b[49m\u001b[38;5;241;43m.\u001b[39;49m\u001b[43mHTTPSConnection\u001b[49m\u001b[43m,\u001b[49m\u001b[43m \u001b[49m\u001b[43mreq\u001b[49m\u001b[43m,\u001b[49m\n\u001b[1;32m   1390\u001b[0m \u001b[43m        \u001b[49m\u001b[43mcontext\u001b[49m\u001b[38;5;241;43m=\u001b[39;49m\u001b[38;5;28;43mself\u001b[39;49m\u001b[38;5;241;43m.\u001b[39;49m\u001b[43m_context\u001b[49m\u001b[43m,\u001b[49m\u001b[43m \u001b[49m\u001b[43mcheck_hostname\u001b[49m\u001b[38;5;241;43m=\u001b[39;49m\u001b[38;5;28;43mself\u001b[39;49m\u001b[38;5;241;43m.\u001b[39;49m\u001b[43m_check_hostname\u001b[49m\u001b[43m)\u001b[49m\n",
      "File \u001b[0;32m~/anaconda3/lib/python3.9/urllib/request.py:1349\u001b[0m, in \u001b[0;36mAbstractHTTPHandler.do_open\u001b[0;34m(self, http_class, req, **http_conn_args)\u001b[0m\n\u001b[1;32m   1346\u001b[0m         h\u001b[38;5;241m.\u001b[39mrequest(req\u001b[38;5;241m.\u001b[39mget_method(), req\u001b[38;5;241m.\u001b[39mselector, req\u001b[38;5;241m.\u001b[39mdata, headers,\n\u001b[1;32m   1347\u001b[0m                   encode_chunked\u001b[38;5;241m=\u001b[39mreq\u001b[38;5;241m.\u001b[39mhas_header(\u001b[38;5;124m'\u001b[39m\u001b[38;5;124mTransfer-encoding\u001b[39m\u001b[38;5;124m'\u001b[39m))\n\u001b[1;32m   1348\u001b[0m     \u001b[38;5;28;01mexcept\u001b[39;00m \u001b[38;5;167;01mOSError\u001b[39;00m \u001b[38;5;28;01mas\u001b[39;00m err: \u001b[38;5;66;03m# timeout error\u001b[39;00m\n\u001b[0;32m-> 1349\u001b[0m         \u001b[38;5;28;01mraise\u001b[39;00m URLError(err)\n\u001b[1;32m   1350\u001b[0m     r \u001b[38;5;241m=\u001b[39m h\u001b[38;5;241m.\u001b[39mgetresponse()\n\u001b[1;32m   1351\u001b[0m \u001b[38;5;28;01mexcept\u001b[39;00m:\n",
      "\u001b[0;31mURLError\u001b[0m: <urlopen error [Errno -3] Temporary failure in name resolution>"
     ]
    }
   ],
   "source": [
    "#PCA\n",
    "#eigenfaces.py\n",
    "\n",
    "\n",
    "\n",
    "\"\"\"\n",
    "===================================================\n",
    "Faces recognition example using eigenfaces and SVMs\n",
    "===================================================\n",
    "\n",
    "The dataset used in this example is a preprocessed excerpt of the\n",
    "\"Labeled Faces in the Wild\", aka LFW_:\n",
    "\n",
    "  http://vis-www.cs.umass.edu/lfw/lfw-funneled.tgz (233MB)\n",
    "\n",
    "  .. _LFW: http://vis-www.cs.umass.edu/lfw/\n",
    "\n",
    "  original source: http://scikit-learn.org/stable/auto_examples/applications/face_recognition.html\n",
    "\n",
    "\"\"\"\n",
    "\n",
    "\n",
    "\n",
    "print(__doc__)\n",
    "\n",
    "from time import time\n",
    "import logging\n",
    "import pylab as pl\n",
    "import numpy as np\n",
    "\n",
    "from sklearn.model_selection import train_test_split, GridSearchCV\n",
    "from sklearn.datasets import fetch_lfw_people\n",
    "from sklearn.metrics import classification_report\n",
    "from sklearn.metrics import confusion_matrix\n",
    "from sklearn.decomposition import PCA\n",
    "from sklearn.svm import SVC\n",
    "\n",
    "# Display progress logs on stdout\n",
    "logging.basicConfig(level=logging.INFO, format='%(asctime)s %(message)s')\n",
    "\n",
    "\n",
    "###############################################################################\n",
    "# Download the data, if not already on disk and load it as numpy arrays\n",
    "lfw_people = fetch_lfw_people(min_faces_per_person=70, resize=0.4)\n",
    "\n",
    "# introspect the images arrays to find the shapes (for plotting)\n",
    "n_samples, h, w = lfw_people.images.shape\n",
    "np.random.seed(42)\n",
    "\n",
    "# for machine learning we use the data directly (as relative pixel\n",
    "# position info is ignored by this model)\n",
    "X = lfw_people.data\n",
    "n_features = X.shape[1]\n",
    "\n",
    "# the label to predict is the id of the person\n",
    "y = lfw_people.target\n",
    "target_names = lfw_people.target_names\n",
    "n_classes = target_names.shape[0]\n",
    "\n",
    "print(\"Total dataset size:\")\n",
    "print(\"n_samples: %d\" % n_samples)\n",
    "print(\"n_features: %d\" % n_features)\n",
    "print(\"n_classes: %d\" % n_classes)\n",
    "\n",
    "###############################################################################\n",
    "# Split into a training and testing set\n",
    "X_train, X_test, y_train, y_test = train_test_split(X, y, test_size=0.25, random_state=42)\n",
    "\n",
    "###############################################################################\n",
    "# Compute a PCA (eigenfaces) on the face dataset (treated as unlabeled\n",
    "# dataset): unsupervised feature extraction / dimensionality reduction\n",
    "n_components = 150\n",
    "\n",
    "print(\"Extracting the top %d eigenfaces from %d faces\" % (n_components, X_train.shape[0]))\n",
    "t0 = time()\n",
    "pca = PCA(n_components=n_components, whiten=True).fit(X_train)\n",
    "print(\"done in %0.3fs\" % (time() - t0))\n",
    "\n",
    "eigenfaces = pca.components_.reshape((n_components, h, w))\n",
    "\n",
    "print(\"Projecting the input data on the eigenfaces orthonormal basis\")\n",
    "t0 = time()\n",
    "X_train_pca = pca.transform(X_train)\n",
    "X_test_pca = pca.transform(X_test)\n",
    "print(\"done in %0.3fs\" % (time() - t0))\n",
    "\n",
    "\n",
    "###############################################################################\n",
    "# Train a SVM classification model(\n",
    "print(\"Fitting the classifier to the training set\")\n",
    "t0 = time()\n",
    "param_grid = {\n",
    "          'C': [1e3, 5e3, 1e4, 5e4, 1e5],\n",
    "          'gamma': [0.0001, 0.0005, 0.001, 0.005, 0.01, 0.1],\n",
    "          }\n",
    "# for sklearn version 0.16 or prior, the class_weight parameter value is 'auto'\n",
    "clf = GridSearchCV(SVC(kernel='rbf', class_weight='balanced'), param_grid)\n",
    "clf = clf.fit(X_train_pca, y_train)\n",
    "print(\"done in %0.3fs\" % (time() - t0))\n",
    "print(\"Best estimator found by grid search:\")\n",
    "print(clf.best_estimator_)\n",
    "\n",
    "\n",
    "###############################################################################\n",
    "# Quantitative evaluation of the model quality on the test set\n",
    "\n",
    "print(\"Predicting the people names on the testing set\")\n",
    "t0 = time()\n",
    "y_pred = clf.predict(X_test_pca)\n",
    "print(\"done in %0.3fs\" % (time() - t0))\n",
    "\n",
    "print(classification_report(y_test, y_pred, target_names=target_names))\n",
    "print(confusion_matrix(y_test, y_pred, labels=range(n_classes)))\n",
    "\n",
    "\n",
    "###############################################################################\n",
    "# Qualitative evaluation of the predictions using matplotlib\n",
    "\n",
    "def plot_gallery(images, titles, h, w, n_row=3, n_col=4):\n",
    "    \"\"\"Helper function to plot a gallery of portraits\"\"\"\n",
    "    pl.figure(figsize=(1.8 * n_col, 2.4 * n_row))\n",
    "    pl.subplots_adjust(bottom=0, left=.01, right=.99, top=.90, hspace=.35)\n",
    "    for i in range(n_row * n_col):\n",
    "        pl.subplot(n_row, n_col, i + 1)\n",
    "        pl.imshow(images[i].reshape((h, w)), cmap=pl.cm.gray)\n",
    "        pl.title(titles[i], size=12)\n",
    "        pl.xticks(())\n",
    "        pl.yticks(())\n",
    "\n",
    "\n",
    "# plot the result of the prediction on a portion of the test set\n",
    "\n",
    "def title(y_pred, y_test, target_names, i):\n",
    "    pred_name = target_names[y_pred[i]].rsplit(' ', 1)[-1]\n",
    "    true_name = target_names[y_test[i]].rsplit(' ', 1)[-1]\n",
    "    return 'predicted: %s\\ntrue:      %s' % (pred_name, true_name)\n",
    "\n",
    "prediction_titles = [title(y_pred, y_test, target_names, i)\n",
    "                      for i in range(y_pred.shape[0])]\n",
    "\n",
    "plot_gallery(X_test, prediction_titles, h, w)\n",
    "\n",
    "# plot the gallery of the most significative eigenfaces\n",
    "\n",
    "eigenface_titles = [\"eigenface %d\" % i for i in range(eigenfaces.shape[0])]\n",
    "plot_gallery(eigenfaces, eigenface_titles, h, w)\n",
    "\n",
    "pl.show()\n",
    "\n",
    "\n"
   ]
  },
  {
   "cell_type": "code",
   "execution_count": null,
   "id": "82c3600a",
   "metadata": {},
   "outputs": [],
   "source": []
  },
  {
   "cell_type": "code",
   "execution_count": null,
   "id": "ddd8d84f",
   "metadata": {},
   "outputs": [],
   "source": []
  },
  {
   "cell_type": "code",
   "execution_count": null,
   "id": "2eecbc73",
   "metadata": {},
   "outputs": [],
   "source": []
  },
  {
   "cell_type": "code",
   "execution_count": null,
   "id": "1eb3ff08",
   "metadata": {},
   "outputs": [],
   "source": []
  },
  {
   "cell_type": "code",
   "execution_count": 1,
   "id": "efa0f502",
   "metadata": {},
   "outputs": [
    {
     "data": {
      "text/plain": [
       "'You’ll start by building the simplest imaginable (unvalidated) POI identifier. The starter code (validation/validate_poi.py) for this lesson is pretty bare--all it does is read in the data, and format it into lists of labels and features. Create a decision tree classifier (just use the default parameters), train it on all the data (you will fix this in the next part!), and print out the accuracy. THIS IS AN OVERFIT TREE, DO NOT TRUST THIS NUMBER! Nonetheless, what’s the accuracy?'"
      ]
     },
     "execution_count": 1,
     "metadata": {},
     "output_type": "execute_result"
    }
   ],
   "source": [
    "#VALIDATION\n",
    "'''You’ll start by building the simplest imaginable (unvalidated) POI identifier. The starter code (validation/validate_poi.py) for this lesson is pretty bare--all it does is read in the data, and format it into lists of labels and features. Create a decision tree classifier (just use the default parameters), train it on all the data (you will fix this in the next part!), and print out the accuracy. THIS IS AN OVERFIT TREE, DO NOT TRUST THIS NUMBER! Nonetheless, what’s the accuracy?'''"
   ]
  },
  {
   "cell_type": "code",
   "execution_count": 2,
   "id": "64a86b99",
   "metadata": {},
   "outputs": [],
   "source": [
    "#validate_poi.py\n",
    "#!/usr/bin/python\n",
    "\n",
    "\n",
    "\"\"\"\n",
    "    Starter code for the validation mini-project.\n",
    "    The first step toward building your POI identifier!\n",
    "\n",
    "    Start by loading/formatting the data\n",
    "\n",
    "    After that, it's not our code anymore--it's yours!\n",
    "\"\"\"\n",
    "import os\n",
    "import joblib\n",
    "import sys\n",
    "sys.path.append(os.path.abspath(\"/home/adebisi/UDACITY PROJECTS/ud120-projects-master/tools/\"))\n",
    "from feature_format import featureFormat, targetFeatureSplit\n",
    "\n",
    "data_dict = joblib.load(open(\"/home/adebisi/UDACITY PROJECTS/ud120-projects-master/final_project/final_project_dataset.pkl\", \"rb\") )\n",
    "\n",
    "### first element is our labels, any added elements are predictor\n",
    "### features. Keep this the same for the mini-project, but you'll\n",
    "### have a different feature list when you do the final project.\n",
    "features_list = [\"poi\", \"salary\"]\n",
    "\n",
    "data = featureFormat(data_dict, features_list)\n",
    "labels, features = targetFeatureSplit(data)\n",
    "\n",
    "\n",
    "\n",
    "### it's all yours from here forward!  \n",
    "\n"
   ]
  },
  {
   "cell_type": "code",
   "execution_count": 3,
   "id": "cbe59178",
   "metadata": {},
   "outputs": [
    {
     "data": {
      "text/plain": [
       "0.9894736842105263"
      ]
     },
     "execution_count": 3,
     "metadata": {},
     "output_type": "execute_result"
    }
   ],
   "source": [
    "from sklearn.tree import DecisionTreeClassifier\n",
    "clf = DecisionTreeClassifier(random_state=42)\n",
    "clf.fit(features, labels)\n",
    "labels\n",
    "from sklearn.metrics import accuracy_score\n",
    "\n",
    "labels_pred = clf.predict(features)\n",
    "\n",
    "acc = accuracy_score(labels, labels_pred)\n",
    "acc"
   ]
  },
  {
   "cell_type": "code",
   "execution_count": 4,
   "id": "b3ab9545",
   "metadata": {},
   "outputs": [
    {
     "data": {
      "text/plain": [
       "'Now you’ll add in training and testing, so that you get a trustworthy accuracy number. Use the train_test_split validation available in sklearn.cross_validation; hold out 30% of the data for testing and set the random_state parameter to 42 (random_state controls which points go into the training set and which are used for testing; setting it to 42 means we know exactly which events are in which set, and can check the results you get). What’s your updated accuracy?'"
      ]
     },
     "execution_count": 4,
     "metadata": {},
     "output_type": "execute_result"
    }
   ],
   "source": [
    "'''Now you’ll add in training and testing, so that you get a trustworthy accuracy number. Use the train_test_split validation available in sklearn.cross_validation; hold out 30% of the data for testing and set the random_state parameter to 42 (random_state controls which points go into the training set and which are used for testing; setting it to 42 means we know exactly which events are in which set, and can check the results you get). What’s your updated accuracy?'''"
   ]
  },
  {
   "cell_type": "code",
   "execution_count": 5,
   "id": "2cdb5717",
   "metadata": {},
   "outputs": [
    {
     "data": {
      "text/plain": [
       "0.6896551724137931"
      ]
     },
     "execution_count": 5,
     "metadata": {},
     "output_type": "execute_result"
    }
   ],
   "source": [
    "from sklearn.model_selection import train_test_split\n",
    "features_train, features_test, labels_train, labels_test = train_test_split(features, labels, test_size=0.3, random_state=42)\n",
    "clf = DecisionTreeClassifier(random_state=42)\n",
    "clf.fit(features_train, labels_train)\n",
    "labels_pred = clf.predict(features_test)\n",
    "acc = accuracy_score(labels_test, labels_pred)\n",
    "acc"
   ]
  },
  {
   "cell_type": "code",
   "execution_count": null,
   "id": "28cc9939",
   "metadata": {},
   "outputs": [],
   "source": []
  },
  {
   "cell_type": "code",
   "execution_count": null,
   "id": "70fedc79",
   "metadata": {},
   "outputs": [],
   "source": []
  },
  {
   "cell_type": "code",
   "execution_count": null,
   "id": "4d8b4fdd",
   "metadata": {},
   "outputs": [],
   "source": []
  },
  {
   "cell_type": "code",
   "execution_count": 6,
   "id": "b8324ff9",
   "metadata": {},
   "outputs": [
    {
     "data": {
      "text/plain": [
       "\"Go back to your code from the last lesson, where you built a simple first iteration of a POI identifier using a decision tree and one feature. Copy the POI identifier that you built into the skeleton code in evaluation/evaluate_poi_identifier.py. Recall that at the end of that project, your identifier had an accuracy (on the test set) of 0.724. Not too bad, right? Let’s dig into your predictions a little more carefully.\\n\\nFrom Python 3.3 forward, a change to the order in which dictionary keys are processed was made such that the orders are randomized each time the code is run. This will cause some compatibility problems with the graders and project code, which were run under Python 2.7. To correct for this, add the following argument to the featureFormat call on line 25 of evaluate_poi_identifier.py:\\n\\nsort_keys = '../tools/python2_lesson14_keys.pkl'\\n\\nThis will open up a file in the tools folder with the Python 2 key order.\\n\""
      ]
     },
     "execution_count": 6,
     "metadata": {},
     "output_type": "execute_result"
    }
   ],
   "source": [
    "'''Go back to your code from the last lesson, where you built a simple first iteration of a POI identifier using a decision tree and one feature. Copy the POI identifier that you built into the skeleton code in evaluation/evaluate_poi_identifier.py. Recall that at the end of that project, your identifier had an accuracy (on the test set) of 0.724. Not too bad, right? Let’s dig into your predictions a little more carefully.\n",
    "\n",
    "From Python 3.3 forward, a change to the order in which dictionary keys are processed was made such that the orders are randomized each time the code is run. This will cause some compatibility problems with the graders and project code, which were run under Python 2.7. To correct for this, add the following argument to the featureFormat call on line 25 of evaluate_poi_identifier.py:\n",
    "\n",
    "sort_keys = '../tools/python2_lesson14_keys.pkl'\n",
    "\n",
    "This will open up a file in the tools folder with the Python 2 key order.\n",
    "'''"
   ]
  },
  {
   "cell_type": "code",
   "execution_count": 7,
   "id": "1f0bd285",
   "metadata": {},
   "outputs": [
    {
     "data": {
      "text/plain": [
       "'How many POIs are predicted for the test set for your POI identifier?\\n\\n(Note that we said test set! We are not looking for the number of POIs in the whole dataset.)\\n'"
      ]
     },
     "execution_count": 7,
     "metadata": {},
     "output_type": "execute_result"
    }
   ],
   "source": [
    "#EVALUATION\n",
    "'''How many POIs are predicted for the test set for your POI identifier?\n",
    "\n",
    "(Note that we said test set! We are not looking for the number of POIs in the whole dataset.)\n",
    "'''"
   ]
  },
  {
   "cell_type": "code",
   "execution_count": 12,
   "id": "144eea64",
   "metadata": {},
   "outputs": [
    {
     "name": "stdout",
     "output_type": "stream",
     "text": [
      "29\n"
     ]
    }
   ],
   "source": [
    "labels_pred = clf.predict(features_test)\n",
    "sum(labels_pred)\n",
    "print(len([e for e in labels_test if e == 1.0]))"
   ]
  },
  {
   "cell_type": "code",
   "execution_count": 11,
   "id": "b867159e",
   "metadata": {},
   "outputs": [
    {
     "data": {
      "text/plain": [
       "29"
      ]
     },
     "execution_count": 11,
     "metadata": {},
     "output_type": "execute_result"
    }
   ],
   "source": [
    "'''How many people total are in your test set?'''\n",
    "len(labels_pred)"
   ]
  },
  {
   "cell_type": "code",
   "execution_count": 14,
   "id": "9c5707a9",
   "metadata": {},
   "outputs": [
    {
     "data": {
      "text/plain": [
       "'If your identifier predicted 0. (not POI) for everyone in the test set, what would its accuracy be?'"
      ]
     },
     "execution_count": 14,
     "metadata": {},
     "output_type": "execute_result"
    }
   ],
   "source": [
    "'''If your identifier predicted 0. (not POI) for everyone in the test set, what would its accuracy be?'''\n"
   ]
  },
  {
   "cell_type": "code",
   "execution_count": 15,
   "id": "1c038669",
   "metadata": {},
   "outputs": [
    {
     "data": {
      "text/plain": [
       "'Look at the predictions of your model and compare them to the true test labels. Do you get any true positives? (In this case, we define a true positive as a case where both the actual label and the predicted label are 1)'"
      ]
     },
     "execution_count": 15,
     "metadata": {},
     "output_type": "execute_result"
    }
   ],
   "source": [
    "'''Look at the predictions of your model and compare them to the true test labels. Do you get any true positives? (In this case, we define a true positive as a case where both the actual label and the predicted label are 1)'''\n",
    "#NO"
   ]
  },
  {
   "cell_type": "code",
   "execution_count": 19,
   "id": "7e1392a4",
   "metadata": {},
   "outputs": [
    {
     "name": "stdout",
     "output_type": "stream",
     "text": [
      "              precision    recall  f1-score   support\n",
      "\n",
      "         0.0       0.91      0.74      0.82        27\n",
      "         1.0       0.00      0.00      0.00         2\n",
      "\n",
      "    accuracy                           0.69        29\n",
      "   macro avg       0.45      0.37      0.41        29\n",
      "weighted avg       0.85      0.69      0.76        29\n",
      "\n"
     ]
    }
   ],
   "source": [
    "from sklearn.metrics import confusion_matrix, precision_score, recall_score, classification_report\n",
    "\n",
    "print(classification_report(labels_test, labels_pred))"
   ]
  },
  {
   "cell_type": "code",
   "execution_count": 20,
   "id": "bfcf08e3",
   "metadata": {},
   "outputs": [
    {
     "name": "stdout",
     "output_type": "stream",
     "text": [
      "0.0\n"
     ]
    }
   ],
   "source": [
    "'''As you may now see, having imbalanced classes like we have in the Enron dataset (many more non-POIs than POIs) introduces some special challenges, namely that you can just guess the more common class label for every point, not a very insightful strategy, and still get pretty good accuracy!\n",
    "\n",
    "Precision and recall can help illuminate your performance better. Use the precision_score and recall_score available in sklearn.metrics to compute those quantities.\n",
    "\n",
    "What’s the precision?\n",
    "'''\n",
    "print(precision_score(labels_test, labels_pred))"
   ]
  },
  {
   "cell_type": "code",
   "execution_count": 21,
   "id": "08316057",
   "metadata": {},
   "outputs": [
    {
     "name": "stdout",
     "output_type": "stream",
     "text": [
      "0.0\n"
     ]
    }
   ],
   "source": [
    "'''What’s the recall?\n",
    "\n",
    "(Note: you may see a message like UserWarning: The precision and recall are equal to zero for some labels. Just like the message says, there can be problems in computing other metrics (like the F1 score) when precision and/or recall are zero, and it wants to warn you when that happens.)\n",
    "\n",
    "Obviously this isn’t a very optimized machine learning strategy (we haven’t tried any algorithms besides the decision tree, or tuned any parameters, or done any feature selection), and now seeing the precision and recall should make that much more apparent than the accuracy did.'''\n",
    "\n",
    "print(recall_score(labels_test, labels_pred))"
   ]
  },
  {
   "cell_type": "code",
   "execution_count": 22,
   "id": "f5fc55df",
   "metadata": {},
   "outputs": [
    {
     "data": {
      "text/plain": [
       "array([[9, 3],\n",
       "       [2, 6]])"
      ]
     },
     "execution_count": 22,
     "metadata": {},
     "output_type": "execute_result"
    }
   ],
   "source": [
    "'''In the final project you’ll work on optimizing your POI identifier, using many of the tools learned in this course. Hopefully one result will be that your precision and/or recall will go up, but then you’ll have to be able to interpret them.\n",
    "\n",
    "Here are some made-up predictions and true labels for a hypothetical test set; fill in the following boxes to practice identifying true positives, false positives, true negatives, and false negatives. Let’s use the convention that “1” signifies a positive result, and “0” a negative.\n",
    "\n",
    "predictions = [0, 1, 1, 0, 0, 0, 1, 0, 1, 0, 0, 1, 0, 0, 1, 1, 0, 1, 0, 1]\n",
    "true labels = [0, 0, 0, 0, 0, 0, 1, 0, 1, 1, 0, 1, 0, 1, 1, 1, 0, 1, 0, 0]\n",
    "\n",
    "How many true positives are there?\n",
    "'''\n",
    "\n",
    "predictions = [0, 1, 1, 0, 0, 0, 1, 0, 1, 0, 0, 1, 0, 0, 1, 1, 0, 1, 0, 1]\n",
    "true_labels = [0, 0, 0, 0, 0, 0, 1, 0, 1, 1, 0, 1, 0, 1, 1, 1, 0, 1, 0, 0]\n",
    "\n",
    "cm = confusion_matrix(true_labels, predictions)\n",
    "cm"
   ]
  },
  {
   "cell_type": "code",
   "execution_count": 23,
   "id": "065fa059",
   "metadata": {},
   "outputs": [],
   "source": [
    "#True positives = 6\n",
    "#true negatives = 9\n",
    "#false positives = 3\n",
    "#false negatives = 2"
   ]
  },
  {
   "cell_type": "code",
   "execution_count": 24,
   "id": "33808720",
   "metadata": {},
   "outputs": [
    {
     "name": "stdout",
     "output_type": "stream",
     "text": [
      "0.6666666666666666\n"
     ]
    }
   ],
   "source": [
    "'''predictions = [0, 1, 1, 0, 0, 0, 1, 0, 1, 0, 0, 1, 0, 0, 1, 1, 0, 1, 0, 1]\n",
    "true labels = [0, 0, 0, 0, 0, 0, 1, 0, 1, 1, 0, 1, 0, 1, 1, 1, 0, 1, 0, 0]\n",
    "\n",
    "What's the precision of this classifier?\n",
    "'''\n",
    "print(precision_score(true_labels, predictions))"
   ]
  },
  {
   "cell_type": "code",
   "execution_count": 25,
   "id": "86f31c5f",
   "metadata": {},
   "outputs": [
    {
     "name": "stdout",
     "output_type": "stream",
     "text": [
      "0.75\n"
     ]
    }
   ],
   "source": [
    "#WHat's the recall\n",
    "print(recall_score(true_labels, predictions))"
   ]
  },
  {
   "cell_type": "code",
   "execution_count": null,
   "id": "d3f156ae",
   "metadata": {},
   "outputs": [],
   "source": []
  }
 ],
 "metadata": {
  "kernelspec": {
   "display_name": "Python 3 (ipykernel)",
   "language": "python",
   "name": "python3"
  },
  "language_info": {
   "codemirror_mode": {
    "name": "ipython",
    "version": 3
   },
   "file_extension": ".py",
   "mimetype": "text/x-python",
   "name": "python",
   "nbconvert_exporter": "python",
   "pygments_lexer": "ipython3",
   "version": "3.9.12"
  }
 },
 "nbformat": 4,
 "nbformat_minor": 5
}
